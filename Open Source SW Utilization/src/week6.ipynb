{
 "metadata": {
  "language_info": {
   "codemirror_mode": {
    "name": "ipython",
    "version": 3
   },
   "file_extension": ".py",
   "mimetype": "text/x-python",
   "name": "python",
   "nbconvert_exporter": "python",
   "pygments_lexer": "ipython3",
   "version": "3.8.5-final"
  },
  "orig_nbformat": 2,
  "kernelspec": {
   "name": "python385jvsc74a57bd0916dbcbb3f70747c44a77c7bcd40155683ae19c65e1c03b4aa3499c5328201f1",
   "display_name": "Python 3.8.5 64-bit"
  },
  "metadata": {
   "interpreter": {
    "hash": "916dbcbb3f70747c44a77c7bcd40155683ae19c65e1c03b4aa3499c5328201f1"
   }
  }
 },
 "nbformat": 4,
 "nbformat_minor": 2,
 "cells": [
  {
   "source": [
    "## \\[Item 15\\] Be Cautious When Relying on dict Insertion Ordering"
   ],
   "cell_type": "markdown",
   "metadata": {}
  },
  {
   "cell_type": "code",
   "execution_count": 1,
   "metadata": {},
   "outputs": [
    {
     "output_type": "stream",
     "name": "stdout",
     "text": [
      "{'cat': 'kitten', 'dog': 'puppy'}\n"
     ]
    }
   ],
   "source": [
    "# Python 3.5\n",
    "baby_names = {\n",
    " 'cat': 'kitten',\n",
    " 'dog': 'puppy',\n",
    "}\n",
    "print(baby_names)"
   ]
  },
  {
   "cell_type": "code",
   "execution_count": 2,
   "metadata": {},
   "outputs": [
    {
     "output_type": "stream",
     "name": "stdout",
     "text": [
      "{'cat': 'kitten', 'dog': 'puppy'}\n"
     ]
    }
   ],
   "source": [
    "# Python 3.6+\n",
    "baby_names = {\n",
    " 'cat': 'kitten',\n",
    " 'dog': 'puppy',\n",
    "}\n",
    "print(baby_names)"
   ]
  },
  {
   "cell_type": "code",
   "execution_count": 3,
   "metadata": {},
   "outputs": [
    {
     "output_type": "stream",
     "name": "stdout",
     "text": [
      "['cat', 'dog']\n['kitten', 'puppy']\n[('cat', 'kitten'), ('dog', 'puppy')]\n('dog', 'puppy')\n"
     ]
    }
   ],
   "source": [
    "# Python 3.5\n",
    "print(list(baby_names.keys()))\n",
    "print(list(baby_names.values()))\n",
    "print(list(baby_names.items()))\n",
    "print(baby_names.popitem()) # Randomly chooses an item"
   ]
  },
  {
   "cell_type": "code",
   "execution_count": 4,
   "metadata": {},
   "outputs": [
    {
     "output_type": "stream",
     "name": "stdout",
     "text": [
      "['cat']\n['kitten']\n[('cat', 'kitten')]\n('cat', 'kitten')\n"
     ]
    }
   ],
   "source": [
    "print(list(baby_names.keys()))\n",
    "print(list(baby_names.values()))\n",
    "print(list(baby_names.items()))\n",
    "print(baby_names.popitem()) # Last item inserted"
   ]
  },
  {
   "cell_type": "code",
   "execution_count": 6,
   "metadata": {},
   "outputs": [
    {
     "output_type": "stream",
     "name": "stdout",
     "text": [
      "goose = gosling\nkangaroo = joey\n"
     ]
    }
   ],
   "source": [
    "# Python 3.5\n",
    "def my_func(**kwargs):\n",
    "    for key, value in kwargs.items():\n",
    "        print('%s = %s' % (key, value))\n",
    "my_func(goose='gosling', kangaroo='joey')"
   ]
  },
  {
   "cell_type": "code",
   "execution_count": 9,
   "metadata": {},
   "outputs": [
    {
     "output_type": "stream",
     "name": "stdout",
     "text": [
      "alligator = hatchling\nelephant = calf\n"
     ]
    }
   ],
   "source": [
    "# Python 3.5\n",
    "class MyClass:\n",
    "    def __init__(self):\n",
    "        self.alligator = 'hatchling'\n",
    "        self.elephant = 'calf'\n",
    "a = MyClass()\n",
    "for key, value in a.__dict__.items():\n",
    "    print('%s = %s' % (key, value))"
   ]
  },
  {
   "cell_type": "code",
   "execution_count": 10,
   "metadata": {},
   "outputs": [
    {
     "output_type": "stream",
     "name": "stdout",
     "text": [
      "alligator = hatchling\nelephant = calf\n"
     ]
    }
   ],
   "source": [
    "# Python 3.7+\n",
    "class MyClass:\n",
    "    def __init__(self):\n",
    "        self.alligator = 'hatchling'\n",
    "        self.elephant = 'calf'\n",
    "a = MyClass()\n",
    "for key, value in a.__dict__.items():\n",
    "    print('%s = %s' % (key, value))"
   ]
  },
  {
   "cell_type": "code",
   "execution_count": 11,
   "metadata": {},
   "outputs": [],
   "source": [
    "votes = { 'otter': 1281, 'polar bear': 587, 'fox': 863 }"
   ]
  },
  {
   "cell_type": "code",
   "execution_count": 12,
   "metadata": {},
   "outputs": [],
   "source": [
    "def populate_ranks(votes, ranks):\n",
    "    names = list(votes.keys())\n",
    "    names.sort(key=votes.get, reverse=True)\n",
    "    for i, name in enumerate(names, 1):\n",
    "        ranks[name] = i"
   ]
  },
  {
   "cell_type": "code",
   "execution_count": 14,
   "metadata": {},
   "outputs": [],
   "source": [
    "def get_winner(ranks):\n",
    "    return next(iter(ranks))"
   ]
  },
  {
   "cell_type": "code",
   "execution_count": 15,
   "metadata": {},
   "outputs": [
    {
     "output_type": "stream",
     "name": "stdout",
     "text": [
      "{'otter': 1, 'fox': 2, 'polar bear': 3}\notter\n"
     ]
    }
   ],
   "source": [
    "ranks = {}\n",
    "populate_ranks(votes, ranks)\n",
    "print(ranks)\n",
    "winner = get_winner(ranks)\n",
    "print(winner)"
   ]
  },
  {
   "cell_type": "code",
   "execution_count": 23,
   "metadata": {},
   "outputs": [],
   "source": [
    "from collections.abc import MutableMapping\n",
    "class SortedDict(MutableMapping):\n",
    "    def __init__(self):\n",
    "        self.data = {}\n",
    "    def __getitem__(self, key):\n",
    "        return self.data[key]\n",
    "    def __setitem__(self, key, value):\n",
    "        self.data[key] = value\n",
    "    def __delitem__(self, key):\n",
    "        del self.data[key]\n",
    "    def __iter__(self):\n",
    "        keys = list(self.data.keys())\n",
    "        keys.sort()\n",
    "        for key in keys:\n",
    "            yield key\n",
    "    def __len__(self): #앞위에 underscore가 2개씩있는 함수는 operator overloading을 지원하는 special method\n",
    "        return len(self.data)"
   ]
  },
  {
   "cell_type": "code",
   "execution_count": 18,
   "metadata": {},
   "outputs": [
    {
     "output_type": "stream",
     "name": "stdout",
     "text": [
      "{'otter': 1, 'fox': 2, 'polar bear': 3}\nfox\n"
     ]
    }
   ],
   "source": [
    "sorted_ranks = SortedDict()\n",
    "populate_ranks(votes, sorted_ranks)\n",
    "print(sorted_ranks.data)\n",
    "winner = get_winner(sorted_ranks)\n",
    "print(winner)"
   ]
  },
  {
   "source": [
    "딕셔너리에서는 alpabet순서를 따르기 때문에 이러한 오류가 발생"
   ],
   "cell_type": "markdown",
   "metadata": {}
  },
  {
   "cell_type": "code",
   "execution_count": 26,
   "metadata": {},
   "outputs": [
    {
     "output_type": "stream",
     "name": "stdout",
     "text": [
      "otter\n"
     ]
    }
   ],
   "source": [
    "#Solution 1 : Conservative and robust solution\n",
    "def get_winner(ranks):\n",
    "    for name, rank in ranks.items():\n",
    "        if rank == 1:\n",
    "            return name\n",
    "winner = get_winner(sorted_ranks)\n",
    "print(winner)"
   ]
  },
  {
   "cell_type": "code",
   "execution_count": 27,
   "metadata": {},
   "outputs": [
    {
     "output_type": "error",
     "ename": "TypeError",
     "evalue": "must provide a dict instance",
     "traceback": [
      "\u001b[0;31m---------------------------------------------------------------------------\u001b[0m",
      "\u001b[0;31mTypeError\u001b[0m                                 Traceback (most recent call last)",
      "\u001b[0;32m<ipython-input-27-c3de71bcc1cc>\u001b[0m in \u001b[0;36m<module>\u001b[0;34m\u001b[0m\n\u001b[1;32m      4\u001b[0m         \u001b[0;32mraise\u001b[0m \u001b[0mTypeError\u001b[0m\u001b[0;34m(\u001b[0m\u001b[0;34m'must provide a dict instance'\u001b[0m\u001b[0;34m)\u001b[0m\u001b[0;34m\u001b[0m\u001b[0;34m\u001b[0m\u001b[0m\n\u001b[1;32m      5\u001b[0m     \u001b[0;32mreturn\u001b[0m \u001b[0mnext\u001b[0m\u001b[0;34m(\u001b[0m\u001b[0miter\u001b[0m\u001b[0;34m(\u001b[0m\u001b[0mranks\u001b[0m\u001b[0;34m)\u001b[0m\u001b[0;34m)\u001b[0m\u001b[0;34m\u001b[0m\u001b[0;34m\u001b[0m\u001b[0m\n\u001b[0;32m----> 6\u001b[0;31m \u001b[0mget_winner\u001b[0m\u001b[0;34m(\u001b[0m\u001b[0msorted_ranks\u001b[0m\u001b[0;34m)\u001b[0m\u001b[0;34m\u001b[0m\u001b[0;34m\u001b[0m\u001b[0m\n\u001b[0m",
      "\u001b[0;32m<ipython-input-27-c3de71bcc1cc>\u001b[0m in \u001b[0;36mget_winner\u001b[0;34m(ranks)\u001b[0m\n\u001b[1;32m      2\u001b[0m \u001b[0;32mdef\u001b[0m \u001b[0mget_winner\u001b[0m\u001b[0;34m(\u001b[0m\u001b[0mranks\u001b[0m\u001b[0;34m)\u001b[0m\u001b[0;34m:\u001b[0m\u001b[0;34m\u001b[0m\u001b[0;34m\u001b[0m\u001b[0m\n\u001b[1;32m      3\u001b[0m     \u001b[0;32mif\u001b[0m \u001b[0;32mnot\u001b[0m \u001b[0misinstance\u001b[0m\u001b[0;34m(\u001b[0m\u001b[0mranks\u001b[0m\u001b[0;34m,\u001b[0m \u001b[0mdict\u001b[0m\u001b[0;34m)\u001b[0m\u001b[0;34m:\u001b[0m\u001b[0;34m\u001b[0m\u001b[0;34m\u001b[0m\u001b[0m\n\u001b[0;32m----> 4\u001b[0;31m         \u001b[0;32mraise\u001b[0m \u001b[0mTypeError\u001b[0m\u001b[0;34m(\u001b[0m\u001b[0;34m'must provide a dict instance'\u001b[0m\u001b[0;34m)\u001b[0m\u001b[0;34m\u001b[0m\u001b[0;34m\u001b[0m\u001b[0m\n\u001b[0m\u001b[1;32m      5\u001b[0m     \u001b[0;32mreturn\u001b[0m \u001b[0mnext\u001b[0m\u001b[0;34m(\u001b[0m\u001b[0miter\u001b[0m\u001b[0;34m(\u001b[0m\u001b[0mranks\u001b[0m\u001b[0;34m)\u001b[0m\u001b[0;34m)\u001b[0m\u001b[0;34m\u001b[0m\u001b[0;34m\u001b[0m\u001b[0m\n\u001b[1;32m      6\u001b[0m \u001b[0mget_winner\u001b[0m\u001b[0;34m(\u001b[0m\u001b[0msorted_ranks\u001b[0m\u001b[0;34m)\u001b[0m\u001b[0;34m\u001b[0m\u001b[0;34m\u001b[0m\u001b[0m\n",
      "\u001b[0;31mTypeError\u001b[0m: must provide a dict instance"
     ]
    }
   ],
   "source": [
    "# Solution 2 : Add an explicit check\n",
    "def get_winner(ranks):\n",
    "    if not isinstance(ranks, dict):\n",
    "        raise TypeError('must provide a dict instance')\n",
    "    return next(iter(ranks))\n",
    "get_winner(sorted_ranks)"
   ]
  },
  {
   "cell_type": "code",
   "execution_count": 35,
   "metadata": {},
   "outputs": [
    {
     "output_type": "stream",
     "name": "stdout",
     "text": [
      "{'otter': 1, 'fox': 2, 'polar bear': 3}\nfox\n"
     ]
    }
   ],
   "source": [
    "# Solution 3 : Use type annotations\n",
    "from typing import Dict,MutableMapping\n",
    "def populate_ranks(votes: Dict[str, int],\n",
    "    ranks: Dict[str, int]) -> None:\n",
    "        names = list(votes.keys())\n",
    "        names.sort(key=votes.get, reverse=True)\n",
    "        for i, name in enumerate(names, 1):\n",
    "            ranks[name] = i\n",
    "def get_winner(ranks: Dict[str, int]) -> str:\n",
    "    return next(iter(ranks)) # lead to the error\n",
    "sorted_ranks = SortedDict()\n",
    "populate_ranks(votes, sorted_ranks)\n",
    "print(sorted_ranks.data)\n",
    "winner = get_winner(sorted_ranks)\n",
    "print(winner)\n"
   ]
  },
  {
   "cell_type": "code",
   "execution_count": 34,
   "metadata": {},
   "outputs": [
    {
     "output_type": "stream",
     "name": "stdout",
     "text": [
      "{'otter': 1, 'fox': 2, 'polar bear': 3}\notter\n"
     ]
    }
   ],
   "source": [
    "# (another way) find the key for a certain value\n",
    "def get_key(ranks, val):\n",
    "    for key, value in ranks.items():\n",
    "        if val == value:\n",
    "            return key\n",
    "def get_winner(ranks: Dict[str, int]) -> str:\n",
    "    return get_key(ranks, 1)\n",
    "    \n",
    "class SortedDict(MutableMapping[str, int]):\n",
    "    def __init__(self):\n",
    "        self.data = {}\n",
    "    def __getitem__(self, key):\n",
    "        return self.data[key]\n",
    "    def __setitem__(self, key, value):\n",
    "        self.data[key] = value\n",
    "    def __delitem__(self, key):\n",
    "        del self.data[key]\n",
    "    def __iter__(self):\n",
    "        keys = list(self.data.keys())\n",
    "        keys.sort()\n",
    "        for key in keys:\n",
    "            yield key\n",
    "    def __len__(self):\n",
    "        return len(self.data)\n",
    "\n",
    "votes = {\n",
    " 'otter': 1281,\n",
    " 'polar bear': 587,\n",
    " 'fox': 863,\n",
    "}\n",
    "sorted_ranks = SortedDict()\n",
    "populate_ranks(votes, sorted_ranks)\n",
    "print(sorted_ranks.data)\n",
    "winner = get_winner(sorted_ranks)\n",
    "print(winner)"
   ]
  },
  {
   "source": [
    "## Role of Underscore _ in Python"
   ],
   "cell_type": "markdown",
   "metadata": {}
  },
  {
   "source": [
    "for _ in range(50):\n",
    "__init__(self)\n",
    "_ = 2"
   ],
   "cell_type": "code",
   "metadata": {},
   "execution_count": null,
   "outputs": []
  },
  {
   "source": [
    "- 특별히 이름을 지어주지 않아도 될때\n",
    "- access modifier\n",
    "1. Use in Python interpreter\n",
    "2. Ignore values\n",
    "3. Use in loop\n",
    "4. Separate digits of numbers\n",
    "5. Naming\n",
    "  - Single Pre Underscore\n",
    "  - Single Post Underscore\n",
    "  - Double Pre Undescores\n",
    "  - Double Pre And Post Underscores"
   ],
   "cell_type": "markdown",
   "metadata": {}
  },
  {
   "source": [
    "### 1. Python automatically stores the value of the last expression"
   ],
   "cell_type": "markdown",
   "metadata": {}
  },
  {
   "cell_type": "code",
   "execution_count": 45,
   "metadata": {},
   "outputs": [
    {
     "output_type": "execute_result",
     "data": {
      "text/plain": [
       "9"
      ]
     },
     "metadata": {},
     "execution_count": 45
    }
   ],
   "source": [
    "4 + 5"
   ]
  },
  {
   "cell_type": "code",
   "execution_count": 46,
   "metadata": {},
   "outputs": [
    {
     "output_type": "execute_result",
     "data": {
      "text/plain": [
       "49"
      ]
     },
     "metadata": {},
     "execution_count": 46
    }
   ],
   "source": [
    "_"
   ]
  },
  {
   "cell_type": "code",
   "execution_count": 53,
   "metadata": {},
   "outputs": [
    {
     "output_type": "execute_result",
     "data": {
      "text/plain": [
       "56"
      ]
     },
     "metadata": {},
     "execution_count": 53
    }
   ],
   "source": [
    " _ + 7"
   ]
  },
  {
   "source": [
    "### 2. Ignore values"
   ],
   "cell_type": "markdown",
   "metadata": {}
  },
  {
   "cell_type": "code",
   "execution_count": 56,
   "metadata": {},
   "outputs": [
    {
     "output_type": "stream",
     "name": "stdout",
     "text": [
      "1 3\n7 1\n"
     ]
    }
   ],
   "source": [
    "a, _, b = (1, 2, 3) # a = 1, b = 3\n",
    "print(a, b)\n",
    "## ignoring multiple values\n",
    "## *(variable) used to assign multiple value to a variable as list while unpacking\n",
    "## it's called \"Extended Unpacking\", only available in Python 3.x\n",
    "a, *_, b = (7, 6, 5, 4, 3, 2, 1)\n",
    "print(a, b)"
   ]
  },
  {
   "source": [
    "### 3. Use in loop"
   ],
   "cell_type": "markdown",
   "metadata": {}
  },
  {
   "cell_type": "code",
   "execution_count": 57,
   "metadata": {},
   "outputs": [
    {
     "output_type": "stream",
     "name": "stdout",
     "text": [
      "0\n1\n2\n3\n4\nPython\nJS\nPHP\nJava\n5 6 7 8 9 "
     ]
    }
   ],
   "source": [
    "## lopping ten times using _\n",
    "for _ in range(5):\n",
    "    print(_)\n",
    "## iterating over a list using _\n",
    "## you can use _ same as a variable\n",
    "languages = [\"Python\", \"JS\", \"PHP\", \"Java\"]\n",
    "for _ in languages:\n",
    "    print(_)\n",
    "_ = 5\n",
    "while _ < 10:\n",
    "    print(_, end = ' ') # default value of 'end' id '\\n' in python. we're changing it to space\n",
    "    _ += 1"
   ]
  },
  {
   "source": [
    "### 4. Separate digits of numbers"
   ],
   "cell_type": "markdown",
   "metadata": {}
  },
  {
   "cell_type": "code",
   "execution_count": 58,
   "metadata": {},
   "outputs": [
    {
     "output_type": "stream",
     "name": "stdout",
     "text": [
      "1000000\n2\n52\n9131\n"
     ]
    }
   ],
   "source": [
    "## different number systems\n",
    "## you can also check whether they are correct or not by coverting them into integer using \"int\" method\n",
    "million = 1_000_000\n",
    "binary = 0b_0010\n",
    "octa = 0o_64\n",
    "hexa = 0x_23_ab\n",
    "print(million)\n",
    "print(binary)\n",
    "print(octa)\n",
    "print(hexa)"
   ]
  },
  {
   "source": [
    "숫자 표현을 끊어서 표현해 주어서 가독성이 좋은것 같습니다."
   ],
   "cell_type": "markdown",
   "metadata": {}
  },
  {
   "source": [
    "### 5. Naming\n",
    "#### 1. Single pre-underscore, _name\n",
    "- Used for internal use \n",
    "- Python doesn't import the names which starts with a single pre underscore."
   ],
   "cell_type": "markdown",
   "metadata": {}
  },
  {
   "cell_type": "code",
   "execution_count": 59,
   "metadata": {},
   "outputs": [
    {
     "output_type": "stream",
     "name": "stdout",
     "text": [
      "Dankook Unversity\n7\n"
     ]
    }
   ],
   "source": [
    "class Test:\n",
    "    def __init__(self):\n",
    "        self.name = \"Dankook Unversity\"\n",
    "        self._num = 7\n",
    "obj = Test()\n",
    "print(obj.name)\n",
    "print(obj._num)"
   ]
  },
  {
   "cell_type": "code",
   "execution_count": null,
   "metadata": {},
   "outputs": [],
   "source": [
    "## filename:- my_functions.py\n",
    "def func():\n",
    "    return \"Dankook Unversity\"\n",
    "def _private_func():\n",
    "    return 7"
   ]
  },
  {
   "source": [
    "single underscore로 시작하는 `_private_func()`의 경우 from import 를 통해 외부에서 사용할 수 없음"
   ],
   "cell_type": "markdown",
   "metadata": {}
  },
  {
   "source": [
    ">>> def function(class):\n",
    " File \"<stdin>\", line 1\n",
    " def function(class):\n",
    " ^\n",
    "SyntaxError: invalid syntax\n",
    ">>> def function(class_):\n",
    "... pass\n",
    "...\n",
    ">>>\n",
    ">>>"
   ],
   "cell_type": "code",
   "metadata": {},
   "execution_count": null,
   "outputs": []
  },
  {
   "source": [
    "1. Single post-underscore, name_\n",
    "- Use Python Keywords as a variable, function or class names, you can use this convention for that\n",
    "- Can avoid conflicts with the Python Keywords by adding an underscore at the end of the name which you want to use\n",
    "\n",
    "underscore를 통해 nameing comfict를 방지할 수 있다."
   ],
   "cell_type": "markdown",
   "metadata": {}
  },
  {
   "source": [
    "2. Double pre-underscore, __name ,\n",
    "\n",
    "- Tell the Python interpreter to rewrite the attribute name of subclasses to avoid naming conflicts\n",
    "- Name Mangling:- interpreter of the Python alters the variable name in a way that it is challenging to clash when the class is inherited\n",
    "\n",
    "- 더블 언더스코어의 경우 파이썬 인터프리터가 임의로 변수이름을 변경\n",
    "- 따라서 클래스의method를 통해 출력해야 한다"
   ],
   "cell_type": "markdown",
   "metadata": {}
  },
  {
   "cell_type": "code",
   "execution_count": 60,
   "metadata": {},
   "outputs": [],
   "source": [
    "def __init__(self):\n",
    "    self.a = 1\n",
    "    self._b = 2\n",
    "    self.__c = 3"
   ]
  },
  {
   "cell_type": "code",
   "execution_count": 61,
   "metadata": {},
   "outputs": [
    {
     "output_type": "stream",
     "name": "stdout",
     "text": [
      "overridden\noverridden\noverridden\n"
     ]
    }
   ],
   "source": [
    "class Sample():\n",
    "    def __init__(self):\n",
    "        self.a = 1\n",
    "        self._b = 2\n",
    "        self.__c = 3\n",
    "class SecondClass(Sample):\n",
    "    def __init__(self):\n",
    "        super().__init__()\n",
    "        self.a = \"overridden\"\n",
    "        self._b = \"overridden\"\n",
    "        self.__c = \"overridden\"\n",
    "obj1 = Sample()\n",
    "obj2 = SecondClass()\n",
    "print(obj2.a)\n",
    "print(obj2._b)\n",
    "print(obj2._SecondClass__c)"
   ]
  },
  {
   "cell_type": "code",
   "execution_count": 62,
   "metadata": {},
   "outputs": [
    {
     "output_type": "stream",
     "name": "stdout",
     "text": [
      "Excellent\n"
     ]
    }
   ],
   "source": [
    "class SimpleClass:\n",
    "    def __init__(self):\n",
    "        self.__datacamp = \"Excellent\"\n",
    "    def get_datacamp(self):\n",
    "        return self.__datacamp\n",
    "obj = SimpleClass()\n",
    "print(obj.get_datacamp())"
   ]
  },
  {
   "source": [
    "메서드를 통해 변수 접근"
   ],
   "cell_type": "markdown",
   "metadata": {}
  },
  {
   "cell_type": "code",
   "execution_count": 63,
   "metadata": {},
   "outputs": [
    {
     "output_type": "execute_result",
     "data": {
      "text/plain": [
       "7"
      ]
     },
     "metadata": {},
     "execution_count": 63
    }
   ],
   "source": [
    "class Sample():\n",
    "    def __init__(self):\n",
    "        self.__num__ = 7\n",
    "obj = Sample()\n",
    "obj.__num__"
   ]
  }
 ]
}