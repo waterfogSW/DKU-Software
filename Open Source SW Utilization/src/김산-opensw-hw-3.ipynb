{
 "metadata": {
  "language_info": {
   "codemirror_mode": {
    "name": "ipython",
    "version": 3
   },
   "file_extension": ".py",
   "mimetype": "text/x-python",
   "name": "python",
   "nbconvert_exporter": "python",
   "pygments_lexer": "ipython3",
   "version": "3.8.5"
  },
  "orig_nbformat": 2,
  "kernelspec": {
   "name": "python385jvsc74a57bd0916dbcbb3f70747c44a77c7bcd40155683ae19c65e1c03b4aa3499c5328201f1",
   "display_name": "Python 3.8.5 64-bit"
  },
  "metadata": {
   "interpreter": {
    "hash": "916dbcbb3f70747c44a77c7bcd40155683ae19c65e1c03b4aa3499c5328201f1"
   }
  }
 },
 "nbformat": 4,
 "nbformat_minor": 2,
 "cells": [
  {
   "source": [
    "## \\[Item 25\\] Enforce Clarity with KeywordOnly and Positional-Only Arguments"
   ],
   "cell_type": "markdown",
   "metadata": {}
  },
  {
   "cell_type": "code",
   "execution_count": 4,
   "metadata": {},
   "outputs": [
    {
     "output_type": "stream",
     "name": "stdout",
     "text": [
      "0\ninf\n"
     ]
    }
   ],
   "source": [
    "def safe_division(number, divisor, ignore_overflow, ignore_zero_division):\n",
    " try:\n",
    "    return number / divisor\n",
    " except OverflowError:\n",
    "    if ignore_overflow:\n",
    "        return 0\n",
    "    else:\n",
    "        raise\n",
    " except ZeroDivisionError:\n",
    "    if ignore_zero_division:\n",
    "        return float('inf')\n",
    "    else:\n",
    "        raise\n",
    "result = safe_division(1.0, 10**500, True, False)\n",
    "print(result)\n",
    "result = safe_division(1.0, 0.0, False, True)\n",
    "print(result)"
   ]
  },
  {
   "cell_type": "code",
   "execution_count": 6,
   "metadata": {},
   "outputs": [
    {
     "output_type": "stream",
     "name": "stdout",
     "text": [
      "0\ninf\n"
     ]
    }
   ],
   "source": [
    "def safe_division(number, divisor, ignore_overflow=False, ignore_zero_division=False):\n",
    "    try:\n",
    "        return number / divisor\n",
    "    except OverflowError:\n",
    "        if ignore_overflow:\n",
    "            return 0\n",
    "        else:\n",
    "            raise\n",
    "    except ZeroDivisionError:\n",
    "        if ignore_zero_division:\n",
    "            return float('inf')\n",
    "    else:\n",
    "        raise\n",
    "\n",
    "result = safe_division(1.0, 10**500, ignore_overflow=True)\n",
    "print(result)\n",
    "result = safe_division(1.0, 0.0, ignore_zero_division=True)\n",
    "print(result)"
   ]
  },
  {
   "source": [
    "## \\[Item 26\\] Define Function Decorators with functools.wraps"
   ],
   "cell_type": "markdown",
   "metadata": {}
  },
  {
   "cell_type": "code",
   "execution_count": 11,
   "metadata": {},
   "outputs": [
    {
     "output_type": "stream",
     "name": "stdout",
     "text": [
      "fibonacci((0,), {}) -> 0\nwrapper((0,), {}) -> 0\nfibonacci((1,), {}) -> 1\nwrapper((1,), {}) -> 1\nfibonacci((2,), {}) -> 1\nwrapper((2,), {}) -> 1\nfibonacci((1,), {}) -> 1\nwrapper((1,), {}) -> 1\nfibonacci((0,), {}) -> 0\nwrapper((0,), {}) -> 0\nfibonacci((1,), {}) -> 1\nwrapper((1,), {}) -> 1\nfibonacci((2,), {}) -> 1\nwrapper((2,), {}) -> 1\nfibonacci((3,), {}) -> 2\nwrapper((3,), {}) -> 2\nfibonacci((4,), {}) -> 3\nwrapper((4,), {}) -> 3\n"
     ]
    },
    {
     "output_type": "execute_result",
     "data": {
      "text/plain": [
       "3"
      ]
     },
     "metadata": {},
     "execution_count": 11
    }
   ],
   "source": [
    "def trace(func):\n",
    "    def wrapper(*args, **kwargs):\n",
    "        result = func(*args, **kwargs)\n",
    "        print(f'{func.__name__}({args!r}, {kwargs!r}) -> {result!r}')\n",
    "        return result\n",
    "    return wrapper\n",
    "\n",
    "@trace\n",
    "def fibonacci(n):\n",
    "    \"\"\"Return the n-th Fibonacci number\"\"\"\n",
    "    if n in (0, 1):\n",
    "        return n;\n",
    "    return (fibonacci(n - 2) + fibonacci(n - 1))\n",
    "\n",
    "fibonacci = trace(fibonacci)\n",
    "fibonacci(4)"
   ]
  },
  {
   "cell_type": "code",
   "execution_count": 18,
   "metadata": {},
   "outputs": [
    {
     "output_type": "stream",
     "name": "stdout",
     "text": [
      "<function trace.<locals>.wrapper at 0x7fd3c7f9dee0>\nHelp on function wrapper in module __main__:\n\nwrapper(*args, **kwargs)\n\n"
     ]
    }
   ],
   "source": [
    "print(fibonacci)\n",
    "help(fibonacci)"
   ]
  },
  {
   "cell_type": "code",
   "execution_count": 23,
   "metadata": {},
   "outputs": [
    {
     "output_type": "stream",
     "name": "stdout",
     "text": [
      "fibonacci((1,), {}) -> 1\nwrapper((1,), {}) -> 1\n"
     ]
    },
    {
     "output_type": "execute_result",
     "data": {
      "text/plain": [
       "b'\\x80\\x04K\\x01.'"
      ]
     },
     "metadata": {},
     "execution_count": 23
    }
   ],
   "source": [
    "import pickle\n",
    "pickle.dumps(fibonacci(1))"
   ]
  },
  {
   "cell_type": "code",
   "execution_count": 24,
   "metadata": {},
   "outputs": [
    {
     "output_type": "stream",
     "name": "stdout",
     "text": [
      "Help on function fibonacci in module __main__:\n\nfibonacci(n)\n\nb'\\x80\\x04\\x95\\x1a\\x00\\x00\\x00\\x00\\x00\\x00\\x00\\x8c\\x08__main__\\x94\\x8c\\tfibonacci\\x94\\x93\\x94.'\n"
     ]
    }
   ],
   "source": [
    "from functools import wraps\n",
    "def trace(func):\n",
    "    @wraps(func)\n",
    "    def wrapper(*args, **kwargs):\n",
    "        result = func(*args, **kwargs)\n",
    "        print(f'{func.__name__}({args!r}, {kwargs!r}) -> {result!r}')\n",
    "        return result\n",
    "    return wrapper\n",
    "\n",
    "@trace\n",
    "def fibonacci(n):\n",
    "    if n in (0, 1):\n",
    "        return n\n",
    "    return (fibonacci(n - 2) + fibonacci(n - 1))\n",
    "\n",
    "help(fibonacci)\n",
    "\n",
    "import pickle\n",
    "\n",
    "print(pickle.dumps(fibonacci))"
   ]
  },
  {
   "cell_type": "code",
   "execution_count": 25,
   "metadata": {},
   "outputs": [
    {
     "output_type": "stream",
     "name": "stdout",
     "text": [
      "<function fibonacci at 0x7fd3c7e4d8b0>\nHelp on function fibonacci in module __main__:\n\nfibonacci(n)\n\n"
     ]
    },
    {
     "output_type": "execute_result",
     "data": {
      "text/plain": [
       "b'\\x80\\x04\\x95\\x1a\\x00\\x00\\x00\\x00\\x00\\x00\\x00\\x8c\\x08__main__\\x94\\x8c\\tfibonacci\\x94\\x93\\x94.'"
      ]
     },
     "metadata": {},
     "execution_count": 25
    }
   ],
   "source": [
    "print(fibonacci)\n",
    "help(fibonacci)\n",
    "\n",
    "import pickle\n",
    "\n",
    "pickle.dumps(fibonacci)"
   ]
  },
  {
   "source": [
    "## \\[Item 27\\] Use Comprehensions instead of map adn filter"
   ],
   "cell_type": "markdown",
   "metadata": {}
  },
  {
   "cell_type": "code",
   "execution_count": 26,
   "metadata": {},
   "outputs": [
    {
     "output_type": "stream",
     "name": "stdout",
     "text": [
      "[1, 4, 9, 16, 25, 36, 49, 64, 81, 100]\n"
     ]
    }
   ],
   "source": [
    "a = [1, 2, 3, 4, 5, 6, 7, 8, 9, 10]\n",
    "squares = []\n",
    "for x in a:\n",
    "    squares.append(x**2)\n",
    "print(squares)"
   ]
  },
  {
   "cell_type": "code",
   "execution_count": 27,
   "metadata": {},
   "outputs": [
    {
     "output_type": "stream",
     "name": "stdout",
     "text": [
      "[1, 4, 9, 16, 25, 36, 49, 64, 81, 100]\n"
     ]
    }
   ],
   "source": [
    "a = [1, 2, 3, 4, 5, 6, 7, 8, 9, 10]\n",
    "squares = [x**2 for x in a]\n",
    "print(squares)"
   ]
  },
  {
   "cell_type": "code",
   "execution_count": 37,
   "metadata": {},
   "outputs": [],
   "source": [
    "alt = map(lambda x: x**2, a)"
   ]
  },
  {
   "cell_type": "code",
   "execution_count": 31,
   "metadata": {},
   "outputs": [
    {
     "output_type": "stream",
     "name": "stdout",
     "text": [
      "[4, 16, 36, 64, 100]\n"
     ]
    }
   ],
   "source": [
    "even_squares = [x**2 for x in a if x % 2 == 0]\n",
    "print(even_squares)"
   ]
  },
  {
   "cell_type": "code",
   "execution_count": 32,
   "metadata": {},
   "outputs": [],
   "source": [
    "alt = map(lambda x: x**2, filter(lambda x: x % 2 == 0, a))\n",
    "assert even_squares == list(alt)"
   ]
  },
  {
   "cell_type": "code",
   "execution_count": 33,
   "metadata": {},
   "outputs": [
    {
     "output_type": "stream",
     "name": "stdout",
     "text": [
      "{2: 4, 4: 16, 6: 36, 8: 64, 10: 100}\n{216, 729, 27}\n"
     ]
    }
   ],
   "source": [
    "even_squares_dict = {x: x**2 for x in a if x % 2 == 0}\n",
    "threes_cubed_set = {x**3 for x in a if x % 3 == 0}\n",
    "print(even_squares_dict)\n",
    "print(threes_cubed_set)"
   ]
  },
  {
   "cell_type": "code",
   "execution_count": 34,
   "metadata": {},
   "outputs": [],
   "source": [
    "alt_dict = dict(map(lambda x: (x, x**2),\n",
    "    filter(lambda x: x % 2 == 0, a)))\n",
    "alt_set = set(map(lambda x: x**3,\n",
    "    filter(lambda x: x % 3 == 0, a)))"
   ]
  },
  {
   "source": [
    "## \\[Item 28\\] Avoid More Than Two Control Subexpressions in Comprehensions"
   ],
   "cell_type": "markdown",
   "metadata": {}
  },
  {
   "cell_type": "code",
   "execution_count": 1,
   "metadata": {},
   "outputs": [
    {
     "output_type": "stream",
     "name": "stdout",
     "text": [
      "[1, 2, 3, 4, 5, 6, 7, 8, 9]\n"
     ]
    }
   ],
   "source": [
    "matrix = [[1,2,3],[4,5,6],[7,8,9]]\n",
    "flat = [x for row in matrix for x in row]\n",
    "print(flat) # row major ordering <-> column major ordering"
   ]
  },
  {
   "cell_type": "code",
   "execution_count": 2,
   "metadata": {},
   "outputs": [
    {
     "output_type": "stream",
     "name": "stdout",
     "text": [
      "[[1, 4, 9], [16, 25, 36], [49, 64, 81]]\n"
     ]
    }
   ],
   "source": [
    "squared = [ [x**2 for x in row] for row in matrix ]\n",
    "print(squared)"
   ]
  },
  {
   "cell_type": "code",
   "execution_count": 15,
   "metadata": {},
   "outputs": [
    {
     "output_type": "stream",
     "name": "stdout",
     "text": [
      "[1, 4, 9, 16, 25, 36, 49, 64, 81]\n"
     ]
    }
   ],
   "source": [
    "a = [1,2,3,4,5,6,7,8,9]\n",
    "alt = map(lambda x: x**2, a)\n",
    "print(list(alt))\n"
   ]
  },
  {
   "cell_type": "code",
   "execution_count": 16,
   "metadata": {},
   "outputs": [
    {
     "output_type": "stream",
     "name": "stdout",
     "text": [
      "[4, 16, 36, 64]\n"
     ]
    }
   ],
   "source": [
    "even_squares = [x**2 for x in a if x % 2 == 0]\n",
    "print(even_squares)c"
   ]
  },
  {
   "cell_type": "code",
   "execution_count": 17,
   "metadata": {},
   "outputs": [],
   "source": [
    "alt = map(lambda x: x**2, filter(lambda x: x % 2 == 0, a))\n",
    "assert even_squares == list(alt)"
   ]
  },
  {
   "cell_type": "code",
   "execution_count": 19,
   "metadata": {},
   "outputs": [
    {
     "output_type": "stream",
     "name": "stdout",
     "text": [
      "[0, 1, 2, 3, 4, 5, 6, 7, 8, 9, 10, 11, 12, 13, 14, 15, 16, 17, 18, 19, 20, 21, 22, 23]\n"
     ]
    }
   ],
   "source": [
    "my_lists = [[[ 0, 1, 2, 3],\n",
    "                [ 4, 5, 6, 7],\n",
    "                [ 8, 9, 10, 11]],\n",
    "            [[12, 13, 14, 15],\n",
    "                [16, 17, 18, 19],\n",
    "                [20, 21, 22, 23]]]\n",
    "flat = [ x for sublist1 in my_lists\n",
    "    for sublist2 in sublist1\n",
    "    for x in sublist2]\n",
    "print(flat)"
   ]
  },
  {
   "cell_type": "code",
   "execution_count": 21,
   "metadata": {},
   "outputs": [
    {
     "output_type": "stream",
     "name": "stdout",
     "text": [
      "[0, 1, 2, 3, 4, 5, 6, 7, 8, 9, 10, 11, 12, 13, 14, 15, 16, 17, 18, 19, 20, 21, 22, 23]\n"
     ]
    }
   ],
   "source": [
    "flat = [ ]\n",
    "for sublist1 in my_lists:\n",
    "    for sublist2 in sublist1:\n",
    "        flat.extend(sublist2) \n",
    "print(flat)"
   ]
  },
  {
   "cell_type": "code",
   "execution_count": 26,
   "metadata": {},
   "outputs": [
    {
     "output_type": "stream",
     "name": "stdout",
     "text": [
      "[6, 8, 10]\n[6, 8, 10]\n"
     ]
    }
   ],
   "source": [
    "a = [1, 2, 3, 4, 5, 6, 7, 8, 9, 10]\n",
    "b = [x for x in a if x > 4 if x % 2 == 0]\n",
    "c = [x for x in a if x > 4 and x % 2 == 0]\n",
    "print(b)\n",
    "print(c)"
   ]
  },
  {
   "cell_type": "code",
   "execution_count": 24,
   "metadata": {},
   "outputs": [
    {
     "output_type": "stream",
     "name": "stdout",
     "text": [
      "[[6], [9]]\n"
     ]
    }
   ],
   "source": [
    "matrix = [[1, 2, 3], [4, 5, 6], [7, 8, 9]]\n",
    "filtered = [[x for x in row if x % 3 == 0]\n",
    "for row in matrix if sum(row) >= 10]\n",
    "print(filtered)"
   ]
  },
  {
   "source": [
    "## \\[Item 29\\] Avoid Repeated Work in Comprehensions by using Assignment Expressions"
   ],
   "cell_type": "markdown",
   "metadata": {}
  },
  {
   "cell_type": "code",
   "execution_count": 50,
   "metadata": {},
   "outputs": [
    {
     "output_type": "stream",
     "name": "stdout",
     "text": [
      "{'screws': 4, 'wingnuts': 1}\n"
     ]
    }
   ],
   "source": [
    "stock = { 'nails': 125, 'screws': 35, 'wingnuts': 8, 'washers': 24 }\n",
    "order = ['screws', 'wingnuts', 'clips']\n",
    "def get_batches(count, size):\n",
    "    return count // size\n",
    "result = {}\n",
    "for name in order:\n",
    "    count = stock.get(name, 0)\n",
    "    batches = get_batches(count, 8)\n",
    "    if batches:\n",
    "        result[name] = batches\n",
    "print(result)"
   ]
  },
  {
   "cell_type": "code",
   "execution_count": 28,
   "metadata": {},
   "outputs": [
    {
     "output_type": "stream",
     "name": "stdout",
     "text": [
      "{'screws': 4, 'wingnuts': 1}\n"
     ]
    }
   ],
   "source": [
    "found = {name: get_batches(stock.get(name, 0), 8)\n",
    "    for name in order if get_batches(stock.get(name, 0), 8)}\n",
    "print(found)"
   ]
  },
  {
   "cell_type": "code",
   "execution_count": 30,
   "metadata": {},
   "outputs": [
    {
     "output_type": "stream",
     "name": "stdout",
     "text": [
      "{'screws': 4, 'wingnuts': 1}\n"
     ]
    }
   ],
   "source": [
    "found = {name: batches for name in order\n",
    "    if (batches := get_batches(stock.get(name, 0), 8))}\n",
    "print(found)"
   ]
  },
  {
   "cell_type": "code",
   "execution_count": 51,
   "metadata": {},
   "outputs": [
    {
     "output_type": "stream",
     "name": "stdout",
     "text": [
      "{}\n"
     ]
    }
   ],
   "source": [
    "result = {name: (tenth := count // 10) for name, count in stock.items() if tenth > 0}\n",
    "print(result)"
   ]
  },
  {
   "cell_type": "code",
   "execution_count": 45,
   "metadata": {},
   "outputs": [
    {
     "output_type": "stream",
     "name": "stdout",
     "text": [
      "{'nails': 12, 'screws': 3, 'washers': 2}\n"
     ]
    }
   ],
   "source": [
    "result = {name: tenth for name, count in stock.items() if (tenth := count // 10) > 0}\n",
    "print(result)"
   ]
  },
  {
   "cell_type": "code",
   "execution_count": 52,
   "metadata": {},
   "outputs": [
    {
     "output_type": "stream",
     "name": "stdout",
     "text": [
      "Last item of [62, 17, 4, 12] is 12\n"
     ]
    }
   ],
   "source": [
    "half = [(last := count // 2) for count in stock.values()]\n",
    "print(f'Last item of {half} is {last}')"
   ]
  },
  {
   "cell_type": "code",
   "execution_count": 53,
   "metadata": {},
   "outputs": [
    {
     "output_type": "stream",
     "name": "stdout",
     "text": [
      "Last item of [125, 35, 8, 24] is 24\n"
     ]
    }
   ],
   "source": [
    "for count in stock.values(): # Leaks loop variable\n",
    "    pass\n",
    "print(f'Last item of {list(stock.values())} is {count}')"
   ]
  },
  {
   "cell_type": "code",
   "execution_count": 58,
   "metadata": {},
   "outputs": [
    {
     "output_type": "stream",
     "name": "stdout",
     "text": [
      "[62, 17, 4, 12]\n"
     ]
    },
    {
     "output_type": "error",
     "ename": "NameError",
     "evalue": "name 'd' is not defined",
     "traceback": [
      "\u001b[0;31m---------------------------------------------------------------------------\u001b[0m",
      "\u001b[0;31mNameError\u001b[0m                                 Traceback (most recent call last)",
      "\u001b[0;32m<ipython-input-58-10bba8d546bf>\u001b[0m in \u001b[0;36m<module>\u001b[0;34m\u001b[0m\n\u001b[1;32m      1\u001b[0m \u001b[0mhalf\u001b[0m \u001b[0;34m=\u001b[0m \u001b[0;34m[\u001b[0m\u001b[0md\u001b[0m \u001b[0;34m//\u001b[0m \u001b[0;36m2\u001b[0m \u001b[0;32mfor\u001b[0m \u001b[0md\u001b[0m \u001b[0;32min\u001b[0m \u001b[0mstock\u001b[0m\u001b[0;34m.\u001b[0m\u001b[0mvalues\u001b[0m\u001b[0;34m(\u001b[0m\u001b[0;34m)\u001b[0m\u001b[0;34m]\u001b[0m\u001b[0;34m\u001b[0m\u001b[0;34m\u001b[0m\u001b[0m\n\u001b[1;32m      2\u001b[0m \u001b[0mprint\u001b[0m\u001b[0;34m(\u001b[0m\u001b[0mhalf\u001b[0m\u001b[0;34m)\u001b[0m \u001b[0;31m# Works\u001b[0m\u001b[0;34m\u001b[0m\u001b[0;34m\u001b[0m\u001b[0m\n\u001b[0;32m----> 3\u001b[0;31m \u001b[0mprint\u001b[0m\u001b[0;34m(\u001b[0m\u001b[0md\u001b[0m\u001b[0;34m)\u001b[0m \u001b[0;31m# Exception because loop variable didn't leak\u001b[0m\u001b[0;34m\u001b[0m\u001b[0;34m\u001b[0m\u001b[0m\n\u001b[0m",
      "\u001b[0;31mNameError\u001b[0m: name 'd' is not defined"
     ]
    }
   ],
   "source": [
    "half = [d // 2 for d in stock.values()]\n",
    "print(half) # Works\n",
    "print(d) # Exception because loop variable didn't leak"
   ]
  },
  {
   "cell_type": "code",
   "execution_count": 62,
   "metadata": {},
   "outputs": [
    {
     "output_type": "stream",
     "name": "stdout",
     "text": [
      "('screws', 4)\n('wingnuts', 1)\n"
     ]
    }
   ],
   "source": [
    "found = ((name, batches) for name in order\n",
    "    if (batches := get_batches(stock.get(name, 0), 8)))\n",
    "print(next(found))\n",
    "print(next(found))"
   ]
  },
  {
   "source": [
    "## \\[Item 30\\] Consider Generators instead of Returning Lists"
   ],
   "cell_type": "markdown",
   "metadata": {}
  },
  {
   "cell_type": "code",
   "execution_count": 66,
   "metadata": {},
   "outputs": [
    {
     "output_type": "stream",
     "name": "stdout",
     "text": [
      "[0, 6, 12, 16, 22, 28, 33, 38, 42, 48]\n"
     ]
    }
   ],
   "source": [
    "def index_words(text):\n",
    "    result = []\n",
    "    if text:\n",
    "        result.append(0)\n",
    "    for index, letter in enumerate(text):\n",
    "        if letter == ' ':\n",
    "            result.append(index + 1)\n",
    "    return result\n",
    "\n",
    "address = 'Seven Score and Seven Years Ago: What You Don’t Know About \\\n",
    "the Gettysburg Address'\n",
    "result = index_words(address)\n",
    "print(result[:10])"
   ]
  },
  {
   "cell_type": "code",
   "execution_count": 78,
   "metadata": {},
   "outputs": [
    {
     "output_type": "stream",
     "name": "stdout",
     "text": [
      "[0, 6, 12, 16, 22, 28, 33, 38, 42, 48]\n"
     ]
    }
   ],
   "source": [
    "def index_words_iter(text):\n",
    "    if text:\n",
    "        yield 0\n",
    "    for index, letter in enumerate(text):\n",
    "        if letter == ' ':\n",
    "            yield index + 1\n",
    "\n",
    "it = index_words_iter(address)\n",
    "result = list(index_words_iter(address))\n",
    "print(result[:10])"
   ]
  },
  {
   "cell_type": "code",
   "execution_count": 79,
   "metadata": {},
   "outputs": [],
   "source": [
    "def index_file(handle):\n",
    "    offset = 0\n",
    "    for line in handle:\n",
    "        if line:\n",
    "            yield offset\n",
    "        for letter in line:\n",
    "            offset += 1\n",
    "            if letter == ' ':\n",
    "                yield offset"
   ]
  },
  {
   "cell_type": "code",
   "execution_count": 81,
   "metadata": {},
   "outputs": [
    {
     "output_type": "error",
     "ename": "NameError",
     "evalue": "name 'itertools' is not defined",
     "traceback": [
      "\u001b[0;31m---------------------------------------------------------------------------\u001b[0m",
      "\u001b[0;31mNameError\u001b[0m                                 Traceback (most recent call last)",
      "\u001b[0;32m<ipython-input-81-13e48e64aecc>\u001b[0m in \u001b[0;36m<module>\u001b[0;34m\u001b[0m\n\u001b[1;32m      1\u001b[0m \u001b[0;32mwith\u001b[0m \u001b[0mopen\u001b[0m\u001b[0;34m(\u001b[0m\u001b[0;34m'address.txt'\u001b[0m\u001b[0;34m,\u001b[0m \u001b[0;34m'r'\u001b[0m\u001b[0;34m)\u001b[0m \u001b[0;32mas\u001b[0m \u001b[0mf\u001b[0m\u001b[0;34m:\u001b[0m\u001b[0;34m\u001b[0m\u001b[0;34m\u001b[0m\u001b[0m\n\u001b[1;32m      2\u001b[0m     \u001b[0mit\u001b[0m \u001b[0;34m=\u001b[0m \u001b[0mindex_file\u001b[0m\u001b[0;34m(\u001b[0m\u001b[0mf\u001b[0m\u001b[0;34m)\u001b[0m\u001b[0;34m\u001b[0m\u001b[0;34m\u001b[0m\u001b[0m\n\u001b[0;32m----> 3\u001b[0;31m     \u001b[0mresults\u001b[0m \u001b[0;34m=\u001b[0m \u001b[0mitertools\u001b[0m\u001b[0;34m.\u001b[0m\u001b[0mislice\u001b[0m\u001b[0;34m(\u001b[0m\u001b[0mit\u001b[0m\u001b[0;34m,\u001b[0m \u001b[0;36m0\u001b[0m\u001b[0;34m,\u001b[0m \u001b[0;36m10\u001b[0m\u001b[0;34m)\u001b[0m\u001b[0;34m\u001b[0m\u001b[0;34m\u001b[0m\u001b[0m\n\u001b[0m\u001b[1;32m      4\u001b[0m     \u001b[0mprint\u001b[0m\u001b[0;34m(\u001b[0m\u001b[0mlist\u001b[0m\u001b[0;34m(\u001b[0m\u001b[0mresults\u001b[0m\u001b[0;34m)\u001b[0m\u001b[0;34m)\u001b[0m\u001b[0;34m\u001b[0m\u001b[0;34m\u001b[0m\u001b[0m\n",
      "\u001b[0;31mNameError\u001b[0m: name 'itertools' is not defined"
     ]
    }
   ],
   "source": [
    "with open('address.txt', 'r') as f:\n",
    "    it = index_file(f)\n",
    "    results = itertools.islice(it, 0, 10)\n",
    "    print(list(results))"
   ]
  },
  {
   "source": [
    "## \\[Item 31\\] Be Defensive When Iterating over Arguments"
   ],
   "cell_type": "markdown",
   "metadata": {}
  },
  {
   "cell_type": "code",
   "execution_count": 104,
   "metadata": {},
   "outputs": [
    {
     "output_type": "stream",
     "name": "stdout",
     "text": [
      "[11.538461538461538, 26.923076923076923, 61.53846153846154]\n"
     ]
    }
   ],
   "source": [
    "def normalize(numbers):\n",
    "    total = sum(numbers)\n",
    "    result = []\n",
    "    for value in numbers:\n",
    "        percent = 100 * value / total\n",
    "        result.append(percent)\n",
    "    return result\n",
    "\n",
    "visits = [ 15, 35, 80 ]\n",
    "percentages = normalize(visits)\n",
    "print(percentages)\n",
    "assert sum(percentages) == 100.0"
   ]
  },
  {
   "cell_type": "code",
   "execution_count": 107,
   "metadata": {},
   "outputs": [
    {
     "output_type": "stream",
     "name": "stdout",
     "text": [
      "[15, 35, 80]\n[]\n"
     ]
    }
   ],
   "source": [
    "def read_visits(data_path):\n",
    "    with open(data_path) as f:\n",
    "        for line in f:\n",
    "            yield int(line)\n",
    "\n",
    "it = read_visits('my_numbers.txt')\n",
    "print(list(it))\n",
    "print(list(it)) # iterator가 모두 사용되어서 blank가 출력됨\n"
   ]
  },
  {
   "cell_type": "code",
   "execution_count": 112,
   "metadata": {},
   "outputs": [
    {
     "output_type": "stream",
     "name": "stdout",
     "text": [
      "[11.538461538461538, 26.923076923076923, 61.53846153846154]\n"
     ]
    }
   ],
   "source": [
    "def normalize_copy(numbers):\n",
    "    numbers_copy = list(numbers) # Copy the iterator\n",
    "    total = sum(numbers_copy)\n",
    "    result = []\n",
    "    for value in numbers_copy:\n",
    "        percent = 100 * value / total\n",
    "        result.append(percent)\n",
    "    return result\n",
    "\n",
    "it = read_visits('my_numbers.txt')\n",
    "percentages = normalize_copy(it)\n",
    "print(percentages)\n",
    "assert sum(percentages) == 100.0"
   ]
  },
  {
   "cell_type": "code",
   "execution_count": 113,
   "metadata": {},
   "outputs": [
    {
     "output_type": "stream",
     "name": "stdout",
     "text": [
      "[11.538461538461538, 26.923076923076923, 61.53846153846154]\n"
     ]
    }
   ],
   "source": [
    "def normalize_func(get_iter):\n",
    "    total = sum(get_iter()) # New iterator\n",
    "    result = []\n",
    "    for value in get_iter(): # New iterator\n",
    "        percent = 100 * value / total\n",
    "        result.append(percent)\n",
    "    return result\n",
    "\n",
    "path = 'my_numbers.txt'\n",
    "percentages = normalize_func(lambda: read_visits(path))\n",
    "print(percentages)\n",
    "assert sum(percentages) == 100.0"
   ]
  },
  {
   "cell_type": "code",
   "execution_count": 114,
   "metadata": {},
   "outputs": [
    {
     "output_type": "stream",
     "name": "stdout",
     "text": [
      "[11.538461538461538, 26.923076923076923, 61.53846153846154]\n"
     ]
    }
   ],
   "source": [
    "class ReadVisits:\n",
    "    def __init__(self, data_path):\n",
    "        self.data_path = data_path\n",
    "    def __iter__(self):\n",
    "        with open(self.data_path) as f:\n",
    "            for line in f:\n",
    "                yield int(line)\n",
    "\n",
    "visits = ReadVisits(path)\n",
    "percentages = normalize(visits)\n",
    "print(percentages)\n",
    "assert sum(percentages) == 100.0"
   ]
  },
  {
   "cell_type": "code",
   "execution_count": 115,
   "metadata": {},
   "outputs": [],
   "source": [
    "def normalize_defensive(numbers):\n",
    "    if iter(numbers) is numbers: # An iterator -- bad!\n",
    "        raise TypeError('Must supply a container')\n",
    "    total = sum(numbers)\n",
    "    result = []\n",
    "    for value in numbers:\n",
    "        percent = 100 * value / total\n",
    "        result.append(percent)\n",
    "    return result"
   ]
  },
  {
   "cell_type": "code",
   "execution_count": null,
   "metadata": {},
   "outputs": [],
   "source": [
    "from collections.abc import Iterator\n",
    "def normalize_defensive(numbers):\n",
    " if isinstance(numbers, Iterator): # Another way to check\n",
    " raise TypeError('Must supply a container')\n",
    " total = sum(numbers)\n",
    " result = []\n",
    " for value in numbers:\n",
    " percent = 100 * value / total\n",
    " result.append(percent)\n",
    " return result\n",
    "visits = [15, 35, 80]\n",
    "percentages = normalize_defensive(visits)\n",
    "assert sum(percentages) == 100.0\n",
    "visits = ReadVisits(path)\n",
    "percentages = normalize_defensive(visits)\n",
    "assert sum(percentages) == 100.0\n",
    "visits = [15, 35, 80]\n",
    "it = iter(visits)\n",
    "normalize_defensive(it) # raise TypeError"
   ]
  },
  {
   "source": [
    "## \\[Item 32\\] Consider Generator Expressions for Large List Comprehensions"
   ],
   "cell_type": "markdown",
   "metadata": {}
  },
  {
   "cell_type": "code",
   "execution_count": 117,
   "metadata": {},
   "outputs": [
    {
     "output_type": "stream",
     "name": "stdout",
     "text": [
      "[81, 79, 75, 1, 40, 88, 128, 1, 105, 98, 197]\n"
     ]
    }
   ],
   "source": [
    "value = [ len(x) for x in open('my_file.txt') ] # my_file.txt is an input file.\n",
    "print(value)"
   ]
  },
  {
   "cell_type": "code",
   "execution_count": 118,
   "metadata": {},
   "outputs": [
    {
     "output_type": "stream",
     "name": "stdout",
     "text": [
      "<generator object <genexpr> at 0x7f19615a5f20>\n81\n79\n"
     ]
    }
   ],
   "source": [
    "it = (len(x) for x in open('my_file.txt'))\n",
    "print(it)\n",
    "print(next(it))\n",
    "print(next(it))"
   ]
  },
  {
   "cell_type": "code",
   "execution_count": 119,
   "metadata": {},
   "outputs": [
    {
     "output_type": "stream",
     "name": "stdout",
     "text": [
      "(75, 8.660254037844387)\n"
     ]
    }
   ],
   "source": [
    "roots = ((x, x**0.5) for x in it) # it is an iterator.\n",
    "print(next(roots)) # advances roots => advance the interior iterator (it)"
   ]
  },
  {
   "source": [
    "## \\[Item 33\\] Compose Multiple Generators with yield from"
   ],
   "cell_type": "markdown",
   "metadata": {}
  },
  {
   "cell_type": "code",
   "execution_count": 1,
   "metadata": {},
   "outputs": [
    {
     "output_type": "stream",
     "name": "stdout",
     "text": [
      "Delta: 5.0\nDelta: 5.0\nDelta: 5.0\nDelta: 5.0\nDelta: 0.0\nDelta: 0.0\nDelta: 0.0\nDelta: 3.0\nDelta: 3.0\n"
     ]
    }
   ],
   "source": [
    "def move(period, speed):\n",
    "    for _ in range(period):\n",
    "        yield speed\n",
    "def pause(delay):\n",
    "    for _ in range(delay):\n",
    "        yield 0\n",
    "def animate():\n",
    "    for delta in move(4, 5.0):\n",
    "        yield delta\n",
    "    for delta in pause(3):\n",
    "        yield delta\n",
    "    for delta in move(2, 3.0):\n",
    "        yield delta\n",
    "def render(delta):\n",
    "    print(f'Delta: {delta:.1f}')\n",
    "def run(func):\n",
    "    for delta in func():\n",
    "        render(delta)\n",
    "run(animate)"
   ]
  },
  {
   "cell_type": "code",
   "execution_count": 2,
   "metadata": {},
   "outputs": [
    {
     "output_type": "stream",
     "name": "stdout",
     "text": [
      "Delta: 5.0\nDelta: 5.0\nDelta: 5.0\nDelta: 5.0\nDelta: 0.0\nDelta: 0.0\nDelta: 0.0\nDelta: 3.0\nDelta: 3.0\n"
     ]
    }
   ],
   "source": [
    "def animate_composed():\n",
    "    yield from move(4, 5.0)\n",
    "    yield from pause(3)\n",
    "    yield from move(2, 3.0)\n",
    "run(animate_composed)"
   ]
  },
  {
   "cell_type": "code",
   "execution_count": 7,
   "metadata": {},
   "outputs": [
    {
     "output_type": "stream",
     "name": "stdout",
     "text": [
      "Manual nesting 3.65s\n",
      "Manual nesting 3.48s\n",
      "4.7% less time\n"
     ]
    }
   ],
   "source": [
    "import timeit\n",
    "def child():\n",
    "    for i in range(1_000_000):\n",
    "        yield i\n",
    "def slow():\n",
    "    for i in child():\n",
    "        yield i\n",
    "def fast():\n",
    "    yield from child()\n",
    "baseline = timeit.timeit(stmt='for _ in slow(): pass',\n",
    "                        globals=globals(),\n",
    "                        number=50)\n",
    "print(f'Manual nesting {baseline:.2f}s')\n",
    "\n",
    "comparison = timeit.timeit(stmt='for _ in fast(): pass',\n",
    "                        globals=globals(),\n",
    "                        number=50)\n",
    "print(f'Manual nesting {comparison:.2f}s')\n",
    "reduction = -(comparison - baseline) / baseline\n",
    "print(f'{reduction:.1%} less time')"
   ]
  },
  {
   "source": [
    "## \\[Item 34\\] Avoid Injecting Data into Generators with send"
   ],
   "cell_type": "markdown",
   "metadata": {}
  },
  {
   "cell_type": "code",
   "execution_count": 9,
   "metadata": {},
   "outputs": [
    {
     "output_type": "stream",
     "name": "stdout",
     "text": [
      "Output:  -2.1\n"
     ]
    }
   ],
   "source": [
    "import math\n",
    "def wave(amplitude, steps):\n",
    "    step_size = 2 * math.pi / steps\n",
    "    for step in range(steps):\n",
    "        radians = step * step_size\n",
    "        fraction = math.sin(radians)\n",
    "\n",
    "    output = amplitude * fraction\n",
    "    yield output\n",
    "def transmit(output):\n",
    "    if output is None:\n",
    "        print(f'Output is None')\n",
    "    else:\n",
    "        print(f'Output: {output:>5.1f}')\n",
    "\n",
    "def run(it):\n",
    "    for output in it:\n",
    "        transmit(output)\n",
    "run(wave(3.0, 8))"
   ]
  },
  {
   "cell_type": "code",
   "execution_count": 10,
   "metadata": {},
   "outputs": [
    {
     "output_type": "stream",
     "name": "stdout",
     "text": [
      "output = 1\nreceived = None\n"
     ]
    }
   ],
   "source": [
    "def my_generator():\n",
    "    received = yield 1\n",
    "    print(f'received = {received}')\n",
    "it = iter(my_generator())\n",
    "output = next(it) # Get first generator output\n",
    "print(f'output = {output}')\n",
    "try:\n",
    "    next(it) # Run generator until it exits\n",
    "except StopIteration:\n",
    "    pass"
   ]
  },
  {
   "cell_type": "code",
   "execution_count": 11,
   "metadata": {},
   "outputs": [
    {
     "output_type": "stream",
     "name": "stdout",
     "text": [
      "output = 1\nreceived = hello!\n"
     ]
    }
   ],
   "source": [
    "it = iter(my_generator())\n",
    "output = it.send(None) # Get first generator output\n",
    "print(f'output = {output}')\n",
    "try:\n",
    "    it.send('hello!') # Send value into the generator\n",
    "except StopIteration:\n",
    "    pass"
   ]
  },
  {
   "cell_type": "code",
   "execution_count": 13,
   "metadata": {},
   "outputs": [
    {
     "output_type": "stream",
     "name": "stdout",
     "text": [
      "Output is None\nOutput:  -3.5\n"
     ]
    },
    {
     "output_type": "error",
     "ename": "StopIteration",
     "evalue": "",
     "traceback": [
      "\u001b[0;31m---------------------------------------------------------------------------\u001b[0m",
      "\u001b[0;31mStopIteration\u001b[0m                             Traceback (most recent call last)",
      "\u001b[0;32m<ipython-input-13-7cc2c0b01ee3>\u001b[0m in \u001b[0;36m<module>\u001b[0;34m\u001b[0m\n\u001b[1;32m     13\u001b[0m         \u001b[0moutput\u001b[0m \u001b[0;34m=\u001b[0m \u001b[0mit\u001b[0m\u001b[0;34m.\u001b[0m\u001b[0msend\u001b[0m\u001b[0;34m(\u001b[0m\u001b[0mamplitude\u001b[0m\u001b[0;34m)\u001b[0m\u001b[0;34m\u001b[0m\u001b[0;34m\u001b[0m\u001b[0m\n\u001b[1;32m     14\u001b[0m         \u001b[0mtransmit\u001b[0m\u001b[0;34m(\u001b[0m\u001b[0moutput\u001b[0m\u001b[0;34m)\u001b[0m\u001b[0;34m\u001b[0m\u001b[0;34m\u001b[0m\u001b[0m\n\u001b[0;32m---> 15\u001b[0;31m \u001b[0mrun_modulating\u001b[0m\u001b[0;34m(\u001b[0m\u001b[0mwave_modulating\u001b[0m\u001b[0;34m(\u001b[0m\u001b[0;36m12\u001b[0m\u001b[0;34m)\u001b[0m\u001b[0;34m)\u001b[0m\u001b[0;34m\u001b[0m\u001b[0;34m\u001b[0m\u001b[0m\n\u001b[0m",
      "\u001b[0;32m<ipython-input-13-7cc2c0b01ee3>\u001b[0m in \u001b[0;36mrun_modulating\u001b[0;34m(it)\u001b[0m\n\u001b[1;32m     11\u001b[0m     \u001b[0mamplitudes\u001b[0m \u001b[0;34m=\u001b[0m \u001b[0;34m[\u001b[0m\u001b[0;32mNone\u001b[0m\u001b[0;34m,\u001b[0m \u001b[0;36m7\u001b[0m\u001b[0;34m,\u001b[0m \u001b[0;36m7\u001b[0m\u001b[0;34m,\u001b[0m \u001b[0;36m7\u001b[0m\u001b[0;34m,\u001b[0m \u001b[0;36m2\u001b[0m\u001b[0;34m,\u001b[0m \u001b[0;36m2\u001b[0m\u001b[0;34m,\u001b[0m \u001b[0;36m2\u001b[0m\u001b[0;34m,\u001b[0m \u001b[0;36m2\u001b[0m\u001b[0;34m,\u001b[0m \u001b[0;36m10\u001b[0m\u001b[0;34m,\u001b[0m \u001b[0;36m10\u001b[0m\u001b[0;34m,\u001b[0m \u001b[0;36m10\u001b[0m\u001b[0;34m,\u001b[0m \u001b[0;36m10\u001b[0m\u001b[0;34m,\u001b[0m \u001b[0;36m10\u001b[0m\u001b[0;34m]\u001b[0m\u001b[0;34m\u001b[0m\u001b[0;34m\u001b[0m\u001b[0m\n\u001b[1;32m     12\u001b[0m     \u001b[0;32mfor\u001b[0m \u001b[0mamplitude\u001b[0m \u001b[0;32min\u001b[0m \u001b[0mamplitudes\u001b[0m\u001b[0;34m:\u001b[0m\u001b[0;34m\u001b[0m\u001b[0;34m\u001b[0m\u001b[0m\n\u001b[0;32m---> 13\u001b[0;31m         \u001b[0moutput\u001b[0m \u001b[0;34m=\u001b[0m \u001b[0mit\u001b[0m\u001b[0;34m.\u001b[0m\u001b[0msend\u001b[0m\u001b[0;34m(\u001b[0m\u001b[0mamplitude\u001b[0m\u001b[0;34m)\u001b[0m\u001b[0;34m\u001b[0m\u001b[0;34m\u001b[0m\u001b[0m\n\u001b[0m\u001b[1;32m     14\u001b[0m         \u001b[0mtransmit\u001b[0m\u001b[0;34m(\u001b[0m\u001b[0moutput\u001b[0m\u001b[0;34m)\u001b[0m\u001b[0;34m\u001b[0m\u001b[0;34m\u001b[0m\u001b[0m\n\u001b[1;32m     15\u001b[0m \u001b[0mrun_modulating\u001b[0m\u001b[0;34m(\u001b[0m\u001b[0mwave_modulating\u001b[0m\u001b[0;34m(\u001b[0m\u001b[0;36m12\u001b[0m\u001b[0;34m)\u001b[0m\u001b[0;34m)\u001b[0m\u001b[0;34m\u001b[0m\u001b[0;34m\u001b[0m\u001b[0m\n",
      "\u001b[0;31mStopIteration\u001b[0m: "
     ]
    }
   ],
   "source": [
    "def wave_modulating(steps):\n",
    "    step_size = 2 * math.pi / steps\n",
    "    amplitude = yield # Receive initial amplitude\n",
    "    for step in range(steps):\n",
    "        radians = step * step_size\n",
    "        fraction = math.sin(radians)\n",
    "        output = amplitude * fraction\n",
    "    amplitude = yield output # Receive next amplitude\n",
    "\n",
    "def run_modulating(it):\n",
    "    amplitudes = [None, 7, 7, 7, 2, 2, 2, 2, 10, 10, 10, 10, 10]\n",
    "    for amplitude in amplitudes:\n",
    "        output = it.send(amplitude)\n",
    "        transmit(output)\n",
    "run_modulating(wave_modulating(12))"
   ]
  },
  {
   "cell_type": "code",
   "execution_count": 14,
   "metadata": {},
   "outputs": [
    {
     "output_type": "stream",
     "name": "stdout",
     "text": [
      "Output:  -6.1\nOutput:  -2.0\nOutput:  -9.5\n"
     ]
    }
   ],
   "source": [
    "def complex_wave():\n",
    "    yield from wave(7.0, 3)\n",
    "    yield from wave(2.0, 4)\n",
    "    yield from wave(10.0, 5)\n",
    "run(complex_wave())\n"
   ]
  },
  {
   "cell_type": "code",
   "execution_count": 15,
   "metadata": {},
   "outputs": [
    {
     "output_type": "stream",
     "name": "stdout",
     "text": [
      "Output is None\nOutput:  -6.1\nOutput is None\nOutput:  -7.0\nOutput is None\nOutput:  -1.9\n"
     ]
    },
    {
     "output_type": "error",
     "ename": "StopIteration",
     "evalue": "",
     "traceback": [
      "\u001b[0;31m---------------------------------------------------------------------------\u001b[0m",
      "\u001b[0;31mStopIteration\u001b[0m                             Traceback (most recent call last)",
      "\u001b[0;32m<ipython-input-15-e7f78403c269>\u001b[0m in \u001b[0;36m<module>\u001b[0;34m\u001b[0m\n\u001b[1;32m      3\u001b[0m     \u001b[0;32myield\u001b[0m \u001b[0;32mfrom\u001b[0m \u001b[0mwave_modulating\u001b[0m\u001b[0;34m(\u001b[0m\u001b[0;36m4\u001b[0m\u001b[0;34m)\u001b[0m\u001b[0;34m\u001b[0m\u001b[0;34m\u001b[0m\u001b[0m\n\u001b[1;32m      4\u001b[0m     \u001b[0;32myield\u001b[0m \u001b[0;32mfrom\u001b[0m \u001b[0mwave_modulating\u001b[0m\u001b[0;34m(\u001b[0m\u001b[0;36m5\u001b[0m\u001b[0;34m)\u001b[0m\u001b[0;34m\u001b[0m\u001b[0;34m\u001b[0m\u001b[0m\n\u001b[0;32m----> 5\u001b[0;31m \u001b[0mrun_modulating\u001b[0m\u001b[0;34m(\u001b[0m\u001b[0mcomplex_wave_modulating\u001b[0m\u001b[0;34m(\u001b[0m\u001b[0;34m)\u001b[0m\u001b[0;34m)\u001b[0m\u001b[0;34m\u001b[0m\u001b[0;34m\u001b[0m\u001b[0m\n\u001b[0m",
      "\u001b[0;32m<ipython-input-13-7cc2c0b01ee3>\u001b[0m in \u001b[0;36mrun_modulating\u001b[0;34m(it)\u001b[0m\n\u001b[1;32m     11\u001b[0m     \u001b[0mamplitudes\u001b[0m \u001b[0;34m=\u001b[0m \u001b[0;34m[\u001b[0m\u001b[0;32mNone\u001b[0m\u001b[0;34m,\u001b[0m \u001b[0;36m7\u001b[0m\u001b[0;34m,\u001b[0m \u001b[0;36m7\u001b[0m\u001b[0;34m,\u001b[0m \u001b[0;36m7\u001b[0m\u001b[0;34m,\u001b[0m \u001b[0;36m2\u001b[0m\u001b[0;34m,\u001b[0m \u001b[0;36m2\u001b[0m\u001b[0;34m,\u001b[0m \u001b[0;36m2\u001b[0m\u001b[0;34m,\u001b[0m \u001b[0;36m2\u001b[0m\u001b[0;34m,\u001b[0m \u001b[0;36m10\u001b[0m\u001b[0;34m,\u001b[0m \u001b[0;36m10\u001b[0m\u001b[0;34m,\u001b[0m \u001b[0;36m10\u001b[0m\u001b[0;34m,\u001b[0m \u001b[0;36m10\u001b[0m\u001b[0;34m,\u001b[0m \u001b[0;36m10\u001b[0m\u001b[0;34m]\u001b[0m\u001b[0;34m\u001b[0m\u001b[0;34m\u001b[0m\u001b[0m\n\u001b[1;32m     12\u001b[0m     \u001b[0;32mfor\u001b[0m \u001b[0mamplitude\u001b[0m \u001b[0;32min\u001b[0m \u001b[0mamplitudes\u001b[0m\u001b[0;34m:\u001b[0m\u001b[0;34m\u001b[0m\u001b[0;34m\u001b[0m\u001b[0m\n\u001b[0;32m---> 13\u001b[0;31m         \u001b[0moutput\u001b[0m \u001b[0;34m=\u001b[0m \u001b[0mit\u001b[0m\u001b[0;34m.\u001b[0m\u001b[0msend\u001b[0m\u001b[0;34m(\u001b[0m\u001b[0mamplitude\u001b[0m\u001b[0;34m)\u001b[0m\u001b[0;34m\u001b[0m\u001b[0;34m\u001b[0m\u001b[0m\n\u001b[0m\u001b[1;32m     14\u001b[0m         \u001b[0mtransmit\u001b[0m\u001b[0;34m(\u001b[0m\u001b[0moutput\u001b[0m\u001b[0;34m)\u001b[0m\u001b[0;34m\u001b[0m\u001b[0;34m\u001b[0m\u001b[0m\n\u001b[1;32m     15\u001b[0m \u001b[0mrun_modulating\u001b[0m\u001b[0;34m(\u001b[0m\u001b[0mwave_modulating\u001b[0m\u001b[0;34m(\u001b[0m\u001b[0;36m12\u001b[0m\u001b[0;34m)\u001b[0m\u001b[0;34m)\u001b[0m\u001b[0;34m\u001b[0m\u001b[0;34m\u001b[0m\u001b[0m\n",
      "\u001b[0;31mStopIteration\u001b[0m: "
     ]
    }
   ],
   "source": [
    "def complex_wave_modulating():\n",
    "    yield from wave_modulating(3)\n",
    "    yield from wave_modulating(4)\n",
    "    yield from wave_modulating(5)\n",
    "run_modulating(complex_wave_modulating())"
   ]
  },
  {
   "cell_type": "code",
   "execution_count": 16,
   "metadata": {},
   "outputs": [
    {
     "output_type": "stream",
     "name": "stdout",
     "text": [
      "Output:   0.0\nOutput:   6.1\nOutput:  -6.1\nOutput:   0.0\nOutput:   2.0\nOutput:   0.0\nOutput:  -2.0\nOutput:   0.0\nOutput:   9.5\nOutput:   5.9\nOutput:  -5.9\nOutput:  -9.5\n"
     ]
    }
   ],
   "source": [
    "def wave_cascading(amplitude_it, steps):\n",
    "    step_size = 2 * math.pi / steps\n",
    "    for step in range(steps):\n",
    "        radians = step * step_size\n",
    "        fraction = math.sin(radians)\n",
    "        amplitude = next(amplitude_it) # Get next input\n",
    "        output = amplitude * fraction\n",
    "        yield output\n",
    "\n",
    "def complex_wave_cascading(amplitude_it):\n",
    "    yield from wave_cascading(amplitude_it, 3)\n",
    "    yield from wave_cascading(amplitude_it, 4)\n",
    "    yield from wave_cascading(amplitude_it, 5)\n",
    "\n",
    "def run_cascading():\n",
    "    amplitudes = [7, 7, 7, 2, 2, 2, 2, 10, 10, 10, 10, 10]\n",
    "    it = complex_wave_cascading(iter(amplitudes))\n",
    "    for amplitude in amplitudes:\n",
    "        output = next(it)\n",
    "        transmit(output)\n",
    "run_cascading()"
   ]
  },
  {
   "source": [
    "## \\[Item 35\\] Avoid Causing State Transitions in Generators with throw"
   ],
   "cell_type": "markdown",
   "metadata": {}
  },
  {
   "cell_type": "code",
   "execution_count": 17,
   "metadata": {},
   "outputs": [
    {
     "output_type": "error",
     "ename": "SyntaxError",
     "evalue": "unexpected EOF while parsing (<ipython-input-17-9f7833260a0a>, line 10)",
     "traceback": [
      "\u001b[0;36m  File \u001b[0;32m\"<ipython-input-17-9f7833260a0a>\"\u001b[0;36m, line \u001b[0;32m10\u001b[0m\n\u001b[0;31m    pritn(it.throw(MyError('Test error'))\u001b[0m\n\u001b[0m                                         ^\u001b[0m\n\u001b[0;31mSyntaxError\u001b[0m\u001b[0;31m:\u001b[0m unexpected EOF while parsing\n"
     ]
    }
   ],
   "source": [
    "class MyError(Exception):\n",
    "    pass\n",
    "def my_generator():\n",
    "    yield 1\n",
    "    yield 2\n",
    "    yield 3\n",
    "    \n",
    "it = my_generator()\n",
    "print(next(it)) # Yield 1\n",
    "print(next(it)) # Yield 2\n",
    "pritn(it.throw(MyError('Test error'))"
   ]
  },
  {
   "cell_type": "code",
   "execution_count": 18,
   "metadata": {},
   "outputs": [
    {
     "output_type": "stream",
     "name": "stdout",
     "text": [
      "1\n2\n"
     ]
    },
    {
     "output_type": "error",
     "ename": "NameError",
     "evalue": "name 'MyError' is not defined",
     "traceback": [
      "\u001b[0;31m---------------------------------------------------------------------------\u001b[0m",
      "\u001b[0;31mNameError\u001b[0m                                 Traceback (most recent call last)",
      "\u001b[0;32m<ipython-input-18-af6736a52f68>\u001b[0m in \u001b[0;36m<module>\u001b[0;34m\u001b[0m\n\u001b[1;32m     12\u001b[0m \u001b[0mprint\u001b[0m\u001b[0;34m(\u001b[0m\u001b[0mnext\u001b[0m\u001b[0;34m(\u001b[0m\u001b[0mit\u001b[0m\u001b[0;34m)\u001b[0m\u001b[0;34m)\u001b[0m \u001b[0;31m# Yield 1\u001b[0m\u001b[0;34m\u001b[0m\u001b[0;34m\u001b[0m\u001b[0m\n\u001b[1;32m     13\u001b[0m \u001b[0mprint\u001b[0m\u001b[0;34m(\u001b[0m\u001b[0mnext\u001b[0m\u001b[0;34m(\u001b[0m\u001b[0mit\u001b[0m\u001b[0;34m)\u001b[0m\u001b[0;34m)\u001b[0m \u001b[0;31m# Yield 2\u001b[0m\u001b[0;34m\u001b[0m\u001b[0;34m\u001b[0m\u001b[0m\n\u001b[0;32m---> 14\u001b[0;31m \u001b[0mprint\u001b[0m\u001b[0;34m(\u001b[0m\u001b[0mit\u001b[0m\u001b[0;34m.\u001b[0m\u001b[0mthrow\u001b[0m\u001b[0;34m(\u001b[0m\u001b[0mMyError\u001b[0m\u001b[0;34m(\u001b[0m\u001b[0;34m'test error'\u001b[0m\u001b[0;34m)\u001b[0m\u001b[0;34m)\u001b[0m\u001b[0;34m)\u001b[0m\u001b[0;34m\u001b[0m\u001b[0;34m\u001b[0m\u001b[0m\n\u001b[0m",
      "\u001b[0;31mNameError\u001b[0m: name 'MyError' is not defined"
     ]
    }
   ],
   "source": [
    "def my_generator():\n",
    "    yield 1\n",
    "    try:\n",
    "        yield 2\n",
    "    except MyError:\n",
    "        print('Got MyError!')\n",
    "    else:\n",
    "        yield 3\n",
    "    yield 4\n",
    "\n",
    "it = my_generator()\n",
    "print(next(it)) # Yield 1\n",
    "print(next(it)) # Yield 2\n",
    "print(it.throw(MyError('test error')))"
   ]
  },
  {
   "cell_type": "code",
   "execution_count": 21,
   "metadata": {},
   "outputs": [
    {
     "output_type": "stream",
     "name": "stdout",
     "text": [
      "0 ticks remaining\n"
     ]
    }
   ],
   "source": [
    "class Reset(Exception):\n",
    "    def __init__(self, msg):\n",
    "        print(msg)\n",
    "def timer(period):\n",
    "    current = period\n",
    "    while current:\n",
    "        current -= 1\n",
    "    try:\n",
    "        yield current\n",
    "    except Reset:\n",
    "        current = period\n",
    "\n",
    "def check_for_reset():\n",
    "    # Poll for external event\n",
    "    pass\n",
    "\n",
    "def announce(remaining):\n",
    "    print(f'{remaining} ticks remaining')\n",
    "\n",
    "def run():\n",
    "    it = timer(4)\n",
    "    while True:\n",
    "        try:\n",
    "            if check_for_reset():\n",
    "                current = it.throw(Reset('reset'))\n",
    "            else:\n",
    "                current = next(it)\n",
    "        except StopIteration:\n",
    "            break\n",
    "        else:\n",
    "            announce(current)\n",
    "run()"
   ]
  },
  {
   "source": [
    "## \\[Item 36\\] Consider itertools for Working with Iterators and Generators"
   ],
   "cell_type": "markdown",
   "metadata": {}
  },
  {
   "cell_type": "code",
   "execution_count": 23,
   "metadata": {},
   "outputs": [
    {
     "output_type": "stream",
     "name": "stdout",
     "text": [
      "[1, 2, 3, 4, 5, 6]\n"
     ]
    }
   ],
   "source": [
    "import itertools\n",
    "it = itertools.chain([1, 2, 3], [4, 5, 6])\n",
    "print(list(it))"
   ]
  },
  {
   "cell_type": "code",
   "execution_count": 24,
   "metadata": {},
   "outputs": [
    {
     "output_type": "stream",
     "name": "stdout",
     "text": [
      "['Hello', 'Hello', 'Hello', 'Hello', 'Hello']\n"
     ]
    }
   ],
   "source": [
    "it = itertools.repeat('Hello', 5)\n",
    "print(list(it))"
   ]
  },
  {
   "cell_type": "code",
   "execution_count": 26,
   "metadata": {},
   "outputs": [
    {
     "output_type": "stream",
     "name": "stdout",
     "text": [
      "[1, 2, 1, 2, 1, 2, 1, 2, 1, 2]\n"
     ]
    }
   ],
   "source": [
    "it = itertools.cycle([1, 2])\n",
    "result = [ next(it) for _ in range(10) ]\n",
    "print(result)"
   ]
  },
  {
   "cell_type": "code",
   "execution_count": 27,
   "metadata": {},
   "outputs": [
    {
     "output_type": "stream",
     "name": "stdout",
     "text": [
      "['first', 'second']\n['first', 'second']\n['first', 'second']\n"
     ]
    }
   ],
   "source": [
    "it1, it2, it3 = itertools.tee(['first', 'second'], 3)\n",
    "print(list(it1))\n",
    "print(list(it2))\n",
    "print(list(it3))"
   ]
  },
  {
   "cell_type": "code",
   "execution_count": 28,
   "metadata": {},
   "outputs": [
    {
     "output_type": "stream",
     "name": "stdout",
     "text": [
      "zip:  [('one', 1), ('two', 2)]\nzip_longest: [('one', 1), ('two', 2), ('three', 'nope')]\n"
     ]
    }
   ],
   "source": [
    "keys = ['one', 'two', 'three']\n",
    "values = [ 1, 2 ]\n",
    "normal = list(zip(keys, values))\n",
    "print('zip: ', normal) # 2 items\n",
    "it = itertools.zip_longest(keys, values, fillvalue='nope')\n",
    "longest = list(it)\n",
    "print('zip_longest:', longest) # 3 items with nope"
   ]
  },
  {
   "cell_type": "code",
   "execution_count": 29,
   "metadata": {},
   "outputs": [
    {
     "output_type": "stream",
     "name": "stdout",
     "text": [
      "First five:  [1, 2, 3, 4, 5]\nMiddle odds: [3, 5, 7]\n"
     ]
    }
   ],
   "source": [
    "values = [1, 2, 3, 4, 5, 6, 7, 8, 9, 10]\n",
    "first_five = itertools.islice(values, 5)\n",
    "print('First five: ', list(first_five))\n",
    "middle_odds = itertools.islice(values, 2, 8, 2)\n",
    "print('Middle odds:', list(middle_odds))"
   ]
  },
  {
   "cell_type": "code",
   "execution_count": 30,
   "metadata": {},
   "outputs": [
    {
     "output_type": "stream",
     "name": "stdout",
     "text": [
      "[1, 2, 3, 4, 5, 6]\n"
     ]
    }
   ],
   "source": [
    "values = [1, 2, 3, 4, 5, 6, 7, 8, 9, 10]\n",
    "less_than_seven = lambda x: x < 7\n",
    "it = itertools.takewhile(less_than_seven, values)\n",
    "print(list(it))"
   ]
  },
  {
   "cell_type": "code",
   "execution_count": 40,
   "metadata": {},
   "outputs": [
    {
     "output_type": "stream",
     "name": "stdout",
     "text": [
      "[7, 8, 9, 10]\n"
     ]
    }
   ],
   "source": [
    "values = [1, 2, 3, 4, 5, 6, 7, 8, 9, 10]\n",
    "less_than_seven = lambda x: x < 7\n",
    "it = itertools.dropwhile(less_than_seven, values)\n",
    "print(list(it))"
   ]
  },
  {
   "cell_type": "code",
   "execution_count": 32,
   "metadata": {},
   "outputs": [
    {
     "output_type": "stream",
     "name": "stdout",
     "text": [
      "Filter :  [2, 4, 6, 8, 10]\nFilter false:  [1, 3, 5, 7, 9]\n"
     ]
    }
   ],
   "source": [
    "values = [1, 2, 3, 4, 5, 6, 7, 8, 9, 10]\n",
    "evens = lambda x: x % 2 == 0\n",
    "filter_result = filter(evens, values)\n",
    "print('Filter : ', list(filter_result))\n",
    "filter_false_result = itertools.filterfalse(evens, values)\n",
    "print('Filter false: ', list(filter_false_result))"
   ]
  },
  {
   "cell_type": "code",
   "execution_count": 43,
   "metadata": {},
   "outputs": [
    {
     "output_type": "stream",
     "name": "stdout",
     "text": [
      "Sum :  [1, 3, 6, 10, 15, 21, 28, 36, 45, 55]\nModulo :  [1, 3, 6, 10, 15, 1, 8, 16, 5, 15]\n"
     ]
    }
   ],
   "source": [
    "values = [1, 2, 3, 4, 5, 6, 7, 8, 9, 10]\n",
    "sum_reduce = itertools.accumulate(values)\n",
    "print('Sum : ', list(sum_reduce))\n",
    "def sum_modulo_20( first, second):\n",
    "    output = first + second\n",
    "    return output % 20\n",
    "modulo_reduce = itertools.accumulate(values, sum_modulo_20)\n",
    "print('Modulo : ', list(modulo_reduce))"
   ]
  },
  {
   "cell_type": "code",
   "execution_count": 44,
   "metadata": {},
   "outputs": [
    {
     "output_type": "stream",
     "name": "stdout",
     "text": [
      "Single:  [(1, 1), (1, 2), (2, 1), (2, 2)]\nMultiple: [(1, 'a'), (1, 'b'), (2, 'a'), (2, 'b')]\n"
     ]
    }
   ],
   "source": [
    "single = itertools.product([1, 2], repeat=2)\n",
    "print('Single: ', list(single))\n",
    "multiple = itertools.product([1, 2], ['a', 'b'])\n",
    "print('Multiple:', list(multiple))"
   ]
  },
  {
   "cell_type": "code",
   "execution_count": 45,
   "metadata": {},
   "outputs": [
    {
     "output_type": "stream",
     "name": "stdout",
     "text": [
      "[(1, 2), (1, 3), (1, 4), (2, 1), (2, 3), (2, 4), (3, 1), (3, 2), (3, 4), (4, 1), (4, 2), (4, 3)]\n"
     ]
    }
   ],
   "source": [
    "it = itertools.permutations([1, 2, 3, 4], 2)\n",
    "print(list(it))"
   ]
  },
  {
   "cell_type": "code",
   "execution_count": 46,
   "metadata": {},
   "outputs": [
    {
     "output_type": "stream",
     "name": "stdout",
     "text": [
      "[(1, 2), (1, 3), (1, 4), (2, 3), (2, 4), (3, 4)]\n"
     ]
    }
   ],
   "source": [
    "it = itertools.combinations([1, 2, 3, 4], 2)\n",
    "print(list(it))"
   ]
  },
  {
   "cell_type": "code",
   "execution_count": 47,
   "metadata": {},
   "outputs": [
    {
     "output_type": "stream",
     "name": "stdout",
     "text": [
      "[(1, 1), (1, 2), (1, 3), (1, 4), (2, 2), (2, 3), (2, 4), (3, 3), (3, 4), (4, 4)]\n"
     ]
    }
   ],
   "source": [
    "it = itertools.combinations_with_replacement([1, 2, 3, 4], 2)\n",
    "print(list(it))"
   ]
  },
  {
   "source": [
    "## \\[Item 37\\] Compose Classes Instead of Nesting Many Levels of Built-in Types"
   ],
   "cell_type": "markdown",
   "metadata": {}
  },
  {
   "cell_type": "code",
   "execution_count": 1,
   "metadata": {},
   "outputs": [
    {
     "output_type": "stream",
     "name": "stdout",
     "text": [
      "90.0\n"
     ]
    }
   ],
   "source": [
    "class SimpleGradebook:\n",
    "    def __init__(self):\n",
    "        self._grades = {}\n",
    "    def add_student(self, name):\n",
    "        self._grades[name] = []\n",
    "    def report_grade(self, name, score):\n",
    "        self._grades[name].append(score)\n",
    "    def average_grade(self, name):\n",
    "        grades = self._grades[name]\n",
    "        return sum(grades) / len(grades)\n",
    "book = SimpleGradebook()\n",
    "book.add_student('Isaac Newton')\n",
    "book.report_grade('Isaac Newton', 90)\n",
    "book.report_grade('Isaac Newton', 95)\n",
    "book.report_grade('Isaac Newton', 85)\n",
    "print(book.average_grade('Isaac Newton'))"
   ]
  },
  {
   "cell_type": "code",
   "execution_count": 2,
   "metadata": {},
   "outputs": [
    {
     "output_type": "stream",
     "name": "stdout",
     "text": [
      "81.25\n"
     ]
    }
   ],
   "source": [
    "from collections import defaultdict\n",
    "class BySubjectGradebook:\n",
    "    def __init__(self):\n",
    "        self._grades = {} # Outer dict\n",
    "    def add_student(self, name):\n",
    "        self._grades[name] = defaultdict(list) # Inner dict\n",
    "    def report_grade(self, name, subject, grade):\n",
    "        by_subject = self._grades[name]\n",
    "        grade_list = by_subject[subject]\n",
    "        grade_list.append(grade)\n",
    "    def average_grade(self, name):\n",
    "        by_subject = self._grades[name]\n",
    "        total, count = 0, 0\n",
    "        for grades in by_subject.values():\n",
    "            total += sum(grades)\n",
    "            count += len(grades)\n",
    "        return total / count\n",
    "book = BySubjectGradebook()\n",
    "book.add_student('Albert Einstein')\n",
    "book.report_grade('Albert Einstein', 'Math', 75)\n",
    "book.report_grade('Albert Einstein', 'Math', 65)\n",
    "book.report_grade('Albert Einstein', 'Gym', 90)\n",
    "book.report_grade('Albert Einstein', 'Gym', 95)\n",
    "print(book.average_grade('Albert Einstein'))"
   ]
  },
  {
   "cell_type": "code",
   "execution_count": 4,
   "metadata": {},
   "outputs": [
    {
     "output_type": "stream",
     "name": "stdout",
     "text": [
      "91.0\n"
     ]
    }
   ],
   "source": [
    "from collections import defaultdict\n",
    "class WeightedGradebook:\n",
    "    def __init__(self):\n",
    "        self._grades = {}\n",
    "    def add_student(self, name):\n",
    "        self._grades[name] = defaultdict(list)\n",
    "    def report_grade(self, name, subject, score, weight):\n",
    "        by_subject = self._grades[name]\n",
    "        grade_list = by_subject[subject]\n",
    "        grade_list.append((score, weight))\n",
    "    def average_grade(self, name):\n",
    "        by_subject = self._grades[name]\n",
    "        score_sum, score_count = 0, 0\n",
    "        for subject, scores in by_subject.items():\n",
    "            subject_avg, total_weight = 0, 0\n",
    "        for score, weight in scores:\n",
    "            subject_avg += score * weight\n",
    "            total_weight += weight\n",
    "        score_sum += subject_avg / total_weight\n",
    "        score_count += 1\n",
    "        return score_sum / score_count\n",
    "book = WeightedGradebook()\n",
    "book.add_student('Albert Einstein')\n",
    "book.report_grade('Albert Einstein', 'Math', 75, 0.05)\n",
    "book.report_grade('Albert Einstein', 'Math', 65, 0.15)\n",
    "book.report_grade('Albert Einstein', 'Math', 70, 0.80)\n",
    "book.report_grade('Albert Einstein', 'Gym', 100, 0.40)\n",
    "book.report_grade('Albert Einstein', 'Gym', 85, 0.60)\n",
    "print(book.average_grade('Albert Einstein'))"
   ]
  },
  {
   "cell_type": "code",
   "execution_count": 5,
   "metadata": {},
   "outputs": [
    {
     "output_type": "stream",
     "name": "stdout",
     "text": [
      "89.5\n"
     ]
    }
   ],
   "source": [
    "grades = []\n",
    "grades.append((95, 0.45))\n",
    "grades.append((85, 0.55))\n",
    "total = sum(score * weight for score, weight in grades)\n",
    "total_weight = sum(weight for _, weight in grades)\n",
    "average_grade = total / total_weight\n",
    "print(average_grade)"
   ]
  },
  {
   "cell_type": "code",
   "execution_count": 8,
   "metadata": {},
   "outputs": [
    {
     "output_type": "stream",
     "name": "stdout",
     "text": [
      "80.25\n"
     ]
    }
   ],
   "source": [
    "from collections import namedtuple, defaultdict\n",
    "Grade = namedtuple('Grade', ('score', 'weight'))\n",
    "class Subject:\n",
    "    def __init__(self):\n",
    "        self._grades = []\n",
    "    def report_grade(self, score, weight):\n",
    "        self._grades.append(Grade(score, weight))\n",
    "    def average_grade(self):\n",
    "        total, total_weight = 0, 0\n",
    "\n",
    "        for grade in self._grades:\n",
    "            total += grade.score * grade.weight\n",
    "            total_weight += grade.weight\n",
    "        return total / total_weight\n",
    "\n",
    "class Student:\n",
    "    def __init__(self):\n",
    "        self._subjects = defaultdict(Subject)\n",
    "    def get_subject(self, name):\n",
    "        return self._subjects[name]\n",
    "    def average_grade(self):\n",
    "        total, count = 0, 0\n",
    "        for subject in self._subjects.values():\n",
    "            total += subject.average_grade()\n",
    "            count += 1\n",
    "        return total / count\n",
    "class Gradebook:\n",
    "    def __init__(self):\n",
    "        self._students = defaultdict(Student)\n",
    "    def get_student(self, name):\n",
    "        return self._students[name]\n",
    "book = Gradebook()\n",
    "albert = book.get_student('Albert Einstein')\n",
    "math = albert.get_subject('Math')\n",
    "math.report_grade(75, 0.05)\n",
    "math.report_grade(65, 0.15)\n",
    "math.report_grade(70, 0.80)\n",
    "gym = albert.get_subject('Gym')\n",
    "gym.report_grade(100, 0.40)\n",
    "gym.report_grade(85, 0.60)\n",
    "print(albert.average_grade())"
   ]
  },
  {
   "source": [
    "## \\[Item 37\\] Accept Functions Instead of Classes for Simple Interfaces"
   ],
   "cell_type": "markdown",
   "metadata": {}
  },
  {
   "cell_type": "code",
   "execution_count": 9,
   "metadata": {},
   "outputs": [
    {
     "output_type": "stream",
     "name": "stdout",
     "text": [
      "['Plato', 'Socrates', 'Aristotle', 'Archimedes']\n"
     ]
    }
   ],
   "source": [
    "names = ['Socrates', 'Archimedes', 'Plato', 'Aristotle']\n",
    "names.sort(key=len)\n",
    "print(names)"
   ]
  },
  {
   "cell_type": "code",
   "execution_count": 10,
   "metadata": {},
   "outputs": [
    {
     "output_type": "stream",
     "name": "stdout",
     "text": [
      "Before: {'green': 12, 'blue': 3}\nKey added\nKey added\nAfter:  {'green': 12, 'blue': 20, 'red': 5, 'orange': 9}\n"
     ]
    }
   ],
   "source": [
    "def log_missing():\n",
    "    print('Key added')\n",
    "    return 0\n",
    "\n",
    "from collections import defaultdict\n",
    "current = {'green': 12, 'blue': 3}\n",
    "increments = [\n",
    " ('red', 5),\n",
    " ('blue', 17),\n",
    " ('orange', 9),\n",
    "]\n",
    "result = defaultdict(log_missing, current)\n",
    "print('Before:', dict(result))\n",
    "for key, amount in increments:\n",
    "    result[key] += amount\n",
    "print('After: ', dict(result))"
   ]
  },
  {
   "cell_type": "code",
   "execution_count": 11,
   "metadata": {},
   "outputs": [
    {
     "output_type": "stream",
     "name": "stdout",
     "text": [
      "defaultdict(<function increment_with_report.<locals>.missing at 0x7fa88c0b0e50>, {'green': 12, 'blue': 20, 'red': 5, 'orange': 9})\n"
     ]
    }
   ],
   "source": [
    "from collections import defaultdict\n",
    "current = {'green': 12, 'blue': 3}\n",
    "increments = [\n",
    " ('red', 5),\n",
    " ('blue', 17),\n",
    " ('orange', 9),\n",
    "]\n",
    "def increment_with_report(current, increments):\n",
    "    added_count = 0\n",
    "    def missing():\n",
    "        nonlocal added_count # Stateful closure\n",
    "        added_count += 1\n",
    "        return 0\n",
    "    result = defaultdict(missing, current)\n",
    "    for key, amount in increments:\n",
    "        result[key] += amount\n",
    "    return result, added_count\n",
    "result, count = increment_with_report(current, increments)\n",
    "assert count == 2\n",
    "print(result)"
   ]
  },
  {
   "cell_type": "code",
   "execution_count": 13,
   "metadata": {},
   "outputs": [
    {
     "output_type": "stream",
     "name": "stdout",
     "text": [
      "defaultdict(<bound method CountMissing.missing of <__main__.CountMissing object at 0x7fa88c046850>>, {'green': 12, 'blue': 20, 'red': 5, 'orange': 9})\n"
     ]
    }
   ],
   "source": [
    "from collections import defaultdict\n",
    "current = {'green': 12, 'blue': 3}\n",
    "increments = [\n",
    " ('red', 5),\n",
    " ('blue', 17),\n",
    " ('orange', 9),\n",
    "]\n",
    "class CountMissing:\n",
    "    def __init__(self):\n",
    "        self.added = 0\n",
    "    def missing(self):\n",
    "        self.added += 1\n",
    "        return 0\n",
    "counter = CountMissing()\n",
    "result = defaultdict(counter.missing, current) # Method ref\n",
    "for key, amount in increments:\n",
    "    result[key] += amount\n",
    "assert counter.added == 2\n",
    "print(result)"
   ]
  },
  {
   "cell_type": "code",
   "execution_count": 14,
   "metadata": {},
   "outputs": [
    {
     "output_type": "stream",
     "name": "stdout",
     "text": [
      "defaultdict(<__main__.BetterCountMissing object at 0x7fa88c055220>, {'green': 12, 'blue': 20, 'red': 5, 'orange': 9})\n"
     ]
    }
   ],
   "source": [
    "from collections import defaultdict\n",
    "current = {'green': 12, 'blue': 3}\n",
    "increments = [\n",
    " ('red', 5),\n",
    " ('blue', 17),\n",
    " ('orange', 9),\n",
    "]\n",
    "class BetterCountMissing:\n",
    "    def __init__(self):\n",
    "        self.added = 0\n",
    "    def __call__(self):\n",
    "        self.added += 1\n",
    "        return 0\n",
    "counter = BetterCountMissing()\n",
    "assert counter() == 0\n",
    "assert callable(counter)\n",
    "counter = BetterCountMissing()\n",
    "result = defaultdict(counter, current) # Relies on __call__\n",
    "for key, amount in increments:\n",
    "    result[key] += amount\n",
    "assert counter.added == 2\n",
    "print(result)"
   ]
  },
  {
   "source": [
    "\n",
    "## \\[Item 38\\] Accept Functions Instead of Classes for Simple Interfaces"
   ],
   "cell_type": "markdown",
   "metadata": {}
  },
  {
   "cell_type": "code",
   "execution_count": 1,
   "metadata": {},
   "outputs": [
    {
     "output_type": "stream",
     "name": "stdout",
     "text": [
      "['Plato', 'Socrates', 'Aristotle', 'Archimedes']\n"
     ]
    }
   ],
   "source": [
    "names = ['Socrates', 'Archimedes', 'Plato', 'Aristotle']\n",
    "names.sort(key=len)\n",
    "print(names)"
   ]
  },
  {
   "cell_type": "code",
   "execution_count": 2,
   "metadata": {},
   "outputs": [
    {
     "output_type": "stream",
     "name": "stdout",
     "text": [
      "Before: {'green': 12, 'blue': 3}\nKey added\nKey added\nAfter:  {'green': 12, 'blue': 20, 'red': 5, 'orange': 9}\n"
     ]
    }
   ],
   "source": [
    "def log_missing():\n",
    " print('Key added')\n",
    " return 0\n",
    "from collections import defaultdict\n",
    "current = {'green': 12, 'blue': 3}\n",
    "increments = [\n",
    " ('red', 5),\n",
    " ('blue', 17),\n",
    " ('orange', 9),\n",
    "]\n",
    "result = defaultdict(log_missing, current)\n",
    "print('Before:', dict(result))\n",
    "for key, amount in increments:\n",
    " result[key] += amount\n",
    "print('After: ', dict(result))"
   ]
  },
  {
   "cell_type": "code",
   "execution_count": 4,
   "metadata": {},
   "outputs": [
    {
     "output_type": "stream",
     "name": "stdout",
     "text": [
      "defaultdict(<function increment_with_report.<locals>.missing at 0x7fb72430c820>, {'green': 12, 'blue': 20, 'red': 5, 'orange': 9})\n"
     ]
    }
   ],
   "source": [
    "from collections import defaultdict\n",
    "current = {'green': 12, 'blue': 3}\n",
    "increments = [\n",
    " ('red', 5),\n",
    " ('blue', 17),\n",
    " ('orange', 9),\n",
    "]\n",
    "def increment_with_report(current, increments):\n",
    "    added_count = 0\n",
    "    def missing():\n",
    "        nonlocal added_count # Stateful closure\n",
    "        added_count += 1\n",
    "        return 0\n",
    "    result = defaultdict(missing, current)\n",
    "    for key, amount in increments:\n",
    "        result[key] += amount\n",
    "    return result, added_count\n",
    "\n",
    "result, count = increment_with_report(current, increments)\n",
    "assert count == 2\n",
    "print(result)"
   ]
  },
  {
   "cell_type": "code",
   "execution_count": 7,
   "metadata": {},
   "outputs": [
    {
     "output_type": "stream",
     "name": "stdout",
     "text": [
      "defaultdict(<bound method CountMissing.missing of <__main__.CountMissing object at 0x7fb7242d8700>>, {'green': 12, 'blue': 20, 'red': 5, 'orange': 9})\n"
     ]
    }
   ],
   "source": [
    "from collections import defaultdict\n",
    "current = {'green': 12, 'blue': 3}\n",
    "increments = [\n",
    " ('red', 5),\n",
    " ('blue', 17),\n",
    " ('orange', 9),\n",
    "]\n",
    "class CountMissing:\n",
    "    def __init__(self):\n",
    "        self.added = 0\n",
    "    def missing(self):\n",
    "        self.added += 1\n",
    "        return 0\n",
    "counter = CountMissing()\n",
    "result = defaultdict(counter.missing, current) # Method ref\n",
    "for key, amount in increments:\n",
    "    result[key] += amount\n",
    "assert counter.added == 2\n",
    "print(result)"
   ]
  },
  {
   "cell_type": "code",
   "execution_count": 8,
   "metadata": {},
   "outputs": [
    {
     "output_type": "stream",
     "name": "stdout",
     "text": [
      "defaultdict(<__main__.BetterCountMissing object at 0x7fb724339880>, {'green': 12, 'blue': 20, 'red': 5, 'orange': 9})\n"
     ]
    }
   ],
   "source": [
    "from collections import defaultdict\n",
    "current = {'green': 12, 'blue': 3}\n",
    "increments = [\n",
    " ('red', 5),\n",
    " ('blue', 17),\n",
    " ('orange', 9),\n",
    "]\n",
    "class BetterCountMissing:\n",
    "    def __init__(self):\n",
    "        self.added = 0\n",
    "    def __call__(self):\n",
    "        self.added += 1\n",
    "        return 0\n",
    "counter = BetterCountMissing()\n",
    "assert counter() == 0\n",
    "assert callable(counter)\n",
    "counter = BetterCountMissing()\n",
    "result = defaultdict(counter, current) # Relies on __call__\n",
    "for key, amount in increments:\n",
    "    result[key] += amount\n",
    "assert counter.added == 2\n",
    "print(result)"
   ]
  },
  {
   "source": [
    "## \\[Item 39\\] Use @classmethod Polymorphism to Construct Objects Generically"
   ],
   "cell_type": "markdown",
   "metadata": {}
  },
  {
   "cell_type": "code",
   "execution_count": null,
   "metadata": {},
   "outputs": [],
   "source": []
  }
 ]
}