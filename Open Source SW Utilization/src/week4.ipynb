{
 "metadata": {
  "language_info": {
   "codemirror_mode": {
    "name": "ipython",
    "version": 3
   },
   "file_extension": ".py",
   "mimetype": "text/x-python",
   "name": "python",
   "nbconvert_exporter": "python",
   "pygments_lexer": "ipython3",
   "version": "3.8.5-final"
  },
  "orig_nbformat": 2,
  "kernelspec": {
   "name": "python3",
   "display_name": "Python 3.8.5 64-bit",
   "metadata": {
    "interpreter": {
     "hash": "31f2aee4e71d21fbe5cf8b01ff0e069b9275f58929596ceb00d14d90e3e16cd6"
    }
   }
  }
 },
 "nbformat": 4,
 "nbformat_minor": 2,
 "cells": [
  {
   "source": [
    "# Week 4\n",
    "\n",
    "## Item 7"
   ],
   "cell_type": "markdown",
   "metadata": {}
  },
  {
   "cell_type": "code",
   "execution_count": 2,
   "metadata": {},
   "outputs": [
    {
     "output_type": "stream",
     "name": "stdout",
     "text": [
      "0b111100000011011111001011111010\n"
     ]
    }
   ],
   "source": [
    "from random import randint\n",
    "random_bits = 0\n",
    "for i in range(32):\n",
    "    if randint(0, 1):\n",
    "        random_bits |= 1 << i\n",
    "print(bin(random_bits))"
   ]
  },
  {
   "source": [
    "보수 : 음수를 표현하기 위해서 보수를 사용\n",
    "- one's complement\n",
    "- two's complement\n",
    "\n",
    "곱셈과 나눗셈\n",
    "- 비트연산자로 수행"
   ],
   "cell_type": "markdown",
   "metadata": {}
  },
  {
   "cell_type": "code",
   "execution_count": 3,
   "metadata": {},
   "outputs": [
    {
     "output_type": "stream",
     "name": "stdout",
     "text": [
      "vanilla is delicious\nchocolate is delicious\npecan is delicious\nstrawberry is delicious\n"
     ]
    }
   ],
   "source": [
    "flavor_list = ['vanilla', 'chocolate', 'pecan', 'strawberry']\n",
    "for flavor in flavor_list:\n",
    "    print(f'{flavor} is delicious')"
   ]
  },
  {
   "cell_type": "code",
   "execution_count": 4,
   "metadata": {},
   "outputs": [
    {
     "output_type": "stream",
     "name": "stdout",
     "text": [
      "1: vanilla\n2: chocolate\n3: pecan\n4: strawberry\n"
     ]
    }
   ],
   "source": [
    "for i in range(len(flavor_list)):\n",
    "    flavor = flavor_list[i]\n",
    "    print(f'{i+1}: {flavor}')"
   ]
  },
  {
   "source": [
    "- 위의 코드들은 가독성이 떨어진다. clumsy하다 라고 한다.\n",
    "- enumerate wrap any iterator with a lazy generator"
   ],
   "cell_type": "markdown",
   "metadata": {}
  },
  {
   "cell_type": "code",
   "execution_count": 10,
   "metadata": {},
   "outputs": [
    {
     "output_type": "stream",
     "name": "stdout",
     "text": [
      "(0, 'vanilla')\n(1, 'chocolate')\n"
     ]
    }
   ],
   "source": [
    "it = enumerate(flavor_list)\n",
    "print(next(it))\n",
    "print(next(it))"
   ]
  },
  {
   "source": [
    "- Julia, Python\n",
    "  - rapid prototype development : 프로그램의 개발 속도면에서 c++, java와 같은 언어보다 빠름"
   ],
   "cell_type": "markdown",
   "metadata": {}
  },
  {
   "cell_type": "code",
   "execution_count": 6,
   "metadata": {},
   "outputs": [
    {
     "output_type": "stream",
     "name": "stdout",
     "text": [
      "1: vanilla\n2: chocolate\n3: pecan\n4: strawberry\n"
     ]
    }
   ],
   "source": [
    "# Way 1\n",
    "for i, flavor in enumerate(flavor_list):\n",
    "    print(f'{i+1}: {flavor}')"
   ]
  },
  {
   "cell_type": "code",
   "execution_count": 7,
   "metadata": {},
   "outputs": [
    {
     "output_type": "stream",
     "name": "stdout",
     "text": [
      "1: vanilla\n2: chocolate\n3: pecan\n4: strawberry\n"
     ]
    }
   ],
   "source": [
    "# Way 2\n",
    "for i, flavor in enumerate(flavor_list, 1):\n",
    "    print(f'{i}: {flavor}')"
   ]
  },
  {
   "source": [
    "- Dummy 가 없어서 코드를 이해하기 좋다\n",
    "- pythonic way에서는 loop보다 enumerate를 선호"
   ],
   "cell_type": "markdown",
   "metadata": {}
  },
  {
   "source": [
    "## Item 9\n",
    "for나 while loop가 끝났을때 else구문이 실행"
   ],
   "cell_type": "markdown",
   "metadata": {}
  },
  {
   "cell_type": "code",
   "execution_count": 11,
   "metadata": {},
   "outputs": [
    {
     "output_type": "stream",
     "name": "stdout",
     "text": [
      "Loop 0\nLoop 1\nLoop 2\nElse block!\n"
     ]
    }
   ],
   "source": [
    "for i in range(3):\n",
    "    print('Loop', i)\n",
    "else:\n",
    "    print('Else block!')"
   ]
  },
  {
   "cell_type": "code",
   "execution_count": 12,
   "metadata": {},
   "outputs": [
    {
     "output_type": "stream",
     "name": "stdout",
     "text": [
      "Loop 0\nLoop 1\n"
     ]
    }
   ],
   "source": [
    "for i in range(3):\n",
    "    print('Loop', i)\n",
    "    if i == 1:\n",
    "        break\n",
    "else:\n",
    "    print('Else block!')"
   ]
  },
  {
   "cell_type": "code",
   "execution_count": 13,
   "metadata": {},
   "outputs": [
    {
     "output_type": "stream",
     "name": "stdout",
     "text": [
      "For Else block!\n"
     ]
    }
   ],
   "source": [
    "for x in []:\n",
    "    print('Never runs')\n",
    "else:\n",
    "    print('For Else block!')"
   ]
  },
  {
   "cell_type": "code",
   "execution_count": 14,
   "metadata": {},
   "outputs": [
    {
     "output_type": "stream",
     "name": "stdout",
     "text": [
      "while else block!\n"
     ]
    }
   ],
   "source": [
    "while False:\n",
    "    print(\"never runs\")\n",
    "else:\n",
    "    print(\"while else block!\")"
   ]
  },
  {
   "cell_type": "code",
   "execution_count": 15,
   "metadata": {},
   "outputs": [
    {
     "output_type": "stream",
     "name": "stdout",
     "text": [
      "Testing 2\nTesting 3\nTesting 4\nComprise\n"
     ]
    }
   ],
   "source": [
    "a = 4\n",
    "b = 9\n",
    "\n",
    "for i in range(2, min(a,b) + 1):\n",
    "    print('Testing', i)\n",
    "    if a % i == 0 and b % i == 0:\n",
    "        print('Not coprime')\n",
    "        break\n",
    "else:\n",
    "    print('Comprise')\n"
   ]
  },
  {
   "cell_type": "code",
   "execution_count": 17,
   "metadata": {},
   "outputs": [],
   "source": [
    "# Way 1 returns the default outcome if I fall through the loop.\n",
    "def coprime(a, b):\n",
    "    for i in range(2, min(a, b) + 1):\n",
    "        if a % i == 0 and b % i == 0:\n",
    "            return False\n",
    "    return True\n",
    "assert coprime(4, 9)\n",
    "assert not coprime(3, 6)"
   ]
  },
  {
   "cell_type": "code",
   "execution_count": 18,
   "metadata": {},
   "outputs": [],
   "source": [
    "# Way 2 breaks out of the loop as soon as I find something.\n",
    "def coprime_alternate(a, b):\n",
    "    is_coprime = True\n",
    "    for i in range(2, min(a, b) + 1):\n",
    "        if a % i == 0 and b % i == 0:\n",
    "            is_coprime = False\n",
    "            break\n",
    "    return is_coprime\n",
    "assert coprime(4, 9)\n",
    "assert not coprime(3, 6)"
   ]
  },
  {
   "source": [
    "assert는 뒤의 조건이 True가 아니면 AssertError를 출력한다"
   ],
   "cell_type": "markdown",
   "metadata": {}
  },
  {
   "source": [
    "## Item 10 Prevent Repetition with Assignment Expressions\n",
    "\n",
    "- a:=b \"a walrus b\" \n",
    "- code duplication을 줄이기 위함"
   ],
   "cell_type": "markdown",
   "metadata": {}
  },
  {
   "source": [
    "### Issue 1 : multiple reference"
   ],
   "cell_type": "markdown",
   "metadata": {}
  },
  {
   "cell_type": "code",
   "execution_count": 47,
   "metadata": {},
   "outputs": [
    {
     "output_type": "stream",
     "name": "stdout",
     "text": [
      "5\n"
     ]
    }
   ],
   "source": [
    "fresh_fruit = { 'apple': 10, 'banana': 8, 'lemon': 5}\n",
    "def make_lemonade(count):\n",
    "    print(count)\n",
    "def out_of_stock():\n",
    "    print('out_of_stock')\n",
    "def make_cider(count):\n",
    "    print(count)\n",
    "count = fresh_fruit.get('lemon', 0)\n",
    "if count: # Multiple references\n",
    "    make_lemonade(count)\n",
    "else:\n",
    "    out_of_stock()"
   ]
  },
  {
   "cell_type": "code",
   "execution_count": 48,
   "metadata": {},
   "outputs": [
    {
     "output_type": "stream",
     "name": "stdout",
     "text": [
      "5\n10\nout_of_stock\n"
     ]
    }
   ],
   "source": [
    "if count := fresh_fruit.get('lemon', 0): # using the walrus operator\n",
    "    make_lemonade(count)\n",
    "else:\n",
    "    out_of_stock()\n",
    "    \n",
    "if (count := fresh_fruit.get('apple', 0)) >= 4: # using the walrus operator\n",
    "    make_cider(count)\n",
    "else:\n",
    "    out_of_stock()\n",
    "if (count := fresh_fruit.get('strawberry', 0)) >= 4: # using the walrus operator\n",
    "    make_cider(count)\n",
    "else:\n",
    "    out_of_stock()"
   ]
  },
  {
   "source": [
    ":= (코끼리(walrus)닮았다 해서 붙인 이름)"
   ],
   "cell_type": "markdown",
   "metadata": {}
  },
  {
   "source": [
    "### Issue 2 Repetitive pattern"
   ],
   "cell_type": "markdown",
   "metadata": {}
  },
  {
   "cell_type": "code",
   "execution_count": 58,
   "metadata": {},
   "outputs": [
    {
     "output_type": "stream",
     "name": "stdout",
     "text": [
      "8\n"
     ]
    }
   ],
   "source": [
    "def slice_bananas(count):\n",
    "    return count\n",
    "\n",
    "def make_smoothies(pieces):\n",
    "    return pieces\n",
    "\n",
    "class OutOfBananas(Exception):\n",
    "    pass\n",
    "\n",
    "pieces = 0\n",
    "count = fresh_fruit.get('banana', 0)\n",
    "\n",
    "if count >= 2:\n",
    "    pieces = slice_smoothies(count)\n",
    "try:\n",
    "    smoothies = make_smoothies(pieces)\n",
    "except OutOfBananas:\n",
    "    out_of_stock()\n",
    "\n",
    "print(smoothies)"
   ]
  },
  {
   "cell_type": "code",
   "execution_count": 61,
   "metadata": {},
   "outputs": [
    {
     "output_type": "stream",
     "name": "stdout",
     "text": [
      "8\n"
     ]
    }
   ],
   "source": [
    "if (count := fresh_fruit.get('banana', 0)) >= 2:\n",
    "    pieces = slice_smoothies(count)\n",
    "else:\n",
    "    pieces = 0\n",
    "\n",
    "try:\n",
    "    smoothies = make_smoothies(pieces)\n",
    "except OutOfBananas:\n",
    "    out_of_stock()\n",
    "\n",
    "print(smoothies)"
   ]
  },
  {
   "source": [
    "### Issue 3 :  Simulate switch-case statement"
   ],
   "cell_type": "markdown",
   "metadata": {}
  },
  {
   "cell_type": "code",
   "execution_count": 63,
   "metadata": {},
   "outputs": [],
   "source": [
    "count = fresh_fruit.get('banana', 0)\n",
    "if count >= 2:\n",
    "    pieces = slice_bananas(count)\n",
    "    to_enjoy = make_smoothies(pieces)\n",
    "else:\n",
    "    count = fresh_fruit.get('apple', 0)\n",
    "    if count >= 4:\n",
    "        to_enjoy = make_cider(count)\n",
    "    else:\n",
    "        count = fresh_fruit.get('lemon', 0)\n",
    "        if count:\n",
    "            to_enjoy = make_lemonade(count)\n",
    "        else:\n",
    "            to_enjoy = 'Nothing'"
   ]
  },
  {
   "cell_type": "code",
   "execution_count": 66,
   "metadata": {},
   "outputs": [],
   "source": [
    "if (count := fresh_fruit.get('banana', 0)) >= 2:\n",
    "    pieces = slice_bananas(count)\n",
    "    to_enjoy = make_smoothies(pieces)\n",
    "elif (count := fresh_fruit.get('apple', 0)) >= 4:\n",
    "    to_enjoy = make_cider(count)\n",
    "elif count := fresh_fruit.get('lemon', 0):\n",
    "    to_enjoy = make_lemonade(count)\n",
    "else:\n",
    "    to_enjoy = 'Nothing'"
   ]
  },
  {
   "cell_type": "code",
   "execution_count": null,
   "metadata": {},
   "outputs": [],
   "source": [
    "def pick_fruit():\n",
    " ...\n",
    "def make_juice(fruit, count):\n",
    " ...\n",
    "bottles = []\n",
    "fresh_fruit = pick_fruit()\n",
    "while fresh_fruit:\n",
    "    for fruit, count in fresh_fruit.items():\n",
    "    batch = make_juice(fruit, count)\n",
    "    bottles.extend(batch)\n",
    "    fresh_fruit = pick_fruit()"
   ]
  },
  {
   "cell_type": "code",
   "execution_count": null,
   "metadata": {},
   "outputs": [],
   "source": [
    "bottles = []\n",
    "while True: # Loop\n",
    "    fresh_fruit = pick_fruit()\n",
    "    if not fresh_fruit: # And a half\n",
    "        break\n",
    "    for fruit, count in fresh_fruit.items():\n",
    "        batch = make_juice(fruit, count)\n",
    "        bottles.extend(batch)"
   ]
  },
  {
   "cell_type": "code",
   "execution_count": null,
   "metadata": {},
   "outputs": [],
   "source": [
    "bottles = []\n",
    "while fresh_fruit := pick_fruit():\n",
    "    for fruit, count in fresh_fruit.items():\n",
    "    batch = make_juice(fruit, count)\n",
    "    bottles.extend(batch)"
   ]
  },
  {
   "cell_type": "code",
   "execution_count": null,
   "metadata": {},
   "outputs": [],
   "source": [
    "import os"
   ]
  }
 ]
}