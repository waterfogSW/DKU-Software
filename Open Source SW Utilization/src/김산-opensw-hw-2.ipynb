{
 "metadata": {
  "language_info": {
   "codemirror_mode": {
    "name": "ipython",
    "version": 3
   },
   "file_extension": ".py",
   "mimetype": "text/x-python",
   "name": "python",
   "nbconvert_exporter": "python",
   "pygments_lexer": "ipython3",
   "version": "3.8.5"
  },
  "orig_nbformat": 2,
  "kernelspec": {
   "name": "python36964bit30802fb5f7bf40f1968c8d1a572bc8ce",
   "display_name": "Python 3.8.5 64-bit"
  },
  "metadata": {
   "interpreter": {
    "hash": "31f2aee4e71d21fbe5cf8b01ff0e069b9275f58929596ceb00d14d90e3e16cd6"
   }
  }
 },
 "nbformat": 4,
 "nbformat_minor": 2,
 "cells": [
  {
   "source": [
    "# \\[오픈소스SW 활용\\] HW-2\n",
    "\n",
    "오픈소스SW 활용 3분반, 32170578, 김산"
   ],
   "cell_type": "markdown",
   "metadata": {}
  },
  {
   "source": [
    "## \\[Item 11\\] Know How to Slice Sequences\n",
    "- list\n",
    "- dictionary\n",
    "- tuple\n",
    "\n",
    "Dictionary 자료구조는 hash function을 이용하여 동작한다\n",
    "- 키값에 해싱함수를 적용해서 나온 결과를 bustket이라는 곳에 대응시켜 value를 얻는다."
   ],
   "cell_type": "markdown",
   "metadata": {}
  },
  {
   "cell_type": "code",
   "execution_count": 35,
   "metadata": {},
   "outputs": [
    {
     "output_type": "stream",
     "name": "stdout",
     "text": [
      "Middle two:  ['d', 'e']\nAll but ends: ['b', 'c', 'd', 'e', 'f', 'g']\n"
     ]
    }
   ],
   "source": [
    "a = ['a', 'b', 'c', 'd', 'e', 'f', 'g', 'h']\n",
    "assert a[:5] == a[0:5]\n",
    "assert a[5:] == a[5:len(a)]\n",
    "print('Middle two: ', a[3:5])\n",
    "print('All but ends:', a[1:7])"
   ]
  },
  {
   "source": [
    "- slice index\n",
    "  - \\[0:5:2\\] : 0~5까지(5빼고 ) 2씩 증가 \\[start:end:increment\\]\n",
    "  - slice했다 해서 list의 값이 변하지 않는다."
   ],
   "cell_type": "markdown",
   "metadata": {}
  },
  {
   "cell_type": "code",
   "execution_count": 36,
   "metadata": {},
   "outputs": [
    {
     "output_type": "stream",
     "name": "stdout",
     "text": [
      "['a', 'b', 'c', 'd', 'e', 'f', 'g', 'h']\n['a', 'b', 'c', 'd', 'e']\n['a', 'b', 'c', 'd', 'e', 'f', 'g']\n['e', 'f', 'g', 'h']\n['f', 'g', 'h']\n['c', 'd', 'e']\n['c', 'd', 'e', 'f', 'g']\n['f', 'g']\n"
     ]
    }
   ],
   "source": [
    "print(a[:]) # ['a', 'b', 'c', 'd', 'e', 'f', 'g', 'h']\n",
    "print(a[:5]) # ['a', 'b', 'c', 'd', 'e']\n",
    "print(a[:-1]) # ['a', 'b', 'c', 'd', 'e', 'f', 'g']\n",
    "print(a[4:]) # ['e', 'f', 'g', 'h']\n",
    "print(a[-3:]) # ['f', 'g', 'h']\n",
    "print(a[2:5]) # ['c', 'd', 'e']\n",
    "print(a[2:-1]) # ['c', 'd', 'e', 'f', 'g']\n",
    "print(a[-3:-1]) # ['f', 'g']"
   ]
  },
  {
   "source": [
    "인덱스 -1과 같이 음수를 통해 역순으로 참조할 수 있다"
   ],
   "cell_type": "markdown",
   "metadata": {}
  },
  {
   "cell_type": "code",
   "execution_count": 39,
   "metadata": {},
   "outputs": [
    {
     "output_type": "stream",
     "name": "stdout",
     "text": [
      "['a', 'b', 'c', 'd', 'e', 'f', 'g', 'h']\n['a', 'b', 'c', 'd', 'e', 'f', 'g', 'h']\n"
     ]
    }
   ],
   "source": [
    "first_20_items = a[:20]\n",
    "last_20_items = a[-20:]\n",
    "\n",
    "print(first_20_items)\n",
    "print(last_20_items)\n",
    "# 인덱스보다 아이템의 수가 부족한 경우 있는 내용만 출력된다"
   ]
  },
  {
   "cell_type": "code",
   "execution_count": 40,
   "metadata": {},
   "outputs": [
    {
     "output_type": "execute_result",
     "data": {
      "text/plain": [
       "['a', 'b', 'c', 'd', 'e', 'f', 'g', 'h']"
      ]
     },
     "metadata": {},
     "execution_count": 40
    }
   ],
   "source": [
    "a[-0:] \n",
    "# a\\[-0\\]은 a\\[:\\]와 같이 리스트의 모든 내용을 출력한다\n"
   ]
  },
  {
   "cell_type": "code",
   "execution_count": 41,
   "metadata": {},
   "outputs": [
    {
     "output_type": "stream",
     "name": "stdout",
     "text": [
      "Before:  ['d', 'e', 'f', 'g', 'h']\nAfter:  ['d', 99, 'f', 'g', 'h']\nNo change: ['a', 'b', 'c', 'd', 'e', 'f', 'g', 'h']\n"
     ]
    }
   ],
   "source": [
    "b = a[3:]\n",
    "print('Before: ', b)\n",
    "b[1] = 99\n",
    "print('After: ', b)\n",
    "print('No change:', a) "
   ]
  },
  {
   "cell_type": "code",
   "execution_count": 43,
   "metadata": {},
   "outputs": [
    {
     "output_type": "stream",
     "name": "stdout",
     "text": [
      "Before  ['a', 'b', 99, 22, 14, 'h']\nAfter  ['a', 'b', 99, 22, 14]\n"
     ]
    }
   ],
   "source": [
    "print('Before ', a)\n",
    "a[2:7] = [99, 22, 14]\n",
    "print('After ', a) \n",
    "# 인덱스 범위보다 삽입할 값이 더 적을경우 리스트의 크기가 줄어든다\n"
   ]
  },
  {
   "cell_type": "code",
   "execution_count": 45,
   "metadata": {},
   "outputs": [],
   "source": [
    "b = a[:]\n",
    "assert b == a and b is not a "
   ]
  },
  {
   "cell_type": "code",
   "execution_count": 46,
   "metadata": {},
   "outputs": [
    {
     "output_type": "stream",
     "name": "stdout",
     "text": [
      "Before a ['a', 'b', 99, 22, 14]\nBefore b ['a', 'b', 99, 22, 14]\nAfter a  [101, 102, 103]\nAfter b  [101, 102, 103]\n"
     ]
    }
   ],
   "source": [
    "b = a\n",
    "print('Before a', a)\n",
    "print('Before b', b)\n",
    "a[:] = [101, 102, 103]\n",
    "assert a is b # Still the same list object\n",
    "print('After a ', a) # Now has different contents\n",
    "print('After b ', b) # Same list, so same contents as a \n"
   ]
  },
  {
   "source": [
    "- a = b 대입 연산을 하게 되면같은 object가 된다.(같은 reference가 됨)\n",
    "- 따라서 리스트에 대한 copy를 생각하면 b = a\\[:\\]와 같이 사용해야 함"
   ],
   "cell_type": "markdown",
   "metadata": {}
  },
  {
   "source": [
    "이러한 python의 슬라이스 방식은 다음과 같이 문자열을 처리할때 특히 더 강력했던 것 같습니다."
   ],
   "cell_type": "markdown",
   "metadata": {}
  },
  {
   "cell_type": "code",
   "execution_count": 1,
   "metadata": {},
   "outputs": [
    {
     "output_type": "stream",
     "name": "stdout",
     "text": [
      "Pyt\nyh\n"
     ]
    }
   ],
   "source": [
    "py_string = 'Python'\n",
    "\n",
    "# contains indices 0, 1 and 2\n",
    "print(py_string[0:3])  # Pyt\n",
    "\n",
    "# contains indices 1 and 3\n",
    "print(py_string[1:5:2]) # yh"
   ]
  },
  {
   "source": [
    "## \\[Item 12\\] Avoid Striding and Slicing in a Single Expression"
   ],
   "cell_type": "markdown",
   "metadata": {}
  },
  {
   "cell_type": "code",
   "execution_count": 48,
   "metadata": {},
   "outputs": [
    {
     "output_type": "stream",
     "name": "stdout",
     "text": [
      "['red', 'yellow', 'blue']\n['orange', 'green', 'purple']\n"
     ]
    }
   ],
   "source": [
    "x = ['red', 'orange', 'yellow', 'green', 'blue', 'purple']\n",
    "odds = x[::2]\n",
    "evens = x[1::2]\n",
    "print(odds)\n",
    "print(evens)\n",
    "# Usage : alist[start:end:stride]"
   ]
  },
  {
   "cell_type": "code",
   "execution_count": 49,
   "metadata": {},
   "outputs": [
    {
     "output_type": "stream",
     "name": "stdout",
     "text": [
      "b'esoognom'\n"
     ]
    }
   ],
   "source": [
    "x = b'mongoose'\n",
    "y = x[::-1]\n",
    "print(y)"
   ]
  },
  {
   "cell_type": "code",
   "execution_count": 50,
   "metadata": {},
   "outputs": [
    {
     "output_type": "stream",
     "name": "stdout",
     "text": [
      "司寿\n"
     ]
    }
   ],
   "source": [
    "x = '寿司'\n",
    "y = x[::-1] #이러한 stride는 유니코드나 바이트 문자열에 대해서도 적용된다\n",
    "print(y)"
   ]
  },
  {
   "source": [
    "c언어에서는 for루프를 내림차순으로 진행할때 `for(int i = 10; i > 0; i--)`와 같이 사용하였지만 python에서는 stride를 통해 내림차순으로 루프를 표현할 수 있었습니다."
   ],
   "cell_type": "markdown",
   "metadata": {}
  },
  {
   "cell_type": "code",
   "execution_count": 53,
   "metadata": {},
   "outputs": [
    {
     "output_type": "error",
     "ename": "UnicodeDecodeError",
     "evalue": "'utf-8' codec can't decode byte 0xb8 in position 0: invalid start byte",
     "traceback": [
      "\u001b[0;31m---------------------------------------------------------------------------\u001b[0m",
      "\u001b[0;31mUnicodeDecodeError\u001b[0m                        Traceback (most recent call last)",
      "\u001b[0;32m<ipython-input-53-0d50076d0fe4>\u001b[0m in \u001b[0;36m<module>\u001b[0;34m\u001b[0m\n\u001b[1;32m      2\u001b[0m \u001b[0mx\u001b[0m \u001b[0;34m=\u001b[0m \u001b[0mw\u001b[0m\u001b[0;34m.\u001b[0m\u001b[0mencode\u001b[0m\u001b[0;34m(\u001b[0m\u001b[0;34m'utf-8'\u001b[0m\u001b[0;34m)\u001b[0m\u001b[0;34m\u001b[0m\u001b[0;34m\u001b[0m\u001b[0m\n\u001b[1;32m      3\u001b[0m \u001b[0my\u001b[0m \u001b[0;34m=\u001b[0m \u001b[0mx\u001b[0m\u001b[0;34m[\u001b[0m\u001b[0;34m:\u001b[0m\u001b[0;34m:\u001b[0m\u001b[0;34m-\u001b[0m\u001b[0;36m1\u001b[0m\u001b[0;34m]\u001b[0m\u001b[0;34m\u001b[0m\u001b[0;34m\u001b[0m\u001b[0m\n\u001b[0;32m----> 4\u001b[0;31m \u001b[0mz\u001b[0m \u001b[0;34m=\u001b[0m \u001b[0my\u001b[0m\u001b[0;34m.\u001b[0m\u001b[0mdecode\u001b[0m\u001b[0;34m(\u001b[0m\u001b[0;34m'utf-8'\u001b[0m\u001b[0;34m)\u001b[0m\u001b[0;34m\u001b[0m\u001b[0;34m\u001b[0m\u001b[0m\n\u001b[0m\u001b[1;32m      5\u001b[0m \u001b[0;31m# 자료형 불일치로 인한 에러\u001b[0m\u001b[0;34m\u001b[0m\u001b[0;34m\u001b[0m\u001b[0;34m\u001b[0m\u001b[0m\n",
      "\u001b[0;31mUnicodeDecodeError\u001b[0m: 'utf-8' codec can't decode byte 0xb8 in position 0: invalid start byte"
     ]
    }
   ],
   "source": [
    "w = '寿司'\n",
    "x = w.encode('utf-8')\n",
    "y = x[::-1]\n",
    "z = y.decode('utf-8')\n",
    "# 자료형 불일치로 인한 에러"
   ]
  },
  {
   "cell_type": "code",
   "execution_count": 52,
   "metadata": {},
   "outputs": [],
   "source": [
    "x = ['a','b','c','d','e','f','g','h']"
   ]
  },
  {
   "cell_type": "code",
   "execution_count": 55,
   "metadata": {},
   "outputs": [
    {
     "output_type": "stream",
     "name": "stdout",
     "text": [
      "b'\\xbf\\x8f'\nb'\\x8f\\xbf\\xe5'\nb'\\x8f'\nb''\n"
     ]
    }
   ],
   "source": [
    "print(x[2::2]) # ['c', 'e', 'g']\n",
    "print(x[-2::-2]) # ['g', 'e', 'c', 'a']\n",
    "print(x[-2:2:-2]) # ['g', 'e']\n",
    "print(x[2:2:-2]) # [] "
   ]
  },
  {
   "source": [
    "- 마지막 x\\[2:2:-2\\]의 경우 start index와 end index가 같기 때문에 아무것도 출력되지 않는다.\n",
    "- 가능한 양수 인덱스를 사용\n",
    "- `itertools`의 `islice`를 사용하여  헷갈리는것을 방지할 수 있다.\n"
   ],
   "cell_type": "markdown",
   "metadata": {}
  },
  {
   "source": [
    "## \\[Item 13\\] Prefer Catch-All Unpacking Over Slicing"
   ],
   "cell_type": "markdown",
   "metadata": {}
  },
  {
   "cell_type": "code",
   "execution_count": 56,
   "metadata": {},
   "outputs": [
    {
     "output_type": "error",
     "ename": "ValueError",
     "evalue": "too many values to unpack (expected 2)",
     "traceback": [
      "\u001b[0;31m---------------------------------------------------------------------------\u001b[0m",
      "\u001b[0;31mValueError\u001b[0m                                Traceback (most recent call last)",
      "\u001b[0;32m<ipython-input-56-99634ca0e408>\u001b[0m in \u001b[0;36m<module>\u001b[0;34m\u001b[0m\n\u001b[1;32m      1\u001b[0m \u001b[0mcar_ages\u001b[0m \u001b[0;34m=\u001b[0m \u001b[0;34m[\u001b[0m\u001b[0;36m0\u001b[0m\u001b[0;34m,\u001b[0m \u001b[0;36m9\u001b[0m\u001b[0;34m,\u001b[0m \u001b[0;36m4\u001b[0m\u001b[0;34m,\u001b[0m \u001b[0;36m8\u001b[0m\u001b[0;34m,\u001b[0m \u001b[0;36m7\u001b[0m\u001b[0;34m,\u001b[0m \u001b[0;36m20\u001b[0m\u001b[0;34m,\u001b[0m \u001b[0;36m19\u001b[0m\u001b[0;34m,\u001b[0m \u001b[0;36m1\u001b[0m\u001b[0;34m,\u001b[0m \u001b[0;36m6\u001b[0m\u001b[0;34m,\u001b[0m \u001b[0;36m15\u001b[0m\u001b[0;34m]\u001b[0m\u001b[0;34m\u001b[0m\u001b[0;34m\u001b[0m\u001b[0m\n\u001b[1;32m      2\u001b[0m \u001b[0mcar_ages_descending\u001b[0m \u001b[0;34m=\u001b[0m \u001b[0msorted\u001b[0m\u001b[0;34m(\u001b[0m\u001b[0mcar_ages\u001b[0m\u001b[0;34m,\u001b[0m \u001b[0mreverse\u001b[0m\u001b[0;34m=\u001b[0m\u001b[0;32mTrue\u001b[0m\u001b[0;34m)\u001b[0m\u001b[0;34m\u001b[0m\u001b[0;34m\u001b[0m\u001b[0m\n\u001b[0;32m----> 3\u001b[0;31m \u001b[0moldest\u001b[0m\u001b[0;34m,\u001b[0m \u001b[0msecond_oldest\u001b[0m \u001b[0;34m=\u001b[0m \u001b[0mcar_ages_descending\u001b[0m\u001b[0;34m\u001b[0m\u001b[0;34m\u001b[0m\u001b[0m\n\u001b[0m",
      "\u001b[0;31mValueError\u001b[0m: too many values to unpack (expected 2)"
     ]
    }
   ],
   "source": [
    "car_ages = [0, 9, 4, 8, 7, 20, 19, 1, 6, 15]\n",
    "car_ages_descending = sorted(car_ages, reverse=True)\n",
    "oldest, second_oldest = car_ages_descending"
   ]
  },
  {
   "cell_type": "code",
   "execution_count": 57,
   "metadata": {},
   "outputs": [
    {
     "output_type": "stream",
     "name": "stdout",
     "text": [
      "20 19 [15, 9, 8, 7, 6, 4, 1, 0]\n"
     ]
    }
   ],
   "source": [
    "oldest = car_ages_descending[0]\n",
    "second_oldest = car_ages_descending[1]\n",
    "others = car_ages_descending[2:]\n",
    "print(oldest, second_oldest, others)"
   ]
  },
  {
   "cell_type": "code",
   "execution_count": 58,
   "metadata": {},
   "outputs": [
    {
     "output_type": "stream",
     "name": "stdout",
     "text": [
      "20 19 [15, 9, 8, 7, 6, 4, 1, 0]\n"
     ]
    }
   ],
   "source": [
    "oldest, second_oldest, *others = car_ages_descending\n",
    "print(oldest, second_oldest, others)"
   ]
  },
  {
   "cell_type": "code",
   "execution_count": 59,
   "metadata": {},
   "outputs": [
    {
     "output_type": "stream",
     "name": "stdout",
     "text": [
      "20 0 [19, 15, 9, 8, 7, 6, 4, 1]\n0 1 [20, 19, 15, 9, 8, 7, 6, 4]\n"
     ]
    }
   ],
   "source": [
    "oldest, *others, youngest = car_ages_descending\n",
    "print(oldest, youngest, others)\n",
    "*others, second_youngest, youngest = car_ages_descending\n",
    "print(youngest, second_youngest, others)"
   ]
  },
  {
   "cell_type": "code",
   "execution_count": 60,
   "metadata": {},
   "outputs": [
    {
     "output_type": "error",
     "ename": "SyntaxError",
     "evalue": "starred assignment target must be in a list or tuple (<ipython-input-60-de7bf1ede8b8>, line 1)",
     "traceback": [
      "\u001b[0;36m  File \u001b[0;32m\"<ipython-input-60-de7bf1ede8b8>\"\u001b[0;36m, line \u001b[0;32m1\u001b[0m\n\u001b[0;31m    *others = car_ages_descending\u001b[0m\n\u001b[0m    ^\u001b[0m\n\u001b[0;31mSyntaxError\u001b[0m\u001b[0;31m:\u001b[0m starred assignment target must be in a list or tuple\n"
     ]
    }
   ],
   "source": [
    "*others = car_ages_descending\n",
    "fist, *middle, *second_middle, last = [1, 2, 3, 4]"
   ]
  },
  {
   "cell_type": "code",
   "execution_count": 61,
   "metadata": {},
   "outputs": [
    {
     "output_type": "stream",
     "name": "stdout",
     "text": [
      "Best at Downtown is Silver Shadow, 2 others\nBest at Airport is Skyline, 3 others\n"
     ]
    }
   ],
   "source": [
    "car_inventory = {\n",
    " 'Downtown': ('Silver Shadow', 'Pinto', 'DMC'),\n",
    " 'Airport': ('Skyline', 'Viper', 'Gremlin', 'Nova'),\n",
    "}\n",
    "((loc1, (best1, *rest1)),\n",
    " (loc2, (best2, *rest2))) = car_inventory.items()\n",
    "print(f'Best at {loc1} is {best1}, {len(rest1)} others')\n",
    "print(f'Best at {loc2} is {best2}, {len(rest2)} others')"
   ]
  },
  {
   "cell_type": "code",
   "execution_count": 62,
   "metadata": {},
   "outputs": [
    {
     "output_type": "stream",
     "name": "stdout",
     "text": [
      "1 2 []\n"
     ]
    }
   ],
   "source": [
    "short_list = [1, 2]\n",
    "first, second, *rest = short_list\n",
    "print(first, second, rest)"
   ]
  },
  {
   "cell_type": "code",
   "execution_count": 63,
   "metadata": {},
   "outputs": [
    {
     "output_type": "stream",
     "name": "stdout",
     "text": [
      "1 and 2\n"
     ]
    }
   ],
   "source": [
    "it = iter(range(1, 3))\n",
    "first, second = it\n",
    "print(f'{first} and {second}')"
   ]
  },
  {
   "cell_type": "code",
   "execution_count": 64,
   "metadata": {},
   "outputs": [
    {
     "output_type": "stream",
     "name": "stdout",
     "text": [
      "CSV Header: ('Date', 'Make', 'Model', 'Year', 'Price')\nRow count:  200\n"
     ]
    }
   ],
   "source": [
    "def generate_csv():\n",
    "\tyield ('Date', 'Make' , 'Model', 'Year', 'Price')\n",
    "\tfor i in range(100):\n",
    "\t\tyield ('2019-03-25', 'Honda', 'Fit' , '2010', '$3400')\n",
    "\t\tyield ('2019-03-26', 'Ford', 'F150' , '2008', '$2400')\n",
    "    \n",
    "all_csv_rows = list(generate_csv()) # too noisy\n",
    "header = all_csv_rows[0]\n",
    "rows = all_csv_rows[1:]\n",
    "print('CSV Header:', header)\n",
    "print('Row count: ', len(rows))"
   ]
  },
  {
   "cell_type": "code",
   "execution_count": 65,
   "metadata": {},
   "outputs": [
    {
     "output_type": "stream",
     "name": "stdout",
     "text": [
      "CSV Header: ('Date', 'Make', 'Model', 'Year', 'Price')\nRow count:  200\n"
     ]
    }
   ],
   "source": [
    "it = generate_csv()\n",
    "header, *rows = it\n",
    "print('CSV Header:', header)\n",
    "print('Row count: ', len(rows))"
   ]
  },
  {
   "cell_type": "code",
   "execution_count": 66,
   "metadata": {},
   "outputs": [
    {
     "output_type": "stream",
     "name": "stdout",
     "text": [
      "('2019-03-25', 'Honda', 'Fit', '2010', '$3400')\n('2019-03-26', 'Ford', 'F150', '2008', '$2400')\n('2019-03-25', 'Honda', 'Fit', '2010', '$3400')\n('2019-03-26', 'Ford', 'F150', '2008', '$2400')\n('2019-03-25', 'Honda', 'Fit', '2010', '$3400')\n('2019-03-26', 'Ford', 'F150', '2008', '$2400')\n('2019-03-25', 'Honda', 'Fit', '2010', '$3400')\n('2019-03-26', 'Ford', 'F150', '2008', '$2400')\n('2019-03-25', 'Honda', 'Fit', '2010', '$3400')\n('2019-03-26', 'Ford', 'F150', '2008', '$2400')\n('2019-03-25', 'Honda', 'Fit', '2010', '$3400')\n('2019-03-26', 'Ford', 'F150', '2008', '$2400')\n('2019-03-25', 'Honda', 'Fit', '2010', '$3400')\n('2019-03-26', 'Ford', 'F150', '2008', '$2400')\n('2019-03-25', 'Honda', 'Fit', '2010', '$3400')\n('2019-03-26', 'Ford', 'F150', '2008', '$2400')\n('2019-03-25', 'Honda', 'Fit', '2010', '$3400')\n('2019-03-26', 'Ford', 'F150', '2008', '$2400')\n('2019-03-25', 'Honda', 'Fit', '2010', '$3400')\n('2019-03-26', 'Ford', 'F150', '2008', '$2400')\n('2019-03-25', 'Honda', 'Fit', '2010', '$3400')\n('2019-03-26', 'Ford', 'F150', '2008', '$2400')\n('2019-03-25', 'Honda', 'Fit', '2010', '$3400')\n('2019-03-26', 'Ford', 'F150', '2008', '$2400')\n('2019-03-25', 'Honda', 'Fit', '2010', '$3400')\n('2019-03-26', 'Ford', 'F150', '2008', '$2400')\n('2019-03-25', 'Honda', 'Fit', '2010', '$3400')\n('2019-03-26', 'Ford', 'F150', '2008', '$2400')\n('2019-03-25', 'Honda', 'Fit', '2010', '$3400')\n('2019-03-26', 'Ford', 'F150', '2008', '$2400')\n('2019-03-25', 'Honda', 'Fit', '2010', '$3400')\n('2019-03-26', 'Ford', 'F150', '2008', '$2400')\n('2019-03-25', 'Honda', 'Fit', '2010', '$3400')\n('2019-03-26', 'Ford', 'F150', '2008', '$2400')\n('2019-03-25', 'Honda', 'Fit', '2010', '$3400')\n('2019-03-26', 'Ford', 'F150', '2008', '$2400')\n('2019-03-25', 'Honda', 'Fit', '2010', '$3400')\n('2019-03-26', 'Ford', 'F150', '2008', '$2400')\n('2019-03-25', 'Honda', 'Fit', '2010', '$3400')\n('2019-03-26', 'Ford', 'F150', '2008', '$2400')\n('2019-03-25', 'Honda', 'Fit', '2010', '$3400')\n('2019-03-26', 'Ford', 'F150', '2008', '$2400')\n('2019-03-25', 'Honda', 'Fit', '2010', '$3400')\n('2019-03-26', 'Ford', 'F150', '2008', '$2400')\n('2019-03-25', 'Honda', 'Fit', '2010', '$3400')\n('2019-03-26', 'Ford', 'F150', '2008', '$2400')\n('2019-03-25', 'Honda', 'Fit', '2010', '$3400')\n('2019-03-26', 'Ford', 'F150', '2008', '$2400')\n('2019-03-25', 'Honda', 'Fit', '2010', '$3400')\n('2019-03-26', 'Ford', 'F150', '2008', '$2400')\n('2019-03-25', 'Honda', 'Fit', '2010', '$3400')\n('2019-03-26', 'Ford', 'F150', '2008', '$2400')\n('2019-03-25', 'Honda', 'Fit', '2010', '$3400')\n('2019-03-26', 'Ford', 'F150', '2008', '$2400')\n('2019-03-25', 'Honda', 'Fit', '2010', '$3400')\n('2019-03-26', 'Ford', 'F150', '2008', '$2400')\n('2019-03-25', 'Honda', 'Fit', '2010', '$3400')\n('2019-03-26', 'Ford', 'F150', '2008', '$2400')\n('2019-03-25', 'Honda', 'Fit', '2010', '$3400')\n('2019-03-26', 'Ford', 'F150', '2008', '$2400')\n('2019-03-25', 'Honda', 'Fit', '2010', '$3400')\n('2019-03-26', 'Ford', 'F150', '2008', '$2400')\n('2019-03-25', 'Honda', 'Fit', '2010', '$3400')\n('2019-03-26', 'Ford', 'F150', '2008', '$2400')\n('2019-03-25', 'Honda', 'Fit', '2010', '$3400')\n('2019-03-26', 'Ford', 'F150', '2008', '$2400')\n('2019-03-25', 'Honda', 'Fit', '2010', '$3400')\n('2019-03-26', 'Ford', 'F150', '2008', '$2400')\n('2019-03-25', 'Honda', 'Fit', '2010', '$3400')\n('2019-03-26', 'Ford', 'F150', '2008', '$2400')\n('2019-03-25', 'Honda', 'Fit', '2010', '$3400')\n('2019-03-26', 'Ford', 'F150', '2008', '$2400')\n('2019-03-25', 'Honda', 'Fit', '2010', '$3400')\n('2019-03-26', 'Ford', 'F150', '2008', '$2400')\n('2019-03-25', 'Honda', 'Fit', '2010', '$3400')\n('2019-03-26', 'Ford', 'F150', '2008', '$2400')\n('2019-03-25', 'Honda', 'Fit', '2010', '$3400')\n('2019-03-26', 'Ford', 'F150', '2008', '$2400')\n('2019-03-25', 'Honda', 'Fit', '2010', '$3400')\n('2019-03-26', 'Ford', 'F150', '2008', '$2400')\n('2019-03-25', 'Honda', 'Fit', '2010', '$3400')\n('2019-03-26', 'Ford', 'F150', '2008', '$2400')\n('2019-03-25', 'Honda', 'Fit', '2010', '$3400')\n('2019-03-26', 'Ford', 'F150', '2008', '$2400')\n('2019-03-25', 'Honda', 'Fit', '2010', '$3400')\n('2019-03-26', 'Ford', 'F150', '2008', '$2400')\n('2019-03-25', 'Honda', 'Fit', '2010', '$3400')\n('2019-03-26', 'Ford', 'F150', '2008', '$2400')\n('2019-03-25', 'Honda', 'Fit', '2010', '$3400')\n('2019-03-26', 'Ford', 'F150', '2008', '$2400')\n('2019-03-25', 'Honda', 'Fit', '2010', '$3400')\n('2019-03-26', 'Ford', 'F150', '2008', '$2400')\n('2019-03-25', 'Honda', 'Fit', '2010', '$3400')\n('2019-03-26', 'Ford', 'F150', '2008', '$2400')\n('2019-03-25', 'Honda', 'Fit', '2010', '$3400')\n('2019-03-26', 'Ford', 'F150', '2008', '$2400')\n('2019-03-25', 'Honda', 'Fit', '2010', '$3400')\n('2019-03-26', 'Ford', 'F150', '2008', '$2400')\n('2019-03-25', 'Honda', 'Fit', '2010', '$3400')\n('2019-03-26', 'Ford', 'F150', '2008', '$2400')\n('2019-03-25', 'Honda', 'Fit', '2010', '$3400')\n('2019-03-26', 'Ford', 'F150', '2008', '$2400')\n('2019-03-25', 'Honda', 'Fit', '2010', '$3400')\n('2019-03-26', 'Ford', 'F150', '2008', '$2400')\n('2019-03-25', 'Honda', 'Fit', '2010', '$3400')\n('2019-03-26', 'Ford', 'F150', '2008', '$2400')\n('2019-03-25', 'Honda', 'Fit', '2010', '$3400')\n('2019-03-26', 'Ford', 'F150', '2008', '$2400')\n('2019-03-25', 'Honda', 'Fit', '2010', '$3400')\n('2019-03-26', 'Ford', 'F150', '2008', '$2400')\n('2019-03-25', 'Honda', 'Fit', '2010', '$3400')\n('2019-03-26', 'Ford', 'F150', '2008', '$2400')\n('2019-03-25', 'Honda', 'Fit', '2010', '$3400')\n('2019-03-26', 'Ford', 'F150', '2008', '$2400')\n('2019-03-25', 'Honda', 'Fit', '2010', '$3400')\n('2019-03-26', 'Ford', 'F150', '2008', '$2400')\n('2019-03-25', 'Honda', 'Fit', '2010', '$3400')\n('2019-03-26', 'Ford', 'F150', '2008', '$2400')\n('2019-03-25', 'Honda', 'Fit', '2010', '$3400')\n('2019-03-26', 'Ford', 'F150', '2008', '$2400')\n('2019-03-25', 'Honda', 'Fit', '2010', '$3400')\n('2019-03-26', 'Ford', 'F150', '2008', '$2400')\n('2019-03-25', 'Honda', 'Fit', '2010', '$3400')\n('2019-03-26', 'Ford', 'F150', '2008', '$2400')\n('2019-03-25', 'Honda', 'Fit', '2010', '$3400')\n('2019-03-26', 'Ford', 'F150', '2008', '$2400')\n('2019-03-25', 'Honda', 'Fit', '2010', '$3400')\n('2019-03-26', 'Ford', 'F150', '2008', '$2400')\n('2019-03-25', 'Honda', 'Fit', '2010', '$3400')\n('2019-03-26', 'Ford', 'F150', '2008', '$2400')\n('2019-03-25', 'Honda', 'Fit', '2010', '$3400')\n('2019-03-26', 'Ford', 'F150', '2008', '$2400')\n('2019-03-25', 'Honda', 'Fit', '2010', '$3400')\n('2019-03-26', 'Ford', 'F150', '2008', '$2400')\n('2019-03-25', 'Honda', 'Fit', '2010', '$3400')\n('2019-03-26', 'Ford', 'F150', '2008', '$2400')\n('2019-03-25', 'Honda', 'Fit', '2010', '$3400')\n('2019-03-26', 'Ford', 'F150', '2008', '$2400')\n('2019-03-25', 'Honda', 'Fit', '2010', '$3400')\n('2019-03-26', 'Ford', 'F150', '2008', '$2400')\n('2019-03-25', 'Honda', 'Fit', '2010', '$3400')\n('2019-03-26', 'Ford', 'F150', '2008', '$2400')\n('2019-03-25', 'Honda', 'Fit', '2010', '$3400')\n('2019-03-26', 'Ford', 'F150', '2008', '$2400')\n('2019-03-25', 'Honda', 'Fit', '2010', '$3400')\n('2019-03-26', 'Ford', 'F150', '2008', '$2400')\n('2019-03-25', 'Honda', 'Fit', '2010', '$3400')\n('2019-03-26', 'Ford', 'F150', '2008', '$2400')\n('2019-03-25', 'Honda', 'Fit', '2010', '$3400')\n('2019-03-26', 'Ford', 'F150', '2008', '$2400')\n('2019-03-25', 'Honda', 'Fit', '2010', '$3400')\n('2019-03-26', 'Ford', 'F150', '2008', '$2400')\n('2019-03-25', 'Honda', 'Fit', '2010', '$3400')\n('2019-03-26', 'Ford', 'F150', '2008', '$2400')\n('2019-03-25', 'Honda', 'Fit', '2010', '$3400')\n('2019-03-26', 'Ford', 'F150', '2008', '$2400')\n('2019-03-25', 'Honda', 'Fit', '2010', '$3400')\n('2019-03-26', 'Ford', 'F150', '2008', '$2400')\n('2019-03-25', 'Honda', 'Fit', '2010', '$3400')\n('2019-03-26', 'Ford', 'F150', '2008', '$2400')\n('2019-03-25', 'Honda', 'Fit', '2010', '$3400')\n('2019-03-26', 'Ford', 'F150', '2008', '$2400')\n('2019-03-25', 'Honda', 'Fit', '2010', '$3400')\n('2019-03-26', 'Ford', 'F150', '2008', '$2400')\n('2019-03-25', 'Honda', 'Fit', '2010', '$3400')\n('2019-03-26', 'Ford', 'F150', '2008', '$2400')\n('2019-03-25', 'Honda', 'Fit', '2010', '$3400')\n('2019-03-26', 'Ford', 'F150', '2008', '$2400')\n('2019-03-25', 'Honda', 'Fit', '2010', '$3400')\n('2019-03-26', 'Ford', 'F150', '2008', '$2400')\n('2019-03-25', 'Honda', 'Fit', '2010', '$3400')\n('2019-03-26', 'Ford', 'F150', '2008', '$2400')\n('2019-03-25', 'Honda', 'Fit', '2010', '$3400')\n('2019-03-26', 'Ford', 'F150', '2008', '$2400')\n('2019-03-25', 'Honda', 'Fit', '2010', '$3400')\n('2019-03-26', 'Ford', 'F150', '2008', '$2400')\n('2019-03-25', 'Honda', 'Fit', '2010', '$3400')\n('2019-03-26', 'Ford', 'F150', '2008', '$2400')\n('2019-03-25', 'Honda', 'Fit', '2010', '$3400')\n('2019-03-26', 'Ford', 'F150', '2008', '$2400')\n('2019-03-25', 'Honda', 'Fit', '2010', '$3400')\n('2019-03-26', 'Ford', 'F150', '2008', '$2400')\n('2019-03-25', 'Honda', 'Fit', '2010', '$3400')\n('2019-03-26', 'Ford', 'F150', '2008', '$2400')\n('2019-03-25', 'Honda', 'Fit', '2010', '$3400')\n('2019-03-26', 'Ford', 'F150', '2008', '$2400')\n('2019-03-25', 'Honda', 'Fit', '2010', '$3400')\n('2019-03-26', 'Ford', 'F150', '2008', '$2400')\n('2019-03-25', 'Honda', 'Fit', '2010', '$3400')\n('2019-03-26', 'Ford', 'F150', '2008', '$2400')\n('2019-03-25', 'Honda', 'Fit', '2010', '$3400')\n('2019-03-26', 'Ford', 'F150', '2008', '$2400')\n('2019-03-25', 'Honda', 'Fit', '2010', '$3400')\n('2019-03-26', 'Ford', 'F150', '2008', '$2400')\n('2019-03-25', 'Honda', 'Fit', '2010', '$3400')\n('2019-03-26', 'Ford', 'F150', '2008', '$2400')\n('2019-03-25', 'Honda', 'Fit', '2010', '$3400')\n('2019-03-26', 'Ford', 'F150', '2008', '$2400')\n('2019-03-25', 'Honda', 'Fit', '2010', '$3400')\n('2019-03-26', 'Ford', 'F150', '2008', '$2400')\n"
     ]
    }
   ],
   "source": [
    "for str in rows:\n",
    "    print(str)"
   ]
  },
  {
   "source": [
    "*rows 와 같이 starred expression을 사용하면 unpacking하여 값을 전달한다.\n",
    "\n",
    "이러한 방식으로 unpacking을 사용하면 인덱스를 사용하여 header, rows를 구분해주는 과정 없이 간결하게 표현할 수 있는 것 같습니다"
   ],
   "cell_type": "markdown",
   "metadata": {}
  },
  {
   "source": [
    "## \\[Item 14\\] Sort by Complex Criteria using the key Parameter"
   ],
   "cell_type": "markdown",
   "metadata": {}
  },
  {
   "cell_type": "code",
   "execution_count": 68,
   "metadata": {},
   "outputs": [
    {
     "output_type": "stream",
     "name": "stdout",
     "text": [
      "[11, 68, 70, 86, 93]\n"
     ]
    }
   ],
   "source": [
    "numbers = [93, 86, 11, 68, 70]\n",
    "numbers.sort()\n",
    "print(numbers)"
   ]
  },
  {
   "cell_type": "code",
   "execution_count": 69,
   "metadata": {},
   "outputs": [
    {
     "output_type": "error",
     "ename": "TypeError",
     "evalue": "'<' not supported between instances of 'Tool' and 'Tool'",
     "traceback": [
      "\u001b[0;31m---------------------------------------------------------------------------\u001b[0m",
      "\u001b[0;31mTypeError\u001b[0m                                 Traceback (most recent call last)",
      "\u001b[0;32m<ipython-input-69-a39019e34d43>\u001b[0m in \u001b[0;36m<module>\u001b[0;34m\u001b[0m\n\u001b[1;32m     14\u001b[0m ]\n\u001b[1;32m     15\u001b[0m \u001b[0;34m\u001b[0m\u001b[0m\n\u001b[0;32m---> 16\u001b[0;31m \u001b[0mtools\u001b[0m\u001b[0;34m.\u001b[0m\u001b[0msort\u001b[0m\u001b[0;34m(\u001b[0m\u001b[0;34m)\u001b[0m\u001b[0;34m\u001b[0m\u001b[0;34m\u001b[0m\u001b[0m\n\u001b[0m",
      "\u001b[0;31mTypeError\u001b[0m: '<' not supported between instances of 'Tool' and 'Tool'"
     ]
    }
   ],
   "source": [
    "class Tool:\n",
    "    def __init__(self, name, weight):\n",
    "        self.name = name\n",
    "        self.weight = weight\n",
    "\n",
    "    def __repr__(self):\n",
    "        return f'Tool({self.name!r}, {self.weight})'\n",
    "\n",
    "tools = [\n",
    "    Tool('level', 3.5),\n",
    "    Tool('hammer', 1.25),\n",
    "    Tool('screwdriver', 0.5),\n",
    "    Tool('chisel', 0.25),\n",
    "]\n",
    "\n",
    "tools.sort()"
   ]
  },
  {
   "source": [
    "Tool class에는 비교연산자가 존재하지 않기 때문에 위와 같은 에러가 발생한다"
   ],
   "cell_type": "markdown",
   "metadata": {}
  },
  {
   "cell_type": "code",
   "execution_count": 70,
   "metadata": {},
   "outputs": [
    {
     "output_type": "stream",
     "name": "stdout",
     "text": [
      "Unsorted: [Tool('level', 3.5), Tool('hammer', 1.25), Tool('screwdriver', 0.5), Tool('chisel', 0.25)]\n\nSorted:  [Tool('chisel', 0.25), Tool('hammer', 1.25), Tool('level', 3.5), Tool('screwdriver', 0.5)]\n"
     ]
    }
   ],
   "source": [
    "print('Unsorted:', repr(tools))\n",
    "tools.sort(key=lambda x: x.name)\n",
    "print('\\nSorted: ', tools)"
   ]
  },
  {
   "cell_type": "code",
   "execution_count": 71,
   "metadata": {},
   "outputs": [
    {
     "output_type": "stream",
     "name": "stdout",
     "text": [
      "Unsorted: [Tool('chisel', 0.25), Tool('hammer', 1.25), Tool('level', 3.5), Tool('screwdriver', 0.5)]\n\nSorted:  [Tool('chisel', 0.25), Tool('screwdriver', 0.5), Tool('hammer', 1.25), Tool('level', 3.5)]\n"
     ]
    }
   ],
   "source": [
    "print('Unsorted:', repr(tools))\n",
    "tools.sort(key=lambda x: x.weight)\n",
    "print('\\nSorted: ', tools)"
   ]
  },
  {
   "cell_type": "code",
   "execution_count": 72,
   "metadata": {},
   "outputs": [
    {
     "output_type": "stream",
     "name": "stdout",
     "text": [
      "Case sensitive:  ['New York', 'Paris', 'home', 'work']\nCase insensitive: ['home', 'New York', 'Paris', 'work']\n"
     ]
    }
   ],
   "source": [
    "places = ['home', 'work', 'New York', 'Paris']\n",
    "places.sort()\n",
    "print('Case sensitive: ', places)\n",
    "places.sort(key=lambda x: x.lower())\n",
    "print('Case insensitive:', places)"
   ]
  },
  {
   "source": [
    "- case sensitive의 경우 비교시 대, 소문자를 구분하기 때문에 대문자요소가 앞에 오고(아스키 코드 값에서 대문자가 먼저 나타난다))\n",
    "- case insensitive의 경우 비교시 소문자로 lower하여 비교하기 때문에 알파벳 순으로 출력된다"
   ],
   "cell_type": "markdown",
   "metadata": {}
  },
  {
   "cell_type": "code",
   "execution_count": 74,
   "metadata": {},
   "outputs": [
    {
     "output_type": "stream",
     "name": "stdout",
     "text": [
      "[Tool('drill', 4), Tool('sander', 4), Tool('circular saw', 5), Tool('jackhammer', 40)]\n"
     ]
    }
   ],
   "source": [
    "power_tools = [\n",
    "    Tool('sander', 4),\n",
    "    Tool('drill', 4),\n",
    "    Tool('circular saw', 5),\n",
    "    Tool('jackhammer', 40),\n",
    "]\n",
    "power_tools.sort(key=lambda x: (x.weight, x.name))\n",
    "print(power_tools)\n",
    "# weight, name모두 고려하여 정렬"
   ]
  },
  {
   "cell_type": "code",
   "execution_count": 75,
   "metadata": {},
   "outputs": [
    {
     "output_type": "stream",
     "name": "stdout",
     "text": [
      "[Tool('jackhammer', 40), Tool('circular saw', 5), Tool('drill', 4), Tool('sander', 4)]\n"
     ]
    }
   ],
   "source": [
    "power_tools.sort(key=lambda x: (-x.weight, x.name))\n",
    "print(power_tools)"
   ]
  },
  {
   "cell_type": "code",
   "execution_count": 76,
   "metadata": {},
   "outputs": [
    {
     "output_type": "error",
     "ename": "TypeError",
     "evalue": "bad operand type for unary -: 'str'",
     "traceback": [
      "\u001b[0;31m---------------------------------------------------------------------------\u001b[0m",
      "\u001b[0;31mTypeError\u001b[0m                                 Traceback (most recent call last)",
      "\u001b[0;32m<ipython-input-76-7a62605bf47c>\u001b[0m in \u001b[0;36m<module>\u001b[0;34m\u001b[0m\n\u001b[0;32m----> 1\u001b[0;31m \u001b[0mpower_tools\u001b[0m\u001b[0;34m.\u001b[0m\u001b[0msort\u001b[0m\u001b[0;34m(\u001b[0m\u001b[0mkey\u001b[0m\u001b[0;34m=\u001b[0m\u001b[0;32mlambda\u001b[0m \u001b[0mx\u001b[0m\u001b[0;34m:\u001b[0m \u001b[0;34m(\u001b[0m\u001b[0mx\u001b[0m\u001b[0;34m.\u001b[0m\u001b[0mweight\u001b[0m\u001b[0;34m,\u001b[0m \u001b[0;34m-\u001b[0m\u001b[0mx\u001b[0m\u001b[0;34m.\u001b[0m\u001b[0mname\u001b[0m\u001b[0;34m)\u001b[0m\u001b[0;34m)\u001b[0m\u001b[0;34m\u001b[0m\u001b[0;34m\u001b[0m\u001b[0m\n\u001b[0m\u001b[1;32m      2\u001b[0m \u001b[0mprint\u001b[0m\u001b[0;34m(\u001b[0m\u001b[0mpower_tools\u001b[0m\u001b[0;34m)\u001b[0m\u001b[0;34m\u001b[0m\u001b[0;34m\u001b[0m\u001b[0m\n",
      "\u001b[0;32m<ipython-input-76-7a62605bf47c>\u001b[0m in \u001b[0;36m<lambda>\u001b[0;34m(x)\u001b[0m\n\u001b[0;32m----> 1\u001b[0;31m \u001b[0mpower_tools\u001b[0m\u001b[0;34m.\u001b[0m\u001b[0msort\u001b[0m\u001b[0;34m(\u001b[0m\u001b[0mkey\u001b[0m\u001b[0;34m=\u001b[0m\u001b[0;32mlambda\u001b[0m \u001b[0mx\u001b[0m\u001b[0;34m:\u001b[0m \u001b[0;34m(\u001b[0m\u001b[0mx\u001b[0m\u001b[0;34m.\u001b[0m\u001b[0mweight\u001b[0m\u001b[0;34m,\u001b[0m \u001b[0;34m-\u001b[0m\u001b[0mx\u001b[0m\u001b[0;34m.\u001b[0m\u001b[0mname\u001b[0m\u001b[0;34m)\u001b[0m\u001b[0;34m)\u001b[0m\u001b[0;34m\u001b[0m\u001b[0;34m\u001b[0m\u001b[0m\n\u001b[0m\u001b[1;32m      2\u001b[0m \u001b[0mprint\u001b[0m\u001b[0;34m(\u001b[0m\u001b[0mpower_tools\u001b[0m\u001b[0;34m)\u001b[0m\u001b[0;34m\u001b[0m\u001b[0;34m\u001b[0m\u001b[0m\n",
      "\u001b[0;31mTypeError\u001b[0m: bad operand type for unary -: 'str'"
     ]
    }
   ],
   "source": [
    "power_tools.sort(key=lambda x: (x.weight, -x.name))\n",
    "print(power_tools)"
   ]
  },
  {
   "source": [
    "- string에는 -가 정의되어 있지 않다 -> operator overriding을 통해 해결할 수 있다"
   ],
   "cell_type": "markdown",
   "metadata": {}
  },
  {
   "cell_type": "code",
   "execution_count": 77,
   "metadata": {},
   "outputs": [
    {
     "output_type": "stream",
     "name": "stdout",
     "text": [
      "[Tool('circular saw', 5), Tool('drill', 4), Tool('jackhammer', 40), Tool('sander', 4)]\n[Tool('jackhammer', 40), Tool('circular saw', 5), Tool('drill', 4), Tool('sander', 4)]\n"
     ]
    }
   ],
   "source": [
    "power_tools.sort(key=lambda x: x.name) # Name ascending\n",
    "print(power_tools)\n",
    "power_tools.sort(key=lambda x: x.weight, reverse=True) # Weight descending\n",
    "print(power_tools)"
   ]
  },
  {
   "source": [
    "- 파이썬의 built in data type은 sorting method를 제공한다\n",
    "- The unary minus operator can be used to reverse individual sort orders for types that allow it."
   ],
   "cell_type": "markdown",
   "metadata": {}
  },
  {
   "source": [
    "## \\[Item 15\\] Be Cautious When Relying on dict Insertion Ordering"
   ],
   "cell_type": "markdown",
   "metadata": {}
  },
  {
   "cell_type": "code",
   "execution_count": 1,
   "metadata": {},
   "outputs": [
    {
     "output_type": "stream",
     "name": "stdout",
     "text": [
      "{'cat': 'kitten', 'dog': 'puppy'}\n"
     ]
    }
   ],
   "source": [
    "# Python 3.5\n",
    "baby_names = {\n",
    " 'cat': 'kitten',\n",
    " 'dog': 'puppy',\n",
    "}\n",
    "print(baby_names)"
   ]
  },
  {
   "cell_type": "code",
   "execution_count": 2,
   "metadata": {},
   "outputs": [
    {
     "output_type": "stream",
     "name": "stdout",
     "text": [
      "{'cat': 'kitten', 'dog': 'puppy'}\n"
     ]
    }
   ],
   "source": [
    "# Python 3.6+\n",
    "baby_names = {\n",
    " 'cat': 'kitten',\n",
    " 'dog': 'puppy',\n",
    "}\n",
    "print(baby_names)"
   ]
  },
  {
   "cell_type": "code",
   "execution_count": 3,
   "metadata": {},
   "outputs": [
    {
     "output_type": "stream",
     "name": "stdout",
     "text": [
      "['cat', 'dog']\n['kitten', 'puppy']\n[('cat', 'kitten'), ('dog', 'puppy')]\n('dog', 'puppy')\n"
     ]
    }
   ],
   "source": [
    "# Python 3.5\n",
    "print(list(baby_names.keys()))\n",
    "print(list(baby_names.values()))\n",
    "print(list(baby_names.items()))\n",
    "print(baby_names.popitem()) # Randomly chooses an item"
   ]
  },
  {
   "cell_type": "code",
   "execution_count": 4,
   "metadata": {},
   "outputs": [
    {
     "output_type": "stream",
     "name": "stdout",
     "text": [
      "['cat']\n['kitten']\n[('cat', 'kitten')]\n('cat', 'kitten')\n"
     ]
    }
   ],
   "source": [
    "print(list(baby_names.keys()))\n",
    "print(list(baby_names.values()))\n",
    "print(list(baby_names.items()))\n",
    "print(baby_names.popitem()) # Last item inserted"
   ]
  },
  {
   "cell_type": "code",
   "execution_count": 5,
   "metadata": {},
   "outputs": [
    {
     "output_type": "stream",
     "name": "stdout",
     "text": [
      "goose = gosling\nkangaroo = joey\n"
     ]
    }
   ],
   "source": [
    "# Python 3.5\n",
    "def my_func(**kwargs):\n",
    "    for key, value in kwargs.items():\n",
    "        print('%s = %s' % (key, value))\n",
    "my_func(goose='gosling', kangaroo='joey')"
   ]
  },
  {
   "cell_type": "code",
   "execution_count": 6,
   "metadata": {},
   "outputs": [
    {
     "output_type": "stream",
     "name": "stdout",
     "text": [
      "alligator = hatchling\nelephant = calf\n"
     ]
    }
   ],
   "source": [
    "# Python 3.5\n",
    "# Python 3.7+\n",
    "class MyClass:\n",
    "    def __init__(self):\n",
    "        self.alligator = 'hatchling'\n",
    "        self.elephant = 'calf'\n",
    "a = MyClass()\n",
    "for key, value in a.__dict__.items():\n",
    "    print('%s = %s' % (key, value))"
   ]
  },
  {
   "cell_type": "code",
   "execution_count": 10,
   "metadata": {},
   "outputs": [],
   "source": [
    "votes = { 'otter': 1281, 'polar bear': 587, 'fox': 863 }\n",
    "\n",
    "def populate_ranks(votes, ranks):\n",
    "    names = list(votes.keys())\n",
    "    names.sort(key=votes.get, reverse=True)\n",
    "    for i, name in enumerate(names, 1):\n",
    "        ranks[name] = i\n",
    "        \n",
    "def get_winner(ranks):\n",
    "    return next(iter(ranks))"
   ]
  },
  {
   "cell_type": "code",
   "execution_count": 11,
   "metadata": {},
   "outputs": [
    {
     "output_type": "stream",
     "name": "stdout",
     "text": [
      "{'otter': 1, 'fox': 2, 'polar bear': 3}\notter\n"
     ]
    }
   ],
   "source": [
    "ranks = {}\n",
    "populate_ranks(votes, ranks)\n",
    "print(ranks)\n",
    "winner = get_winner(ranks)\n",
    "print(winner)"
   ]
  },
  {
   "cell_type": "code",
   "execution_count": 12,
   "metadata": {},
   "outputs": [],
   "source": [
    "from collections.abc import MutableMapping\n",
    "class SortedDict(MutableMapping):\n",
    "    def __init__(self):\n",
    "        self.data = {}\n",
    "    def __getitem__(self, key):\n",
    "        return self.data[key]\n",
    "    def __setitem__(self, key, value):\n",
    "        self.data[key] = value\n",
    "    def __delitem__(self, key):\n",
    "        del self.data[key]\n",
    "    def __iter__(self):\n",
    "        keys = list(self.data.keys())\n",
    "        keys.sort()\n",
    "        for key in keys:\n",
    "            yield key\n",
    "    def __len__(self): #앞위에 underscore가 2개씩있는 함수는 operator overloading을 지원하는 special method\n",
    "        return len(self.data)"
   ]
  },
  {
   "source": [
    "개인적으로 이러한 special method는 다음과 같이 클래스 내부의 리스트 멤버를 클래스레벨에서 활용 하여 유용하게 쓸수 있을것 같았습니다."
   ],
   "cell_type": "markdown",
   "metadata": {}
  },
  {
   "cell_type": "code",
   "execution_count": null,
   "metadata": {},
   "outputs": [],
   "source": [
    "class Account:\n",
    "    # ... (see above)\n",
    "\n",
    "    def __len__(self):\n",
    "        return len(self._transactions)\n",
    "\n",
    "    def __getitem__(self, position):\n",
    "        return self._transactions[position]"
   ]
  },
  {
   "cell_type": "code",
   "execution_count": 13,
   "metadata": {},
   "outputs": [
    {
     "output_type": "stream",
     "name": "stdout",
     "text": [
      "{'otter': 1, 'fox': 2, 'polar bear': 3}\nfox\n"
     ]
    }
   ],
   "source": [
    "sorted_ranks = SortedDict()\n",
    "populate_ranks(votes, sorted_ranks)\n",
    "print(sorted_ranks.data)\n",
    "winner = get_winner(sorted_ranks)\n",
    "print(winner)"
   ]
  },
  {
   "source": [
    "딕셔너리에서는 alpabet순서를 따르기 때문에 이러한 오류가 발생"
   ],
   "cell_type": "markdown",
   "metadata": {}
  },
  {
   "cell_type": "code",
   "execution_count": 14,
   "metadata": {},
   "outputs": [
    {
     "output_type": "stream",
     "name": "stdout",
     "text": [
      "otter\n"
     ]
    }
   ],
   "source": [
    "#Solution 1 : Conservative and robust solution\n",
    "def get_winner(ranks):\n",
    "    for name, rank in ranks.items():\n",
    "        if rank == 1:\n",
    "            return name\n",
    "winner = get_winner(sorted_ranks)\n",
    "print(winner)"
   ]
  },
  {
   "cell_type": "code",
   "execution_count": 15,
   "metadata": {},
   "outputs": [
    {
     "output_type": "error",
     "ename": "TypeError",
     "evalue": "must provide a dict instance",
     "traceback": [
      "\u001b[0;31m---------------------------------------------------------------------------\u001b[0m",
      "\u001b[0;31mTypeError\u001b[0m                                 Traceback (most recent call last)",
      "\u001b[0;32m<ipython-input-15-c3de71bcc1cc>\u001b[0m in \u001b[0;36m<module>\u001b[0;34m\u001b[0m\n\u001b[1;32m      4\u001b[0m         \u001b[0;32mraise\u001b[0m \u001b[0mTypeError\u001b[0m\u001b[0;34m(\u001b[0m\u001b[0;34m'must provide a dict instance'\u001b[0m\u001b[0;34m)\u001b[0m\u001b[0;34m\u001b[0m\u001b[0;34m\u001b[0m\u001b[0m\n\u001b[1;32m      5\u001b[0m     \u001b[0;32mreturn\u001b[0m \u001b[0mnext\u001b[0m\u001b[0;34m(\u001b[0m\u001b[0miter\u001b[0m\u001b[0;34m(\u001b[0m\u001b[0mranks\u001b[0m\u001b[0;34m)\u001b[0m\u001b[0;34m)\u001b[0m\u001b[0;34m\u001b[0m\u001b[0;34m\u001b[0m\u001b[0m\n\u001b[0;32m----> 6\u001b[0;31m \u001b[0mget_winner\u001b[0m\u001b[0;34m(\u001b[0m\u001b[0msorted_ranks\u001b[0m\u001b[0;34m)\u001b[0m\u001b[0;34m\u001b[0m\u001b[0;34m\u001b[0m\u001b[0m\n\u001b[0m",
      "\u001b[0;32m<ipython-input-15-c3de71bcc1cc>\u001b[0m in \u001b[0;36mget_winner\u001b[0;34m(ranks)\u001b[0m\n\u001b[1;32m      2\u001b[0m \u001b[0;32mdef\u001b[0m \u001b[0mget_winner\u001b[0m\u001b[0;34m(\u001b[0m\u001b[0mranks\u001b[0m\u001b[0;34m)\u001b[0m\u001b[0;34m:\u001b[0m\u001b[0;34m\u001b[0m\u001b[0;34m\u001b[0m\u001b[0m\n\u001b[1;32m      3\u001b[0m     \u001b[0;32mif\u001b[0m \u001b[0;32mnot\u001b[0m \u001b[0misinstance\u001b[0m\u001b[0;34m(\u001b[0m\u001b[0mranks\u001b[0m\u001b[0;34m,\u001b[0m \u001b[0mdict\u001b[0m\u001b[0;34m)\u001b[0m\u001b[0;34m:\u001b[0m\u001b[0;34m\u001b[0m\u001b[0;34m\u001b[0m\u001b[0m\n\u001b[0;32m----> 4\u001b[0;31m         \u001b[0;32mraise\u001b[0m \u001b[0mTypeError\u001b[0m\u001b[0;34m(\u001b[0m\u001b[0;34m'must provide a dict instance'\u001b[0m\u001b[0;34m)\u001b[0m\u001b[0;34m\u001b[0m\u001b[0;34m\u001b[0m\u001b[0m\n\u001b[0m\u001b[1;32m      5\u001b[0m     \u001b[0;32mreturn\u001b[0m \u001b[0mnext\u001b[0m\u001b[0;34m(\u001b[0m\u001b[0miter\u001b[0m\u001b[0;34m(\u001b[0m\u001b[0mranks\u001b[0m\u001b[0;34m)\u001b[0m\u001b[0;34m)\u001b[0m\u001b[0;34m\u001b[0m\u001b[0;34m\u001b[0m\u001b[0m\n\u001b[1;32m      6\u001b[0m \u001b[0mget_winner\u001b[0m\u001b[0;34m(\u001b[0m\u001b[0msorted_ranks\u001b[0m\u001b[0;34m)\u001b[0m\u001b[0;34m\u001b[0m\u001b[0;34m\u001b[0m\u001b[0m\n",
      "\u001b[0;31mTypeError\u001b[0m: must provide a dict instance"
     ]
    }
   ],
   "source": [
    "# Solution 2 : Add an explicit check\n",
    "def get_winner(ranks):\n",
    "    if not isinstance(ranks, dict):\n",
    "        raise TypeError('must provide a dict instance')\n",
    "    return next(iter(ranks))\n",
    "get_winner(sorted_ranks)"
   ]
  },
  {
   "cell_type": "code",
   "execution_count": 16,
   "metadata": {},
   "outputs": [
    {
     "output_type": "stream",
     "name": "stdout",
     "text": [
      "{'otter': 1, 'fox': 2, 'polar bear': 3}\nfox\n"
     ]
    }
   ],
   "source": [
    "# Solution 3 : Use type annotations\n",
    "from typing import Dict,MutableMapping\n",
    "def populate_ranks(votes: Dict[str, int],\n",
    "    ranks: Dict[str, int]) -> None:\n",
    "        names = list(votes.keys())\n",
    "        names.sort(key=votes.get, reverse=True)\n",
    "        for i, name in enumerate(names, 1):\n",
    "            ranks[name] = i\n",
    "def get_winner(ranks: Dict[str, int]) -> str:\n",
    "    return next(iter(ranks)) # lead to the error\n",
    "sorted_ranks = SortedDict()\n",
    "populate_ranks(votes, sorted_ranks)\n",
    "print(sorted_ranks.data)\n",
    "winner = get_winner(sorted_ranks)\n",
    "print(winner)\n"
   ]
  },
  {
   "cell_type": "code",
   "execution_count": 17,
   "metadata": {},
   "outputs": [
    {
     "output_type": "stream",
     "name": "stdout",
     "text": [
      "{'otter': 1, 'fox': 2, 'polar bear': 3}\notter\n"
     ]
    }
   ],
   "source": [
    "# (another way) find the key for a certain value\n",
    "def get_key(ranks, val):\n",
    "    for key, value in ranks.items():\n",
    "        if val == value:\n",
    "            return key\n",
    "def get_winner(ranks: Dict[str, int]) -> str:\n",
    "    return get_key(ranks, 1)\n",
    "    \n",
    "class SortedDict(MutableMapping[str, int]):\n",
    "    def __init__(self):\n",
    "        self.data = {}\n",
    "    def __getitem__(self, key):\n",
    "        return self.data[key]\n",
    "    def __setitem__(self, key, value):\n",
    "        self.data[key] = value\n",
    "    def __delitem__(self, key):\n",
    "        del self.data[key]\n",
    "    def __iter__(self):\n",
    "        keys = list(self.data.keys())\n",
    "        keys.sort()\n",
    "        for key in keys:\n",
    "            yield key\n",
    "    def __len__(self):\n",
    "        return len(self.data)\n",
    "\n",
    "votes = {\n",
    " 'otter': 1281,\n",
    " 'polar bear': 587,\n",
    " 'fox': 863,\n",
    "}\n",
    "sorted_ranks = SortedDict()\n",
    "populate_ranks(votes, sorted_ranks)\n",
    "print(sorted_ranks.data)\n",
    "winner = get_winner(sorted_ranks)\n",
    "print(winner)"
   ]
  },
  {
   "source": [
    "## Role of Underscore _ in Python"
   ],
   "cell_type": "markdown",
   "metadata": {}
  },
  {
   "cell_type": "code",
   "execution_count": null,
   "metadata": {},
   "outputs": [],
   "source": [
    "for _ in range(50):\n",
    "__init__(self)\n",
    "_ = 2"
   ]
  },
  {
   "source": [
    "- 특별히 이름을 지어주지 않아도 될때\n",
    "- access modifier\n",
    "1. Use in Python interpreter\n",
    "2. Ignore values\n",
    "3. Use in loop\n",
    "4. Separate digits of numbers\n",
    "5. Naming\n",
    "  - Single Pre Underscore\n",
    "  - Single Post Underscore\n",
    "  - Double Pre Undescores\n",
    "  - Double Pre And Post Underscores"
   ],
   "cell_type": "markdown",
   "metadata": {}
  },
  {
   "source": [
    "### 1. Python automatically stores the value of the last expression"
   ],
   "cell_type": "markdown",
   "metadata": {}
  },
  {
   "cell_type": "code",
   "execution_count": 19,
   "metadata": {},
   "outputs": [
    {
     "output_type": "execute_result",
     "data": {
      "text/plain": [
       "9"
      ]
     },
     "metadata": {},
     "execution_count": 19
    }
   ],
   "source": [
    "4 + 5"
   ]
  },
  {
   "cell_type": "code",
   "execution_count": 20,
   "metadata": {},
   "outputs": [
    {
     "output_type": "execute_result",
     "data": {
      "text/plain": [
       "9"
      ]
     },
     "metadata": {},
     "execution_count": 20
    }
   ],
   "source": [
    "_"
   ]
  },
  {
   "cell_type": "code",
   "execution_count": 21,
   "metadata": {},
   "outputs": [
    {
     "output_type": "execute_result",
     "data": {
      "text/plain": [
       "16"
      ]
     },
     "metadata": {},
     "execution_count": 21
    }
   ],
   "source": [
    " _ + 7"
   ]
  },
  {
   "source": [
    "### 2. Ignore values"
   ],
   "cell_type": "markdown",
   "metadata": {}
  },
  {
   "cell_type": "code",
   "execution_count": 22,
   "metadata": {},
   "outputs": [
    {
     "output_type": "stream",
     "name": "stdout",
     "text": [
      "1 3\n7 1\n"
     ]
    }
   ],
   "source": [
    "a, _, b = (1, 2, 3) # a = 1, b = 3\n",
    "print(a, b)\n",
    "## ignoring multiple values\n",
    "## *(variable) used to assign multiple value to a variable as list while unpacking\n",
    "## it's called \"Extended Unpacking\", only available in Python 3.x\n",
    "a, *_, b = (7, 6, 5, 4, 3, 2, 1)\n",
    "print(a, b)"
   ]
  },
  {
   "source": [
    "### 3. Use in loop"
   ],
   "cell_type": "markdown",
   "metadata": {}
  },
  {
   "cell_type": "code",
   "execution_count": 23,
   "metadata": {},
   "outputs": [
    {
     "output_type": "stream",
     "name": "stdout",
     "text": [
      "0\n1\n2\n3\n4\nPython\nJS\nPHP\nJava\n5 6 7 8 9 "
     ]
    }
   ],
   "source": [
    "## lopping ten times using _\n",
    "for _ in range(5):\n",
    "    print(_)\n",
    "## iterating over a list using _\n",
    "## you can use _ same as a variable\n",
    "languages = [\"Python\", \"JS\", \"PHP\", \"Java\"]\n",
    "for _ in languages:\n",
    "    print(_)\n",
    "_ = 5\n",
    "while _ < 10:\n",
    "    print(_, end = ' ') # default value of 'end' id '\\n' in python. we're changing it to space\n",
    "    _ += 1"
   ]
  },
  {
   "source": [
    "이렇게 _(언더스코어)를 통한 표현은 변수의 이름을 명시적으로 지정할 필요가 없고, 또 변수 이름이 마땅히 생각이 안날때 언더스코어를 통해 지정해 준다면, 코딩하는데 불필요한 고민을 좀 덜어줄 것 같습니다."
   ],
   "cell_type": "markdown",
   "metadata": {}
  },
  {
   "source": [
    "### 4. Separate digits of numbers"
   ],
   "cell_type": "markdown",
   "metadata": {}
  },
  {
   "cell_type": "code",
   "execution_count": 24,
   "metadata": {},
   "outputs": [
    {
     "output_type": "stream",
     "name": "stdout",
     "text": [
      "1000000\n2\n52\n9131\n"
     ]
    }
   ],
   "source": [
    "## different number systems\n",
    "## you can also check whether they are correct or not by coverting them into integer using \"int\" method\n",
    "million = 1_000_000\n",
    "binary = 0b_0010\n",
    "octa = 0o_64\n",
    "hexa = 0x_23_ab\n",
    "print(million)\n",
    "print(binary)\n",
    "print(octa)\n",
    "print(hexa)"
   ]
  },
  {
   "source": [
    "숫자 표현을 끊어서 표현해 주어서 가독성이 좋은것 같습니다.\n",
    "\n",
    "### 5. Naming\n",
    "#### 1. Single pre-underscore, _name\n",
    "- Used for internal use \n",
    "- Python doesn't import the names which starts with a single pre underscore."
   ],
   "cell_type": "markdown",
   "metadata": {}
  },
  {
   "cell_type": "code",
   "execution_count": 26,
   "metadata": {},
   "outputs": [
    {
     "output_type": "stream",
     "name": "stdout",
     "text": [
      "Dankook Unversity\n7\n"
     ]
    }
   ],
   "source": [
    "class Test:\n",
    "    def __init__(self):\n",
    "        self.name = \"Dankook Unversity\"\n",
    "        self._num = 7\n",
    "obj = Test()\n",
    "print(obj.name)\n",
    "print(obj._num)"
   ]
  },
  {
   "cell_type": "code",
   "execution_count": 27,
   "metadata": {},
   "outputs": [],
   "source": [
    "## filename:- my_functions.py\n",
    "def func():\n",
    "    return \"Dankook Unversity\"\n",
    "def _private_func():\n",
    "    return 7"
   ]
  },
  {
   "source": [
    "single underscore로 시작하는 `_private_func()`의 경우 from import 를 통해 외부에서 사용할 수 없음\n",
    "\n",
    "```\n",
    ">>> def function(class):\n",
    " File \"<stdin>\", line 1\n",
    " def function(class):\n",
    " ^\n",
    "SyntaxError: invalid syntax\n",
    ">>> def function(class_):\n",
    "... pass\n",
    "...\n",
    ">>>\n",
    ">>>\n",
    "```"
   ],
   "cell_type": "markdown",
   "metadata": {}
  },
  {
   "source": [
    "1. Single post-underscore, name_\n",
    "- Use Python Keywords as a variable, function or class names, you can use this convention for that\n",
    "- Can avoid conflicts with the Python Keywords by adding an underscore at the end of the name which you want to use\n",
    "\n",
    "underscore를 통해 nameing comfict를 방지할 수 있다."
   ],
   "cell_type": "markdown",
   "metadata": {}
  },
  {
   "source": [
    "2. Double pre-underscore, __name ,\n",
    "\n",
    "- Tell the Python interpreter to rewrite the attribute name of subclasses to avoid naming conflicts\n",
    "- Name Mangling:- interpreter of the Python alters the variable name in a way that it is challenging to clash when the class is inherited\n",
    "\n",
    "- 더블 언더스코어의 경우 파이썬 인터프리터가 임의로 변수이름을 변경\n",
    "- 따라서 클래스의method를 통해 출력해야 한다"
   ],
   "cell_type": "markdown",
   "metadata": {}
  },
  {
   "cell_type": "code",
   "execution_count": 28,
   "metadata": {},
   "outputs": [
    {
     "output_type": "stream",
     "name": "stdout",
     "text": [
      "overridden\noverridden\noverridden\nExcellent\n"
     ]
    }
   ],
   "source": [
    "def __init__(self):\n",
    "    self.a = 1\n",
    "    self._b = 2\n",
    "    self.__c = 3\n",
    "\n",
    "class Sample():\n",
    "    def __init__(self):\n",
    "        self.a = 1\n",
    "        self._b = 2\n",
    "        self.__c = 3\n",
    "class SecondClass(Sample):\n",
    "    def __init__(self):\n",
    "        super().__init__()\n",
    "        self.a = \"overridden\"\n",
    "        self._b = \"overridden\"\n",
    "        self.__c = \"overridden\"\n",
    "obj1 = Sample()\n",
    "obj2 = SecondClass()\n",
    "print(obj2.a)\n",
    "print(obj2._b)\n",
    "print(obj2._SecondClass__c)\n",
    "\n",
    "class SimpleClass:\n",
    "    def __init__(self):\n",
    "        self.__datacamp = \"Excellent\"\n",
    "    def get_datacamp(self):\n",
    "        return self.__datacamp\n",
    "obj = SimpleClass()\n",
    "print(obj.get_datacamp())"
   ]
  },
  {
   "cell_type": "code",
   "execution_count": 29,
   "metadata": {},
   "outputs": [
    {
     "output_type": "execute_result",
     "data": {
      "text/plain": [
       "7"
      ]
     },
     "metadata": {},
     "execution_count": 29
    }
   ],
   "source": [
    "class Sample():\n",
    "    def __init__(self):\n",
    "        self.__num__ = 7\n",
    "obj = Sample()\n",
    "obj.__num__"
   ]
  },
  {
   "source": [
    "## \\[Item 16\\] Prefer get over in and KeyError to Handle Missing Dictionary Keys"
   ],
   "cell_type": "markdown",
   "metadata": {}
  },
  {
   "source": [
    "## Problem 1\n",
    "---\n",
    "### Solution 1"
   ],
   "cell_type": "markdown",
   "metadata": {}
  },
  {
   "cell_type": "code",
   "execution_count": 7,
   "metadata": {},
   "outputs": [
    {
     "output_type": "stream",
     "name": "stdout",
     "text": [
      "{'pumpernickel': 2, 'sourdough': 1, 'wheat': 1}\n"
     ]
    }
   ],
   "source": [
    "counters = {\n",
    "    'pumpernickel': 2,\n",
    "    'sourdough': 1,\n",
    "}\n",
    "key = 'wheat'\n",
    "if key in counters: # How about \"if key not in counters\"?\n",
    "    counter = counters[key]\n",
    "else:\n",
    "    counter = 0\n",
    "counters[key] = counter + 1\n",
    "print(counters)"
   ]
  },
  {
   "source": [
    "### Solution 2"
   ],
   "cell_type": "markdown",
   "metadata": {}
  },
  {
   "cell_type": "code",
   "execution_count": 9,
   "metadata": {},
   "outputs": [
    {
     "output_type": "stream",
     "name": "stdout",
     "text": [
      "{'pumpernickel': 2, 'sourdough': 1, 'wheat': 1}\n"
     ]
    }
   ],
   "source": [
    "counters = {\n",
    "    'pumpernickel': 2,\n",
    "    'sourdough': 1,\n",
    "}\n",
    "key = 'wheat'\n",
    "\n",
    "try:\n",
    "    counter = counters[key]\n",
    "except KeyError:\n",
    "    counter = 0\n",
    "counters[key] = counter + 1\n",
    "print(counters)"
   ]
  },
  {
   "source": [
    "### Solution 3"
   ],
   "cell_type": "markdown",
   "metadata": {}
  },
  {
   "cell_type": "code",
   "execution_count": 11,
   "metadata": {},
   "outputs": [
    {
     "output_type": "stream",
     "name": "stdout",
     "text": [
      "{'pumpernickel': 2, 'sourdough': 1, 'wheat': 1}\n"
     ]
    }
   ],
   "source": [
    "counters = {\n",
    "    'pumpernickel': 2,\n",
    "    'sourdough': 1,\n",
    "}\n",
    "key = 'wheat'\n",
    "\n",
    "count = counters.get(key, 0)\n",
    "counters[key] = counter + 1\n",
    "print(counters)"
   ]
  },
  {
   "source": [
    "- get의 2번째 인자로 key에 해당하는 value가 없을시 2번째 인자를 출력하게 할 수 있다\n",
    "get의 2번째 인자로 key에 해당하는 value가 없을시 2번째 인자를 출력하게 할 수 있다\n",
    "- get은 key에 해당하는 값이 없으면 None을 출력한다\n"
   ],
   "cell_type": "markdown",
   "metadata": {}
  },
  {
   "cell_type": "code",
   "execution_count": 13,
   "metadata": {},
   "outputs": [
    {
     "output_type": "stream",
     "name": "stdout",
     "text": [
      "Name:  Phill\nAge:  22\nSalary:  None\nSalary:  0.0\n"
     ]
    }
   ],
   "source": [
    "person = {'name': 'Phill', 'age': 22}\n",
    "\n",
    "print('Name: ', person.get('name'))\n",
    "print('Age: ', person.get('age'))\n",
    "\n",
    "# value is not provided\n",
    "print('Salary: ', person.get('salary'))\n",
    "\n",
    "# value is provided\n",
    "print('Salary: ', person.get('salary', 0.0))"
   ]
  },
  {
   "source": [
    "### Solution 4"
   ],
   "cell_type": "markdown",
   "metadata": {}
  },
  {
   "cell_type": "code",
   "execution_count": 12,
   "metadata": {},
   "outputs": [],
   "source": [
    "counters = {\n",
    "    'pumpernickel': 2,\n",
    "    'sourdough': 1,\n",
    "}\n",
    "key = 'wheat'\n",
    "\n",
    "count = counters.setdefault(key, 0)\n",
    "counters[key] = count + 1"
   ]
  },
  {
   "source": [
    "## Problem 2\n",
    "---\n",
    "### Solution 1"
   ],
   "cell_type": "markdown",
   "metadata": {}
  },
  {
   "cell_type": "code",
   "execution_count": 14,
   "metadata": {},
   "outputs": [
    {
     "output_type": "stream",
     "name": "stdout",
     "text": [
      "{'baguette': ['Bob', 'Alice'], 'ciabatta': ['Coco', 'Deb'], 'brioche': ['Elmer']}\n"
     ]
    }
   ],
   "source": [
    "votes = {\n",
    "    'baguette': ['Bob', 'Alice'],\n",
    "    'ciabatta': ['Coco', 'Deb'],\n",
    "}\n",
    "key = 'brioche'\n",
    "who = 'Elmer'\n",
    "\n",
    "if key in votes:\n",
    "    names = votes[key]\n",
    "else:\n",
    "    votes[key] = names = [] # Check this triple assignment statement!\n",
    "names.append(who)\n",
    "print(votes)"
   ]
  },
  {
   "source": [
    "### Solution 2"
   ],
   "cell_type": "markdown",
   "metadata": {}
  },
  {
   "cell_type": "code",
   "execution_count": 16,
   "metadata": {},
   "outputs": [
    {
     "output_type": "stream",
     "name": "stdout",
     "text": [
      "{'baguette': ['Bob', 'Alice'], 'ciabatta': ['Coco', 'Deb'], 'brioche': ['Elmer']}\n"
     ]
    }
   ],
   "source": [
    "votes = {\n",
    "    'baguette': ['Bob', 'Alice'],\n",
    "    'ciabatta': ['Coco', 'Deb'],\n",
    "}\n",
    "key = 'brioche'\n",
    "who = 'Elmer'\n",
    "\n",
    "try:\n",
    "    names = votes[key]\n",
    "except KeyError:\n",
    "    votes[key] = names = []\n",
    "names.append(who)\n",
    "print(votes)"
   ]
  },
  {
   "source": [
    "### Solution 3"
   ],
   "cell_type": "markdown",
   "metadata": {}
  },
  {
   "cell_type": "code",
   "execution_count": 18,
   "metadata": {},
   "outputs": [
    {
     "output_type": "stream",
     "name": "stdout",
     "text": [
      "{'baguette': ['Bob', 'Alice'], 'ciabatta': ['Coco', 'Deb'], 'brioche': ['Elmer']}\n"
     ]
    }
   ],
   "source": [
    "votes = {\n",
    "    'baguette': ['Bob', 'Alice'],\n",
    "    'ciabatta': ['Coco', 'Deb'],\n",
    "}\n",
    "key = 'brioche'\n",
    "who = 'Elmer'\n",
    "\n",
    "names = votes.get(key)\n",
    "if names is None:\n",
    "    votes[key] = names = []\n",
    "names.append(who)\n",
    "print(votes)"
   ]
  },
  {
   "source": [
    "### Solution 4"
   ],
   "cell_type": "markdown",
   "metadata": {}
  },
  {
   "cell_type": "code",
   "execution_count": 19,
   "metadata": {},
   "outputs": [
    {
     "output_type": "stream",
     "name": "stdout",
     "text": [
      "{'baguette': ['Bob', 'Alice'], 'ciabatta': ['Coco', 'Deb'], 'brioche': ['Elmer']}\n"
     ]
    }
   ],
   "source": [
    "\n",
    "votes = {\n",
    "    'baguette': ['Bob', 'Alice'],\n",
    "    'ciabatta': ['Coco', 'Deb'],\n",
    "}\n",
    "key = 'brioche'\n",
    "who = 'Elmer'\n",
    "\n",
    "if (names := votes.get(key)) is None:\n",
    "    votes[key] = names = []\n",
    "names.append(who)\n",
    "print(votes)"
   ]
  },
  {
   "source": [
    "### Solution 5"
   ],
   "cell_type": "markdown",
   "metadata": {}
  },
  {
   "cell_type": "code",
   "execution_count": 20,
   "metadata": {},
   "outputs": [
    {
     "output_type": "stream",
     "name": "stdout",
     "text": [
      "{'baguette': ['Bob', 'Alice'], 'ciabatta': ['Coco', 'Deb'], 'brioche': ['Elmer']}\n"
     ]
    }
   ],
   "source": [
    "\n",
    "votes = {\n",
    "    'baguette': ['Bob', 'Alice'],\n",
    "    'ciabatta': ['Coco', 'Deb'],\n",
    "}\n",
    "key = 'brioche'\n",
    "who = 'Elmer'\n",
    "\n",
    "names = votes.setdefault(key, [])\n",
    "names.append(who)\n",
    "print(votes)"
   ]
  },
  {
   "source": [
    "## \\[Item 17\\] Prefer defaultdict over setdefault to Handle Missing Items in Internal State\n",
    "\n",
    "## Problem 1\n",
    "---\n",
    "### Solution 1"
   ],
   "cell_type": "markdown",
   "metadata": {}
  },
  {
   "cell_type": "code",
   "execution_count": 21,
   "metadata": {},
   "outputs": [
    {
     "output_type": "stream",
     "name": "stdout",
     "text": [
      "{'Mexico': {'Tulum', 'Puerto Vallarta'}, 'Japan': {'Hakone'}, 'France': {'Arles'}}\n"
     ]
    }
   ],
   "source": [
    "visits = {\n",
    "    'Mexico': {'Tulum', 'Puerto Vallarta'},\n",
    "    'Japan': {'Hakone'},\n",
    "}\n",
    "visits.setdefault('France', set()).add('Arles') # short\n",
    "print(visits)"
   ]
  },
  {
   "source": [
    "### Solution 2"
   ],
   "cell_type": "markdown",
   "metadata": {}
  },
  {
   "cell_type": "code",
   "execution_count": 23,
   "metadata": {},
   "outputs": [
    {
     "output_type": "stream",
     "name": "stdout",
     "text": [
      "{'Mexico': {'Tulum', 'Puerto Vallarta'}, 'Japan': {'Hakone'}, 'France': {'Arles'}}\n"
     ]
    }
   ],
   "source": [
    "if (japan := visits.get('Japan')) is None: # long\n",
    "    visits['Japan'] = japan = set()\n",
    "    japan.add('Kyoto')\n",
    "print(visits)"
   ]
  },
  {
   "source": [
    "### Solution 1 & 2"
   ],
   "cell_type": "markdown",
   "metadata": {}
  },
  {
   "cell_type": "code",
   "execution_count": 24,
   "metadata": {},
   "outputs": [
    {
     "output_type": "stream",
     "name": "stdout",
     "text": [
      "{'France': {'Arles'},\n 'Japan': {'Kyoto', 'Hakone'},\n 'Mexico': {'Tulum', 'Puerto Vallarta'}}\n"
     ]
    }
   ],
   "source": [
    "from pprint import pprint\n",
    "visits = {\n",
    "    'Mexico': {'Tulum', 'Puerto Vallarta'},\n",
    "    'Japan': {'Hakone'},\n",
    "}\n",
    "visits.setdefault('France', set()).add('Arles') # Short\n",
    "if (japan := visits.get('Japan')) is None: # Long\n",
    "    visits['Japan'] = japan = set()\n",
    "japan.add('Kyoto')\n",
    "original_print = print\n",
    "print = pprint\n",
    "\n",
    "print(visits)\n",
    "print = original_print"
   ]
  },
  {
   "source": [
    "### Solution 3"
   ],
   "cell_type": "markdown",
   "metadata": {}
  },
  {
   "cell_type": "code",
   "execution_count": 25,
   "metadata": {},
   "outputs": [
    {
     "output_type": "stream",
     "name": "stdout",
     "text": [
      "{'Russia': {'Yekaterinburg'}, 'Tanzania': {'Zanzibar'}}\n"
     ]
    }
   ],
   "source": [
    "class Visits:\n",
    "    def __init__(self):\n",
    "        self.data = {}\n",
    "    def add(self, country, city):\n",
    "        city_set = self.data.setdefault(country, set())\n",
    "        city_set.add(city)\n",
    "visits = Visits()\n",
    "visits.add('Russia', 'Yekaterinburg')\n",
    "visits.add('Tanzania', 'Zanzibar')\n",
    "print(visits.data)"
   ]
  },
  {
   "source": [
    "매 호출마다 새로운 인스턴스를 만들기 때문에 비효율적입니다"
   ],
   "cell_type": "markdown",
   "metadata": {}
  },
  {
   "source": [
    "### Solution 4 : defaultdic"
   ],
   "cell_type": "markdown",
   "metadata": {}
  },
  {
   "cell_type": "code",
   "execution_count": 26,
   "metadata": {},
   "outputs": [
    {
     "output_type": "stream",
     "name": "stdout",
     "text": [
      "{'Russia': {'Yekaterinburg'}, 'Tanzania': {'Zanzibar'}}\n"
     ]
    }
   ],
   "source": [
    "from collections import defaultdict\n",
    "class Visits:\n",
    "    def __init__(self):\n",
    "        self.data = defaultdict(set)\n",
    "    def add(self, country, city):\n",
    "        self.data[country].add(city)\n",
    "        visits = Visits()\n",
    "visits.add('Russia', 'Yekaterinburg')\n",
    "visits.add('Tanzania', 'Zanzibar')\n",
    "print(visits.data)"
   ]
  },
  {
   "source": [
    "## \\[Item 18\\] Know How to Construct KeyDependent Default Values with \\_\\_missing\\_\\_"
   ],
   "cell_type": "markdown",
   "metadata": {}
  },
  {
   "source": [
    "## Problem\n",
    "---\n",
    "Design a program to manage social network profile pictures on the file system\n",
    "### Solution 1\n",
    "\n"
   ],
   "cell_type": "markdown",
   "metadata": {}
  },
  {
   "cell_type": "code",
   "execution_count": 33,
   "metadata": {},
   "outputs": [
    {
     "output_type": "stream",
     "name": "stdout",
     "text": [
      "{'profile_9991.png': <_io.BufferedRandom name='profile_9991.png'>}\nb'image data here 9991'\n"
     ]
    }
   ],
   "source": [
    "pictures = {}\n",
    "path = 'profile_9991.png'\n",
    "with open(path, 'wb') as f:\n",
    "    f.write(b'image data here 9991')\n",
    "if (handle := pictures.get(path)) is None:\n",
    "    try:\n",
    "        handle = open(path, 'a+b')\n",
    "    except OSError:\n",
    "        print(f'Failed to open path {path}')\n",
    "        raise\n",
    "    else:\n",
    "        pictures[path] = handle\n",
    "handle.seek(0)\n",
    "image_data = handle.read()\n",
    "print(pictures)\n",
    "print(image_data)"
   ]
  },
  {
   "source": [
    "### Solution 2"
   ],
   "cell_type": "markdown",
   "metadata": {}
  },
  {
   "cell_type": "code",
   "execution_count": 32,
   "metadata": {},
   "outputs": [
    {
     "output_type": "stream",
     "name": "stdout",
     "text": [
      "{'profile_9922.png': <_io.BufferedRandom name='profile_9922.png'>}\nb'image data here 9922'\n"
     ]
    }
   ],
   "source": [
    "pictures = {}\n",
    "path = 'profile_9922.png'\n",
    "with open(path, 'wb') as f:\n",
    "    f.write(b'image data here 9922')\n",
    "\n",
    "try:\n",
    "    handle = pictures[path]\n",
    "except KeyError:\n",
    "    try:\n",
    "        handle = open(path, 'a+b')\n",
    "    except OSError:\n",
    "        print(f'Failed to open path {path}')\n",
    "        raise\n",
    "    else:\n",
    "        pictures[path] = handle\n",
    "\n",
    "handle.seek(0)\n",
    "image_data = handle.read()\n",
    "\n",
    "print(pictures)\n",
    "print(image_data)"
   ]
  },
  {
   "source": [
    "### Solution 3"
   ],
   "cell_type": "markdown",
   "metadata": {}
  },
  {
   "cell_type": "code",
   "execution_count": 36,
   "metadata": {},
   "outputs": [
    {
     "output_type": "error",
     "ename": "TypeError",
     "evalue": "open_picture() missing 1 required positional argument: 'profile_path'",
     "traceback": [
      "\u001b[0;31m---------------------------------------------------------------------------\u001b[0m",
      "\u001b[0;31mTypeError\u001b[0m                                 Traceback (most recent call last)",
      "\u001b[0;32m<ipython-input-36-5b38a9dc61d4>\u001b[0m in \u001b[0;36m<module>\u001b[0;34m\u001b[0m\n\u001b[1;32m     14\u001b[0m         \u001b[0;32mraise\u001b[0m\u001b[0;34m\u001b[0m\u001b[0;34m\u001b[0m\u001b[0m\n\u001b[1;32m     15\u001b[0m \u001b[0mpictures\u001b[0m \u001b[0;34m=\u001b[0m \u001b[0mdefaultdict\u001b[0m\u001b[0;34m(\u001b[0m\u001b[0mopen_picture\u001b[0m\u001b[0;34m)\u001b[0m\u001b[0;34m\u001b[0m\u001b[0;34m\u001b[0m\u001b[0m\n\u001b[0;32m---> 16\u001b[0;31m \u001b[0mhandle\u001b[0m \u001b[0;34m=\u001b[0m \u001b[0mpictures\u001b[0m\u001b[0;34m[\u001b[0m\u001b[0mpath\u001b[0m\u001b[0;34m]\u001b[0m\u001b[0;34m\u001b[0m\u001b[0;34m\u001b[0m\u001b[0m\n\u001b[0m\u001b[1;32m     17\u001b[0m \u001b[0mhandle\u001b[0m\u001b[0;34m.\u001b[0m\u001b[0mseek\u001b[0m\u001b[0;34m(\u001b[0m\u001b[0;36m0\u001b[0m\u001b[0;34m)\u001b[0m\u001b[0;34m\u001b[0m\u001b[0;34m\u001b[0m\u001b[0m\n\u001b[1;32m     18\u001b[0m \u001b[0mimage_data\u001b[0m \u001b[0;34m=\u001b[0m \u001b[0mhandle\u001b[0m\u001b[0;34m.\u001b[0m\u001b[0mread\u001b[0m\u001b[0;34m(\u001b[0m\u001b[0;34m)\u001b[0m\u001b[0;34m\u001b[0m\u001b[0;34m\u001b[0m\u001b[0m\n",
      "\u001b[0;31mTypeError\u001b[0m: open_picture() missing 1 required positional argument: 'profile_path'"
     ]
    }
   ],
   "source": [
    "pictures = {}\n",
    "path = 'profile_9933.png'\n",
    "\n",
    "with open(path, 'wb') as f:\n",
    "    f.write(b'image data here 9933')\n",
    "\n",
    "from collections import defaultdict\n",
    "\n",
    "def open_picture(profile_path):\n",
    "    try:\n",
    "        return open(profile_path, 'a+b')\n",
    "    except OSError:\n",
    "        print(f'Failed to open path {profile_path}')\n",
    "        raise\n",
    "pictures = defaultdict(open_picture)\n",
    "handle = pictures[path]\n",
    "handle.seek(0)\n",
    "image_data = handle.read()"
   ]
  },
  {
   "source": [
    "### Solution 4"
   ],
   "cell_type": "markdown",
   "metadata": {}
  },
  {
   "cell_type": "code",
   "execution_count": 38,
   "metadata": {},
   "outputs": [
    {
     "output_type": "stream",
     "name": "stdout",
     "text": [
      "b'image data here 9944'\n"
     ]
    }
   ],
   "source": [
    "pictures = {}\n",
    "path = 'profile_9944.png'\n",
    "with open(path, 'wb') as f:\n",
    "    f.write(b'image data here 9944')\n",
    "def open_picture(profile_path):\n",
    "    try:\n",
    "        return open(profile_path, 'a+b')\n",
    "    except OSError:\n",
    "        print(f'Failed to open path {profile_path}')\n",
    "        raise\n",
    "class Pictures(dict):\n",
    "    def __missing__(self, key):\n",
    "        value = open_picture(key)\n",
    "        self[key] = value\n",
    "        return value\n",
    "\n",
    "pictures = Pictures()\n",
    "handle = pictures[path]\n",
    "handle.seek(0)\n",
    "image_data = handle.read()\n",
    "\n",
    "print(image_data)"
   ]
  },
  {
   "source": [
    "## \\[Item 19\\] Never Unpack More Than Three Variables When Functions Return Multiple Values\n",
    "\n",
    "## Problem\n",
    "---\n",
    "- Determine various statistics for a population of alligators.\n",
    "- Given a list , we need to calculate the minimium and maximum lengths in the\n",
    "propulation.\n",
    "### Solution\n",
    "\n"
   ],
   "cell_type": "markdown",
   "metadata": {}
  },
  {
   "cell_type": "code",
   "execution_count": 40,
   "metadata": {},
   "outputs": [
    {
     "output_type": "stream",
     "name": "stdout",
     "text": [
      "Min: 60, Max: 73\n"
     ]
    }
   ],
   "source": [
    "def get_stats(numbers):\n",
    "    minimum = min(numbers)\n",
    "    maximum = max(numbers)\n",
    "    return minimum, maximum\n",
    "    \n",
    "lengths = [63, 73, 72, 60, 67, 66, 71, 61, 72, 70]\n",
    "minimum, maximum = get_stats(lengths)\n",
    "print(f'Min: {minimum}, Max: {maximum}') "
   ]
  },
  {
   "cell_type": "code",
   "execution_count": 41,
   "metadata": {},
   "outputs": [],
   "source": [
    "def my_function():\n",
    "    return 1, 2\n",
    "\n",
    "first, second = my_function()\n",
    "assert first == 1\n",
    "assert second == 2"
   ]
  },
  {
   "source": [
    "## Problem\n",
    "---\n",
    "Calculate how big each alligatore is relative to the population average\n",
    "### Solution"
   ],
   "cell_type": "markdown",
   "metadata": {}
  },
  {
   "cell_type": "code",
   "execution_count": 44,
   "metadata": {},
   "outputs": [
    {
     "output_type": "stream",
     "name": "stdout",
     "text": [
      "Longest: 108%\nShortest:  89%\n"
     ]
    }
   ],
   "source": [
    "def get_avg_ratio(numbers):\n",
    "    average = sum(numbers) / len(numbers)\n",
    "    scaled = [x / average for x in numbers]\n",
    "    scaled.sort(reverse=True)\n",
    "    return scaled\n",
    "longest, *middle, shortest = get_avg_ratio(lengths)\n",
    "print(f'Longest: {longest:>4.0%}')\n",
    "print(f'Shortest: {shortest:>4.0%}')"
   ]
  },
  {
   "source": [
    "## Problem\n",
    "---\n",
    "Calculate the average length, median length, and total population size of the alligater\n",
    "### Solution"
   ],
   "cell_type": "markdown",
   "metadata": {}
  },
  {
   "cell_type": "code",
   "execution_count": 57,
   "metadata": {},
   "outputs": [
    {
     "output_type": "stream",
     "name": "stdout",
     "text": [
      "Min:60, Max:73\nAverage:6750%, Median:6850%, Count:10\n"
     ]
    }
   ],
   "source": [
    "def get_avg_ratio(numbers):\n",
    "    minimum = min(numbers)\n",
    "    maximum = max(numbers)\n",
    "    count = len(numbers)\n",
    "    average = sum(numbers) / count\n",
    "\n",
    "    sorted_numbers = sorted(numbers)\n",
    "    middle = count // 2\n",
    "    if count % 2 == 0:\n",
    "        lower = sorted_numbers[middle-1]\n",
    "        upper = sorted_numbers[middle]\n",
    "        median = (lower + upper) / 2\n",
    "    else:\n",
    "        median = sorted_numbers[middle]\n",
    "\n",
    "    return minimum, maximum, average, median, count\n",
    "minimum, maximum, average, median, count = get_avg_ratio(lengths)\n",
    "print(f'Min:{minimum}, Max:{maximum}')\n",
    "print(f'Average:{average:>4.0%}, Median:{median:>4.0%}, Count:{count}')"
   ]
  },
  {
   "source": [
    "- 위와같이 return value가 너무 많으면, typo가 나타날 가능성이 있다.\n",
    "- 따라서 namedtuple을 사용하는것을 추천 \\[item37\\]"
   ],
   "cell_type": "markdown",
   "metadata": {}
  },
  {
   "source": [
    "## \\[Item 20\\] Prefer Raising Exceptions to Returning None"
   ],
   "cell_type": "markdown",
   "metadata": {}
  },
  {
   "cell_type": "code",
   "execution_count": 31,
   "metadata": {},
   "outputs": [
    {
     "output_type": "stream",
     "name": "stdout",
     "text": [
      "Invalid inputs\n"
     ]
    }
   ],
   "source": [
    "def careful_divide(a, b):\n",
    "    try:\n",
    "        return a / b\n",
    "    except ZeroDivisionError:\n",
    "        return None\n",
    "x, y = 1, 0\n",
    "result = careful_divide(x, y)\n",
    "if result is None:\n",
    "    print('Invalid inputs')"
   ]
  },
  {
   "cell_type": "code",
   "execution_count": 32,
   "metadata": {},
   "outputs": [
    {
     "output_type": "stream",
     "name": "stdout",
     "text": [
      "Invalid inputs\n"
     ]
    }
   ],
   "source": [
    "x, y = 0, 5\n",
    "result = careful_divide(x, y)\n",
    "if not result:\n",
    "    print('Invalid inputs') # This runs! But shouldn't"
   ]
  },
  {
   "source": [
    "### Solution 1\n"
   ],
   "cell_type": "markdown",
   "metadata": {}
  },
  {
   "cell_type": "code",
   "execution_count": 33,
   "metadata": {},
   "outputs": [
    {
     "output_type": "stream",
     "name": "stdout",
     "text": [
      "Invalid inputs\nInvalid inputs\n"
     ]
    }
   ],
   "source": [
    "def careful_divide(a, b):\n",
    "    try:\n",
    "        return True, a / b\n",
    "    except ZeroDivisionError:\n",
    "        return False, None\n",
    "x, y = 1, 0\n",
    "success, result = careful_divide(x, y)\n",
    "if not success:\n",
    "    print('Invalid inputs')\n",
    "x, y = 0, 5\n",
    "_, result = careful_divide(x, y) # ignore the value\n",
    "if not result:\n",
    "    print('Invalid inputs') # This runs! But shouldn't"
   ]
  },
  {
   "source": [
    "### Solution 2"
   ],
   "cell_type": "markdown",
   "metadata": {}
  },
  {
   "cell_type": "code",
   "execution_count": 34,
   "metadata": {},
   "outputs": [
    {
     "output_type": "stream",
     "name": "stdout",
     "text": [
      "Result is 2.5\n"
     ]
    }
   ],
   "source": [
    "def careful_divide(a, b):\n",
    "    try:\n",
    "        return a / b\n",
    "    except ZeroDivisionError as e:\n",
    "        raise ValueError('Invalid inputs')\n",
    "\n",
    "x, y = 5, 2\n",
    "try:\n",
    "    result = careful_divide(x, y)\n",
    "except ValueError:\n",
    "    print('Invalid inputs')\n",
    "else:\n",
    "    print('Result is %.1f' % result)"
   ]
  },
  {
   "source": [
    "### Solution 3"
   ],
   "cell_type": "markdown",
   "metadata": {}
  },
  {
   "cell_type": "code",
   "execution_count": null,
   "metadata": {},
   "outputs": [],
   "source": [
    "def careful_divide(a: float, b: float)->float:\n",
    " \"\"\"Divides a by b\n",
    " Raises:\n",
    " ValueError: When the inputs cannot be divided.\n",
    " \"\"\"\n",
    " try:\n",
    "    return a / b\n",
    " except ZeroDivisionError as e:\n",
    "    raise ValueError('Invalid inputs')\n",
    "x, y = 5, 2\n",
    "try:\n",
    "    result = careful_divide(x, y)\n",
    "except ValueError:\n",
    "    print('Invalid inputs')\n",
    "else:\n",
    "    print('Result is %.1f' % result)"
   ]
  },
  {
   "source": [
    "## \\[Item 21\\] Know How Closures Interact with Variable Scope"
   ],
   "cell_type": "markdown",
   "metadata": {}
  },
  {
   "source": [
    "### Python Closure"
   ],
   "cell_type": "markdown",
   "metadata": {}
  },
  {
   "cell_type": "code",
   "execution_count": 79,
   "metadata": {},
   "outputs": [
    {
     "output_type": "stream",
     "name": "stdout",
     "text": [
      "hi there\nhi there\nhi there\n"
     ]
    }
   ],
   "source": [
    "def make_printer(msg):\n",
    "    msg = \"hi there\"\n",
    "    \n",
    "    def printer():\n",
    "        print(msg)\n",
    "    \n",
    "    return printer\n",
    "    \n",
    "myprinter = make_printer(\"Hello World!\")\n",
    "myprinter()\n",
    "myprinter()\n",
    "myprinter()"
   ]
  },
  {
   "source": [
    "python closure는 굳이 사용할 일이 많지 않을것 같지만 매개변수를 수정하여 전달하기 보다 이름으로 표현하는것이 더 가독성이 좋을때, 또는 다음과 같이 innerfunction을 활용할때 특히 유용한 것 같습니다"
   ],
   "cell_type": "markdown",
   "metadata": {}
  },
  {
   "cell_type": "code",
   "execution_count": 9,
   "metadata": {},
   "outputs": [],
   "source": [
    "def has_permission(page):\n",
    "    def permission(username):\n",
    "        if username.lower() == \"admin\":\n",
    "            return f\"'{username}' has access to {page}.\"\n",
    "        else:\n",
    "            return f\"'{username}' doesn't have access to {page}.\"\n",
    "    return permission\n",
    "\n",
    "check_admin_page_permision = has_permission(\"Admin Page\")"
   ]
  },
  {
   "cell_type": "code",
   "execution_count": 11,
   "metadata": {},
   "outputs": [
    {
     "output_type": "execute_result",
     "data": {
      "text/plain": [
       "\"'admin' has access to Admin Page.\""
      ]
     },
     "metadata": {},
     "execution_count": 11
    }
   ],
   "source": [
    "\n",
    "check_admin_page_permision(\"admin\")"
   ]
  },
  {
   "cell_type": "code",
   "execution_count": 12,
   "metadata": {},
   "outputs": [
    {
     "output_type": "execute_result",
     "data": {
      "text/plain": [
       "\"'john' doesn't have access to Admin Page.\""
      ]
     },
     "metadata": {},
     "execution_count": 12
    }
   ],
   "source": [
    "check_admin_page_permision(\"john\")"
   ]
  },
  {
   "source": [
    "### Python Closure with nonlocal keyword"
   ],
   "cell_type": "markdown",
   "metadata": {}
  },
  {
   "cell_type": "code",
   "execution_count": 91,
   "metadata": {},
   "outputs": [
    {
     "output_type": "stream",
     "name": "stdout",
     "text": [
      "1\n1\n1\n"
     ]
    }
   ],
   "source": [
    "def make_counter():\n",
    "    count = 0\n",
    "\n",
    "    def inner():\n",
    "        nonlocal count\n",
    "        count += 1\n",
    "        return count\n",
    "\n",
    "    return inner\n",
    "\n",
    "counter = make_counter()\n",
    "c = counter()\n",
    "print(c)\n",
    "c = counter()\n",
    "print(c)\n",
    "c = counter()\n",
    "print(c)"
   ]
  },
  {
   "cell_type": "code",
   "execution_count": 94,
   "metadata": {},
   "outputs": [
    {
     "output_type": "stream",
     "name": "stdout",
     "text": [
      "1\n3\n6\n10\n"
     ]
    }
   ],
   "source": [
    "class Summer():\n",
    "    def __init__(self):\n",
    "        self.data = []\n",
    "    def __call__(self, val):\n",
    "        self.data.append(val)\n",
    "        _sum = sum(self.data)\n",
    "        return _sum\n",
    "summer = Summer()\n",
    "s = summer(1)\n",
    "print(s)\n",
    "\n",
    "s = summer(2)\n",
    "print(s)\n",
    "\n",
    "s = summer(3)\n",
    "print(s)\n",
    "\n",
    "s = summer(4)\n",
    "print(s)"
   ]
  },
  {
   "source": [
    "Nested function은 주로 함수 내에서 private한 계산을 수행해야 할때와 같이 모듈화 작업에 유용한 것 같다."
   ],
   "cell_type": "markdown",
   "metadata": {}
  },
  {
   "source": [
    "### Closure vs. Class"
   ],
   "cell_type": "markdown",
   "metadata": {}
  },
  {
   "cell_type": "code",
   "execution_count": 96,
   "metadata": {},
   "outputs": [
    {
     "output_type": "stream",
     "name": "stdout",
     "text": [
      "1\n3\n6\n10\n"
     ]
    }
   ],
   "source": [
    "class Summer():\n",
    "    def __init__(self):\n",
    "        self.data = []\n",
    "    def __call__(self, val):\n",
    "        self.data.append(val)\n",
    "        _sum = sum(self.data)\n",
    "        return _sum\n",
    "summer = Summer()\n",
    "s = summer(1)\n",
    "print(s)\n",
    "s = summer(2)\n",
    "print(s)\n",
    "s = summer(3)\n",
    "print(s)\n",
    "s = summer(4)\n",
    "print(s)"
   ]
  },
  {
   "cell_type": "code",
   "execution_count": 100,
   "metadata": {},
   "outputs": [
    {
     "output_type": "stream",
     "name": "stdout",
     "text": [
      "1\n3\n6\n10\n"
     ]
    }
   ],
   "source": [
    "def make_summer():\n",
    "    data = []\n",
    "    def summer(val):\n",
    "        data.append(val)\n",
    "        _sum = sum(data)\n",
    "        return _sum\n",
    "    return summer\n",
    "\n",
    "summer = make_summer()\n",
    "s = summer(1)\n",
    "print(s)\n",
    "s = summer(2)\n",
    "print(s)\n",
    "s = summer(3)\n",
    "print(s)\n",
    "s = summer(4)\n",
    "print(s)"
   ]
  },
  {
   "source": [
    "하지만 closure를 사용하니 매번 함수를 추가적으로 객체에 할당하는 과정이 필요한 것 같습니다.\n",
    "\n",
    "따라서 기능별로 모듈화해야한다면 class로 표현하는것이 더 유리할것으로 보입니다."
   ],
   "cell_type": "markdown",
   "metadata": {}
  },
  {
   "source": [
    "### Problem\n",
    "- Sort a list of numbers but prioritize one group of numbers to come first\n",
    "\n",
    "### Solution 1"
   ],
   "cell_type": "markdown",
   "metadata": {}
  },
  {
   "cell_type": "code",
   "execution_count": 103,
   "metadata": {},
   "outputs": [
    {
     "output_type": "stream",
     "name": "stdout",
     "text": [
      "[2, 3, 5, 7, 1, 4, 6, 8]\n"
     ]
    }
   ],
   "source": [
    "def sort_priority(values, group):\n",
    "    def helper(x):\n",
    "        if x in group:\n",
    "            return (0, x)\n",
    "        return (1, x)\n",
    "    values.sort(key=helper)\n",
    "numbers = [8, 3, 1, 2, 5, 4, 7, 6]\n",
    "group = {2, 3, 5, 7}\n",
    "sort_priority(numbers, group)\n",
    "print(numbers)"
   ]
  },
  {
   "source": [
    "### Solution 2\n"
   ],
   "cell_type": "markdown",
   "metadata": {}
  },
  {
   "cell_type": "code",
   "execution_count": 104,
   "metadata": {},
   "outputs": [
    {
     "output_type": "stream",
     "name": "stdout",
     "text": [
      "[2, 3, 5, 7, 1, 4, 6, 8]\n"
     ]
    }
   ],
   "source": [
    "def sort_priority2(numbers, group):\n",
    "    found = False\n",
    "    def helper(x):\n",
    "        if x in group:\n",
    "            found = True # Seems simple\n",
    "            return (0, x)\n",
    "        return (1, x)\n",
    "    numbers.sort(key=helper)\n",
    "    return found\n",
    "sort_priority2(numbers, group)\n",
    "print(numbers)"
   ]
  },
  {
   "source": [
    "### Solution 3"
   ],
   "cell_type": "markdown",
   "metadata": {}
  },
  {
   "cell_type": "code",
   "execution_count": 106,
   "metadata": {},
   "outputs": [
    {
     "output_type": "stream",
     "name": "stdout",
     "text": [
      "[2, 3, 5, 7, 1, 4, 6, 8]\n"
     ]
    }
   ],
   "source": [
    "def sort_priority3(numbers, group):\n",
    "    found = False\n",
    "    def helper(x):\n",
    "        nonlocal found # Added!!!\n",
    "        # global found # how about!!!\n",
    "        if x in group:\n",
    "            found = True\n",
    "            return (0, x)\n",
    "        return (1, x)\n",
    "    numbers.sort(key=helper)\n",
    "    return found\n",
    "\n",
    "sort_priority3(numbers, group)\n",
    "print(numbers)"
   ]
  },
  {
   "source": [
    "### Solution 4"
   ],
   "cell_type": "markdown",
   "metadata": {}
  },
  {
   "cell_type": "code",
   "execution_count": 110,
   "metadata": {},
   "outputs": [
    {
     "output_type": "stream",
     "name": "stdout",
     "text": [
      "[2, 3, 5, 7, 1, 4, 6, 8]\n"
     ]
    }
   ],
   "source": [
    "class Sorter:\n",
    "    def __init__(self, group):\n",
    "        self.group = group\n",
    "        self.found = False\n",
    "    def __call__(self, x):\n",
    "        if x in self.group:\n",
    "            self.found = True\n",
    "            return (0, x)\n",
    "        return (1, x)\n",
    "sorter = Sorter(group)\n",
    "numbers.sort(key=sorter)\n",
    "assert sorter.found is True\n",
    "\n",
    "print(numbers)"
   ]
  },
  {
   "source": [
    "## \\[Item 22\\] Reduce Visual Noise with Variable Positional Arguments\n",
    "\n",
    "### Problem\n",
    "---\n",
    "### Solution 1"
   ],
   "cell_type": "markdown",
   "metadata": {}
  },
  {
   "cell_type": "code",
   "execution_count": 1,
   "metadata": {},
   "outputs": [
    {
     "output_type": "stream",
     "name": "stdout",
     "text": [
      "My numbers are: 1, 2\nHi there\n"
     ]
    }
   ],
   "source": [
    "def log(message, values):\n",
    "    if not values:\n",
    "        print(message)\n",
    "    else:\n",
    "        values_str = ', '.join(str(x) for x in values)\n",
    "        print(f'{message}: {values_str}')\n",
    "log('My numbers are', [1, 2])\n",
    "log('Hi there', [])"
   ]
  },
  {
   "source": [
    "### Solution 2"
   ],
   "cell_type": "markdown",
   "metadata": {}
  },
  {
   "cell_type": "code",
   "execution_count": 2,
   "metadata": {},
   "outputs": [
    {
     "output_type": "stream",
     "name": "stdout",
     "text": [
      "My numbers are: [1, 2]\nHi there\n"
     ]
    }
   ],
   "source": [
    "def log(message, *values):\n",
    "    if not values:\n",
    "        print(message)\n",
    "    else:\n",
    "        values_str = ', '.join(str(x) for x in values)\n",
    "        print(f'{message}: {values_str}')\n",
    "log('My numbers are', [1, 2])\n",
    "log('Hi there')"
   ]
  },
  {
   "cell_type": "code",
   "execution_count": 4,
   "metadata": {},
   "outputs": [
    {
     "output_type": "stream",
     "name": "stdout",
     "text": [
      "(0, 1, 2, 3, 4, 5, 6, 7, 8, 9)\n"
     ]
    }
   ],
   "source": [
    "def my_generator():\n",
    "    for i in range(10):\n",
    "        yield i\n",
    "def my_func(*args):\n",
    "    print(args)\n",
    "it = my_generator()\n",
    "my_func(*it)"
   ]
  },
  {
   "source": [
    "### solution 3"
   ],
   "cell_type": "markdown",
   "metadata": {}
  },
  {
   "cell_type": "code",
   "execution_count": 6,
   "metadata": {},
   "outputs": [
    {
     "output_type": "stream",
     "name": "stdout",
     "text": [
      "1 - Favorites: 7, 33\n1 - Hi there\nFavorite numbers - 7: 33\n"
     ]
    }
   ],
   "source": [
    "def log(sequence, message, *values):\n",
    "    if not values:\n",
    "        print(f'{sequence} - {message}')\n",
    "    else:\n",
    "        values_str = ', '.join(str(x) for x in values)\n",
    "        print(f'{sequence} - {message}: {values_str}')\n",
    "log(1, 'Favorites', 7, 33) # New with *args OK\n",
    "log(1, 'Hi there') # New message only OK\n",
    "log('Favorite numbers', 7, 33) # Old usage breaks"
   ]
  },
  {
   "source": [
    "## \\[Item 23\\] Provide Optional Behavior with Keyword Arguments"
   ],
   "cell_type": "markdown",
   "metadata": {}
  },
  {
   "cell_type": "code",
   "execution_count": 8,
   "metadata": {},
   "outputs": [],
   "source": [
    "def remainder(number, divisor):\n",
    "    return number % divisor\n",
    "assert remainder(20, 7) == 6 # positional arguments\n",
    "assert remainder(number=20, divisor=7) == 6 # keyword arguments\n",
    "assert remainder(20, divisor=7) == 6 # mixed!\n",
    "assert remainder(divisor=7, number=20) == 6 # change the order"
   ]
  },
  {
   "source": [
    "텐서플로우에서는 다양한 인자를 keyword arguments로 전달받는데 이는 다양한 인자를 헷갈리지 않게 키워드로 전달하여 편하게 사용할 수 있도록 해주는것같습니다.\n",
    "```python\n",
    "train_loss = tf.keras.metrics.Mean(name='train_loss')\n",
    "train_accuracy = tf.keras.metrics.SparseCategoricalAccuracy(name='train_accuracy')\n",
    "\n",
    "test_loss = tf.keras.metrics.Mean(name='test_loss')\n",
    "test_accuracy = tf.keras.metrics.SparseCategoricalAccuracy(name='test_accuracy')\n",
    "```"
   ],
   "cell_type": "markdown",
   "metadata": {}
  },
  {
   "cell_type": "code",
   "execution_count": 9,
   "metadata": {},
   "outputs": [],
   "source": [
    "my_kwargs = {\n",
    " 'number': 20,\n",
    " 'divisor': 7,\n",
    "}\n",
    "assert remainder(**my_kwargs) == 6"
   ]
  },
  {
   "cell_type": "code",
   "execution_count": 10,
   "metadata": {},
   "outputs": [],
   "source": [
    "my_kwargs = {\n",
    " 'divisor': 7,\n",
    "}\n",
    "assert remainder(number=20, **my_kwargs) == 6"
   ]
  },
  {
   "cell_type": "code",
   "execution_count": 11,
   "metadata": {},
   "outputs": [],
   "source": [
    "my_kwargs = {\n",
    " 'number': 20,\n",
    "}\n",
    "other_kwargs = {\n",
    " 'divisor': 7,\n",
    "}\n",
    "assert remainder(**my_kwargs, **other_kwargs) == 6"
   ]
  },
  {
   "cell_type": "code",
   "execution_count": 12,
   "metadata": {},
   "outputs": [
    {
     "output_type": "stream",
     "name": "stdout",
     "text": [
      "alpha = 1.5\nbeta = 9\ngamma = 4\n"
     ]
    }
   ],
   "source": [
    "def print_parameters(**kwargs):\n",
    "    for key, value in kwargs.items():\n",
    "        print(f'{key} = {value}')\n",
    "print_parameters(alpha=1.5, beta=9, gamma=4)"
   ]
  },
  {
   "cell_type": "code",
   "execution_count": 13,
   "metadata": {},
   "outputs": [
    {
     "output_type": "stream",
     "name": "stdout",
     "text": [
      "0.167 kg per second\n"
     ]
    }
   ],
   "source": [
    "def flow_rate(weight_diff, time_diff):\n",
    "    return weight_diff / time_diff\n",
    "weight_diff = 0.5\n",
    "time_diff = 3\n",
    "flow = flow_rate(weight_diff, time_diff)\n",
    "print(f'{flow:.3} kg per second')"
   ]
  },
  {
   "cell_type": "code",
   "execution_count": 14,
   "metadata": {},
   "outputs": [],
   "source": [
    "def flow_rate(weight_diff, time_diff, period=1):\n",
    "    return (weight_diff / time_diff) * period\n",
    "\n",
    "flow_per_second = flow_rate(weight_diff, time_diff)\n",
    "flow_per_hour = flow_rate(weight_diff, time_diff, period=3600) \n"
   ]
  },
  {
   "cell_type": "code",
   "execution_count": 15,
   "metadata": {},
   "outputs": [],
   "source": [
    "def flow_rate(weight_diff, time_diff, period=1, units_per_kg=1):\n",
    "    return ((weight_diff * units_per_kg) / time_diff) * period"
   ]
  },
  {
   "source": [
    "## \\[Item 24\\] Use None and Docstrings to Specify Dynamic Default Arguments"
   ],
   "cell_type": "markdown",
   "metadata": {}
  },
  {
   "cell_type": "code",
   "execution_count": 16,
   "metadata": {},
   "outputs": [
    {
     "output_type": "stream",
     "name": "stdout",
     "text": [
      "2021-04-27 16:54:48.117401: Hi there!\n2021-04-27 16:54:48.117401: Hello again!\n"
     ]
    }
   ],
   "source": [
    "from time import sleep\n",
    "from datetime import datetime\n",
    "def log(message, when=datetime.now()): # when is not a static value\n",
    "    print(f'{when}: {message}')\n",
    "log('Hi there!')\n",
    "sleep(0.1)\n",
    "log('Hello again!')"
   ]
  },
  {
   "cell_type": "code",
   "execution_count": 20,
   "metadata": {},
   "outputs": [
    {
     "output_type": "stream",
     "name": "stdout",
     "text": [
      "2021-04-27 16:56:04.682770: Hi there!\n2021-04-27 16:56:04.783635: Hello again!\n"
     ]
    }
   ],
   "source": [
    "def log(message, when=None):\n",
    "    \"\"\"Log a message with a timestamp.\n",
    "    Args:\n",
    "    message: Message to print.\n",
    "    when: datetime of when the message occurred.\n",
    "    Defaults to the present time.\n",
    "    \"\"\"\n",
    "    if when is None:\n",
    "        when = datetime.now()\n",
    "    print(f'{when}: {message}')\n",
    "log('Hi there!')\n",
    "sleep(0.1)\n",
    "log('Hello again!')"
   ]
  },
  {
   "cell_type": "code",
   "execution_count": 21,
   "metadata": {},
   "outputs": [
    {
     "output_type": "stream",
     "name": "stdout",
     "text": [
      "Foo: {'stuff': 5, 'meep': 1}\nBar: {'stuff': 5, 'meep': 1}\n"
     ]
    }
   ],
   "source": [
    "import json\n",
    "def decode(data, default={}):\n",
    "    try:\n",
    "        return json.loads(data)\n",
    "    except ValueError:\n",
    "        return default\n",
    "foo = decode('bad data')\n",
    "foo['stuff'] = 5\n",
    "bar = decode('also bad')\n",
    "bar['meep'] = 1\n",
    "print('Foo:', foo)\n",
    "print('Bar:', bar)\n",
    "assert foo is bar # \n"
   ]
  },
  {
   "cell_type": "code",
   "execution_count": null,
   "metadata": {},
   "outputs": [],
   "source": [
    "def decode(data, default=None):\n",
    "    \"\"\"Load JSON data from a string.\n",
    "    Args:\n",
    "    data: JSON data to decode.\n",
    "    default: Value to return if decoding fails.\n",
    "    Defaults to an empty dictionary.\n",
    "    \"\"\"\n",
    "    try:\n",
    "        return json.loads(data)\n",
    "\n",
    "foo = decode('bad data')\n",
    "foo['stuff'] = 5\n",
    "bar = decode('also bad')\n",
    "bar['meep'] = 1\n",
    "print('Foo:', foo)\n",
    "print('Bar:', bar)\n",
    "assert foo is not bar"
   ]
  },
  {
   "cell_type": "code",
   "execution_count": 25,
   "metadata": {},
   "outputs": [],
   "source": [
    "from typing import Optional\n",
    "def log_typed(message: str, when: Optional[datetime]=None) -> None:\n",
    "    \"\"\"Log a message with a timestamp.\n",
    "    Args:\n",
    "    message: Message to print.\n",
    "    when: datetime of when the message occurred.\n",
    "    Defaults to the present time.\n",
    "    \"\"\"\n",
    "    if when is None:\n",
    "        when = datetime.now()\n",
    "    print(f'{when}: {message}')"
   ]
  },
  {
   "source": [
    "## \\[Item 25\\] Enforce Clarity with KeywordOnly and Positional-Only Arguments"
   ],
   "cell_type": "markdown",
   "metadata": {}
  },
  {
   "cell_type": "code",
   "execution_count": 27,
   "metadata": {},
   "outputs": [
    {
     "output_type": "stream",
     "name": "stdout",
     "text": [
      "0\ninf\n"
     ]
    }
   ],
   "source": [
    "def safe_division(number, divisor, ignore_overflow, ignore_zero_division):\n",
    "    try:\n",
    "        return number / divisor\n",
    "    except OverflowError:\n",
    "        if ignore_overflow:\n",
    "            return 0\n",
    "        else:\n",
    "            raise\n",
    "    except ZeroDivisionError:\n",
    "        if ignore_zero_division:\n",
    "            return float('inf')\n",
    "        else:\n",
    "            raise\n",
    "result = safe_division(1.0, 10**500, True, False)\n",
    "print(result)\n",
    "result = safe_division(1.0, 0.0, False, True)\n",
    "print(result)"
   ]
  },
  {
   "cell_type": "code",
   "execution_count": 28,
   "metadata": {},
   "outputs": [
    {
     "output_type": "stream",
     "name": "stdout",
     "text": [
      "0\ninf\n"
     ]
    }
   ],
   "source": [
    "def safe_division(number, divisor, ignore_overflow=False, ignore_zero_division=False):\n",
    "    try:\n",
    "        return number / divisor\n",
    "    except OverflowError:\n",
    "        if ignore_overflow:\n",
    "            return 0\n",
    "        else:\n",
    "            raise\n",
    "    except ZeroDivisionError:\n",
    "        if ignore_zero_division:\n",
    "            return float('inf')\n",
    "        else:\n",
    "            raise\n",
    "result = safe_division(1.0, 10**500, ignore_overflow=True)\n",
    "print(result)\n",
    "result = safe_division(1.0, 0.0, ignore_zero_division=True)\n",
    "print(result)"
   ]
  }
 ]
}