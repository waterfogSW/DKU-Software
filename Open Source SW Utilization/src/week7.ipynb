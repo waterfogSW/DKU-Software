{
 "metadata": {
  "language_info": {
   "codemirror_mode": {
    "name": "ipython",
    "version": 3
   },
   "file_extension": ".py",
   "mimetype": "text/x-python",
   "name": "python",
   "nbconvert_exporter": "python",
   "pygments_lexer": "ipython3",
   "version": "3.8.5-final"
  },
  "orig_nbformat": 2,
  "kernelspec": {
   "name": "python385jvsc74a57bd0916dbcbb3f70747c44a77c7bcd40155683ae19c65e1c03b4aa3499c5328201f1",
   "display_name": "Python 3.8.5 64-bit"
  },
  "metadata": {
   "interpreter": {
    "hash": "916dbcbb3f70747c44a77c7bcd40155683ae19c65e1c03b4aa3499c5328201f1"
   }
  }
 },
 "nbformat": 4,
 "nbformat_minor": 2,
 "cells": [
  {
   "source": [
    "## \\[Item 16\\] Prefer get over in and KeyError to Handle Missing Dictionary Keys"
   ],
   "cell_type": "markdown",
   "metadata": {}
  },
  {
   "cell_type": "code",
   "execution_count": 2,
   "metadata": {},
   "outputs": [],
   "source": [
    "counters = {\n",
    "    'pumpernickel': 2,\n",
    "    'sourdough': 1,\n",
    "}\n",
    "key = 'wheat'\n",
    "if key in counters: # How about \"if key not in counters\"?\n",
    "    counter = counters[key]\n",
    "else:\n",
    "    counter = 0\n",
    "    counters[key] = counter + 1"
   ]
  },
  {
   "cell_type": "code",
   "execution_count": null,
   "metadata": {},
   "outputs": [],
   "source": []
  },
  {
   "cell_type": "code",
   "execution_count": null,
   "metadata": {},
   "outputs": [],
   "source": []
  },
  {
   "source": [
    "## \\[Item 17\\] Prefer defaultdict over setdefault to Handle Missing Items in Internal State"
   ],
   "cell_type": "markdown",
   "metadata": {}
  },
  {
   "cell_type": "code",
   "execution_count": 2,
   "metadata": {},
   "outputs": [
    {
     "output_type": "stream",
     "name": "stdout",
     "text": [
      "{'Mexico': {'Puerto Vallarta', 'Tulum'}, 'Japan': {'Hakone'}, 'France': {'Arles'}}\n"
     ]
    }
   ],
   "source": [
    "visits = {\n",
    "    'Mexico': {'Tulum', 'Puerto Vallarta'},\n",
    "    'Japan': {'Hakone'},\n",
    "}\n",
    "visits.setdefault('France', set()).add('Arles') # short\n",
    "print(visits)"
   ]
  },
  {
   "cell_type": "code",
   "execution_count": 4,
   "metadata": {},
   "outputs": [
    {
     "output_type": "stream",
     "name": "stdout",
     "text": [
      "{'Mexico': {'Puerto Vallarta', 'Tulum'}, 'Japan': {'Hakone'}, 'France': {'Arles'}}\n"
     ]
    }
   ],
   "source": [
    "if japan := visits.get('Japan') is None: # long\n",
    "    visits['Japan'] = japan = set()\n",
    "    japan.add('Kyoto')\n",
    "print(visits)"
   ]
  },
  {
   "cell_type": "code",
   "execution_count": 5,
   "metadata": {},
   "outputs": [
    {
     "output_type": "stream",
     "name": "stdout",
     "text": [
      "{'France': {'Arles'},\n 'Japan': {'Hakone', 'Kyoto'},\n 'Mexico': {'Puerto Vallarta', 'Tulum'}}\n"
     ]
    }
   ],
   "source": [
    "from pprint import pprint\n",
    "visits = {\n",
    "    'Mexico': {'Tulum', 'Puerto Vallarta'},\n",
    "    'Japan': {'Hakone'},\n",
    "}\n",
    "visits.setdefault('France', set()).add('Arles') # Short\n",
    "if (japan := visits.get('Japan')) is None: # Long\n",
    "    visits['Japan'] = japan = set()\n",
    "japan.add('Kyoto')\n",
    "original_print = print\n",
    "print = pprint\n",
    "print(visits)\n",
    "print = original_print"
   ]
  }
 ]
}