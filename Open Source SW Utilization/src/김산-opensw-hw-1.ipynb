{
 "metadata": {
  "language_info": {
   "codemirror_mode": {
    "name": "ipython",
    "version": 3
   },
   "file_extension": ".py",
   "mimetype": "text/x-python",
   "name": "python",
   "nbconvert_exporter": "python",
   "pygments_lexer": "ipython3",
   "version": "3.8.5-final"
  },
  "orig_nbformat": 2,
  "kernelspec": {
   "name": "python385jvsc74a57bd0916dbcbb3f70747c44a77c7bcd40155683ae19c65e1c03b4aa3499c5328201f1",
   "display_name": "Python 3.8.5 64-bit"
  },
  "metadata": {
   "interpreter": {
    "hash": "916dbcbb3f70747c44a77c7bcd40155683ae19c65e1c03b4aa3499c5328201f1"
   }
  }
 },
 "nbformat": 4,
 "nbformat_minor": 2,
 "cells": [
  {
   "source": [
    "# \\[오픈소스SW 활용\\] HW-1\n",
    "\n",
    "오픈소스SW 활용 3분반, 32170578, 김산"
   ],
   "cell_type": "markdown",
   "metadata": {}
  },
  {
   "cell_type": "code",
   "execution_count": 1,
   "metadata": {},
   "outputs": [
    {
     "output_type": "stream",
     "name": "stdout",
     "text": [
      "The Zen of Python, by Tim Peters\n\nBeautiful is better than ugly.\nExplicit is better than implicit.\nSimple is better than complex.\nComplex is better than complicated.\nFlat is better than nested.\nSparse is better than dense.\nReadability counts.\nSpecial cases aren't special enough to break the rules.\nAlthough practicality beats purity.\nErrors should never pass silently.\nUnless explicitly silenced.\nIn the face of ambiguity, refuse the temptation to guess.\nThere should be one-- and preferably only one --obvious way to do it.\nAlthough that way may not be obvious at first unless you're Dutch.\nNow is better than never.\nAlthough never is often better than *right* now.\nIf the implementation is hard to explain, it's a bad idea.\nIf the implementation is easy to explain, it may be a good idea.\nNamespaces are one honking great idea -- let's do more of those!\n"
     ]
    }
   ],
   "source": [
    "import this"
   ]
  },
  {
   "source": [
    "## \\[Item 1\\] Know which version of Python you're using"
   ],
   "cell_type": "markdown",
   "metadata": {}
  },
  {
   "cell_type": "code",
   "execution_count": 2,
   "metadata": {},
   "outputs": [
    {
     "output_type": "stream",
     "name": "stdout",
     "text": [
      "sys.version_info(major=3, minor=8, micro=5, releaselevel='final', serial=0)\n3.8.5 (default, Jan 27 2021, 15:41:15) \n[GCC 9.3.0]\n"
     ]
    }
   ],
   "source": [
    "import sys\n",
    "print(sys.version_info)\n",
    "print(sys.version)"
   ]
  },
  {
   "source": [
    "print(sys.version)을 통해 현재 사용중인 파이썬 버전을 확인 할 수 있습니다.\n",
    "\n",
    "이러한 기능은 python버전에 따른 호환성을 고려해 개발해야 할때 유용할 것 같습니다.\n"
   ],
   "cell_type": "markdown",
   "metadata": {}
  },
  {
   "source": [
    "## \\[Item 2\\] Follow the PEP8 style guide as possible as you can\n",
    "\n",
    "### Whitespace\n",
    "\n",
    "파이썬에서는 인덴트로 탭보다는 4개의 스페이스를 권고합니다.\n",
    "\n",
    "현재 제가 사용중인 VScode라는 IDE에서는 각 언어마다 인덴트방식을 맞춰주는 기능을 제공하고 있어서 파이썬을 사용할 때에도 탭을 누르면 4개의 스페이스를 만들어주기때문에 크게 신경쓰지 않았지만 한번더 염두에 둘 수 있었습니다.\n",
    "\n",
    "### type annotation\n",
    "\n",
    "return 값에 대해서는 type annotation을 해주는 편이 좋고, 이외 타입을 꼭 지정해주어야 하는 값들에 대해서 type annotation을 하는것이 좋을것 같다는 생각이 들었습니다. 매번 type annotation을 하는것은 빠른 속도로 구현할 수 있다는 파이썬의 강점을 살리지 못할것 같다는 생각에서 입니다.\n",
    "\n",
    "2017년쯤에 Leetcode라는 알고리즘 문제를 푸는 사이트에서 파이썬으로 문제를 푼 기억이 있는데 당시에는 python문제에 type annotation을 지정해 주지않았지만, 18년부터는 문제를 제시할때 type annotation을 해놓아서 typeannotation에 대해 조금 찾아본 기억이 있습니다.\n",
    "\n",
    "Leetcode(알고리즘 문제사이트)의 문제 예시입니다.\n",
    "```python\n",
    "class Solution:\n",
    "    def addTwoNumbers(self, l1: ListNode, l2: ListNode) -> ListNode:\n",
    "```"
   ],
   "cell_type": "markdown",
   "metadata": {}
  },
  {
   "source": [
    "pi : float = 3.142\n",
    "def circumference(radius : float) -> float :\n",
    "    return 2 * pi * radius\n",
    "print(circumference(3))"
   ],
   "cell_type": "code",
   "metadata": {},
   "execution_count": 3,
   "outputs": [
    {
     "output_type": "stream",
     "name": "stdout",
     "text": [
      "18.852\n"
     ]
    }
   ]
  },
  {
   "source": [
    "### Naming\n",
    "\n",
    "- 함수, 변수, 인자는 소문자로작성\n",
    "- 파이썬의 경우 자바, C++등과 달리 접근제어자가 언더스코어(_)를 통해 암묵적으로 존재합니다.\n",
    "  - Public 메소드는 언더스코어 없이 시작합니다\n",
    "  - Protected 메소드는 한개의 언더스코어로 시작합니다\n",
    "  - Private 메소드는 두개의 언더스코어로 시작합니다\n"
   ],
   "cell_type": "markdown",
   "metadata": {}
  },
  {
   "source": [
    "## \\[Item 3\\] Know the differences between\n",
    "\n",
    "### String vs Bytes\n",
    "\n",
    "\n",
    "\n"
   ],
   "cell_type": "markdown",
   "metadata": {}
  },
  {
   "cell_type": "code",
   "execution_count": 8,
   "metadata": {},
   "outputs": [
    {
     "output_type": "stream",
     "name": "stdout",
     "text": [
      "[104, 101, 108, 108, 111]\nb'hello'\n"
     ]
    },
    {
     "output_type": "execute_result",
     "data": {
      "text/plain": [
       "bytes"
      ]
     },
     "metadata": {},
     "execution_count": 8
    }
   ],
   "source": [
    "a = b'h\\x65llo'\n",
    "print(list(a))\n",
    "print(a)\n",
    "type(a)"
   ]
  },
  {
   "cell_type": "code",
   "execution_count": 9,
   "metadata": {},
   "outputs": [
    {
     "output_type": "stream",
     "name": "stdout",
     "text": [
      "['a', '̀', ' ', 'p', 'r', 'o', 'p', 'o', 's']\nà propos\n"
     ]
    },
    {
     "output_type": "execute_result",
     "data": {
      "text/plain": [
       "str"
      ]
     },
     "metadata": {},
     "execution_count": 9
    }
   ],
   "source": [
    "a = 'a\\u0300 propos'\n",
    "print(list(a))\n",
    "print(a)\n",
    "type(a)"
   ]
  },
  {
   "source": [
    "- byte 문자열의 경우 앞첨자에 `b`,\n",
    "- string 문자열의 경우 앞첨자가 없는것을 확인 할 수 있었습니다."
   ],
   "cell_type": "markdown",
   "metadata": {}
  },
  {
   "cell_type": "code",
   "execution_count": 7,
   "metadata": {},
   "outputs": [
    {
     "output_type": "stream",
     "name": "stdout",
     "text": [
      "'foo'\n'bar'\n"
     ]
    }
   ],
   "source": [
    "def to_string(bytes_or_str):\n",
    "    if isinstance(bytes_or_str, bytes):\n",
    "        value = bytes_or_str.decode('utf-8')\n",
    "    else:\n",
    "        value = bytes_or_str\n",
    "    return value\n",
    "print(repr(to_string(b'foo')))\n",
    "print(repr(to_string('bar')))"
   ]
  },
  {
   "cell_type": "code",
   "execution_count": 15,
   "metadata": {},
   "outputs": [
    {
     "output_type": "stream",
     "name": "stdout",
     "text": [
      "b'\\xff\\xfef\\x00o\\x00o\\x00' <class 'bytes'>\nfoo <class 'str'>\n"
     ]
    }
   ],
   "source": [
    "string_byte = 'foo'.encode('utf-16')\n",
    "string_utf = string_byte.decode('utf-16')\n",
    "\n",
    "print(string_byte,type(string_byte))\n",
    "print(string_utf,type(string_utf))\n"
   ]
  },
  {
   "source": [
    "`encode`와 `decode()`함수를 통해 문자열type을 utf에서 바이트로, 바이트에서 utf로 바꿔줄수 있습니다"
   ],
   "cell_type": "markdown",
   "metadata": {}
  },
  {
   "cell_type": "code",
   "execution_count": 8,
   "metadata": {},
   "outputs": [
    {
     "output_type": "error",
     "ename": "NameError",
     "evalue": "name 'to_str' is not defined",
     "traceback": [
      "\u001b[0;31m---------------------------------------------------------------------------\u001b[0m",
      "\u001b[0;31mNameError\u001b[0m                                 Traceback (most recent call last)",
      "\u001b[0;32m<ipython-input-8-68c2b62fd34c>\u001b[0m in \u001b[0;36m<module>\u001b[0;34m\u001b[0m\n\u001b[1;32m      5\u001b[0m         \u001b[0mvalue\u001b[0m \u001b[0;34m=\u001b[0m \u001b[0mbytes_or_str\u001b[0m\u001b[0;34m\u001b[0m\u001b[0;34m\u001b[0m\u001b[0m\n\u001b[1;32m      6\u001b[0m     \u001b[0;32mreturn\u001b[0m \u001b[0mvalue\u001b[0m \u001b[0;31m# instance of bytes\u001b[0m\u001b[0;34m\u001b[0m\u001b[0;34m\u001b[0m\u001b[0m\n\u001b[0;32m----> 7\u001b[0;31m \u001b[0mprint\u001b[0m\u001b[0;34m(\u001b[0m\u001b[0mrepr\u001b[0m\u001b[0;34m(\u001b[0m\u001b[0mto_str\u001b[0m\u001b[0;34m(\u001b[0m\u001b[0;34mb'foo'\u001b[0m\u001b[0;34m)\u001b[0m\u001b[0;34m)\u001b[0m\u001b[0;34m)\u001b[0m\u001b[0;34m\u001b[0m\u001b[0;34m\u001b[0m\u001b[0m\n\u001b[0m\u001b[1;32m      8\u001b[0m \u001b[0mprint\u001b[0m\u001b[0;34m(\u001b[0m\u001b[0mrepr\u001b[0m\u001b[0;34m(\u001b[0m\u001b[0mto_str\u001b[0m\u001b[0;34m(\u001b[0m\u001b[0;34m'bar'\u001b[0m\u001b[0;34m)\u001b[0m\u001b[0;34m)\u001b[0m\u001b[0;34m)\u001b[0m\u001b[0;34m\u001b[0m\u001b[0;34m\u001b[0m\u001b[0m\n",
      "\u001b[0;31mNameError\u001b[0m: name 'to_str' is not defined"
     ]
    }
   ],
   "source": [
    "def to_bytes(bytes_or_str):\r\n",
    "    if isinstance(bytes_or_str, str):\r\n",
    "        value = bytes_or_str.encode('utf-8')\r\n",
    "    else:\r\n",
    "        value = bytes_or_str\r\n",
    "    return value # instance of bytes\r\n",
    "\r\n",
    "print(repr(to_str(b'foo')))\r\n",
    "print(repr(to_str('bar')))"
   ]
  },
  {
   "cell_type": "code",
   "execution_count": 9,
   "metadata": {},
   "outputs": [
    {
     "output_type": "error",
     "ename": "TypeError",
     "evalue": "can only concatenate str (not \"bytes\") to str",
     "traceback": [
      "\u001b[0;31m---------------------------------------------------------------------------\u001b[0m",
      "\u001b[0;31mTypeError\u001b[0m                                 Traceback (most recent call last)",
      "\u001b[0;32m<ipython-input-9-ed3075a28305>\u001b[0m in \u001b[0;36m<module>\u001b[0;34m\u001b[0m\n\u001b[0;32m----> 1\u001b[0;31m \u001b[0mprint\u001b[0m\u001b[0;34m(\u001b[0m\u001b[0;34m'one'\u001b[0m \u001b[0;34m+\u001b[0m \u001b[0;34mb'two'\u001b[0m\u001b[0;34m)\u001b[0m\u001b[0;34m\u001b[0m\u001b[0;34m\u001b[0m\u001b[0m\n\u001b[0m\u001b[1;32m      2\u001b[0m \u001b[0mprint\u001b[0m\u001b[0;34m(\u001b[0m\u001b[0;34m'one'\u001b[0m \u001b[0;34m+\u001b[0m \u001b[0;34m'two'\u001b[0m\u001b[0;34m)\u001b[0m\u001b[0;34m\u001b[0m\u001b[0;34m\u001b[0m\u001b[0m\n",
      "\u001b[0;31mTypeError\u001b[0m: can only concatenate str (not \"bytes\") to str"
     ]
    }
   ],
   "source": [
    "print('one' + b'two')\n",
    "print('one' + 'two')"
   ]
  },
  {
   "source": [
    "print(b'one' + two')\n",
    "assert b'red' > 'blue'"
   ],
   "cell_type": "code",
   "metadata": {},
   "execution_count": 10,
   "outputs": [
    {
     "output_type": "error",
     "ename": "SyntaxError",
     "evalue": "EOL while scanning string literal (<ipython-input-10-7297fa546f35>, line 1)",
     "traceback": [
      "\u001b[0;36m  File \u001b[0;32m\"<ipython-input-10-7297fa546f35>\"\u001b[0;36m, line \u001b[0;32m1\u001b[0m\n\u001b[0;31m    print(b'one' + two')\u001b[0m\n\u001b[0m                        ^\u001b[0m\n\u001b[0;31mSyntaxError\u001b[0m\u001b[0;31m:\u001b[0m EOL while scanning string literal\n"
     ]
    }
   ]
  },
  {
   "source": [
    "- Byte 자료형과 String자료형은 서로 호환되지 않기 때문에 유의해서 사용해야 합니다\n",
    "  - `TypeError: '>' not supported between instances of 'bytes' and 'str'`"
   ],
   "cell_type": "markdown",
   "metadata": {}
  },
  {
   "cell_type": "code",
   "execution_count": 12,
   "metadata": {},
   "outputs": [
    {
     "output_type": "error",
     "ename": "TypeError",
     "evalue": "write() argument must be str, not bytes",
     "traceback": [
      "\u001b[0;31m---------------------------------------------------------------------------\u001b[0m",
      "\u001b[0;31mTypeError\u001b[0m                                 Traceback (most recent call last)",
      "\u001b[0;32m<ipython-input-12-5a914683f216>\u001b[0m in \u001b[0;36m<module>\u001b[0;34m\u001b[0m\n\u001b[1;32m      1\u001b[0m \u001b[0;32mwith\u001b[0m \u001b[0mopen\u001b[0m\u001b[0;34m(\u001b[0m\u001b[0;34m'data.bin'\u001b[0m\u001b[0;34m,\u001b[0m\u001b[0;34m'w'\u001b[0m\u001b[0;34m)\u001b[0m \u001b[0;32mas\u001b[0m \u001b[0mf\u001b[0m\u001b[0;34m:\u001b[0m \u001b[0;31m# should be 'wb'\u001b[0m\u001b[0;34m\u001b[0m\u001b[0;34m\u001b[0m\u001b[0m\n\u001b[0;32m----> 2\u001b[0;31m     \u001b[0mf\u001b[0m\u001b[0;34m.\u001b[0m\u001b[0mwrite\u001b[0m\u001b[0;34m(\u001b[0m\u001b[0;34mb'\\xf1\\xf2\\xf3\\xf4\\xf5'\u001b[0m\u001b[0;34m)\u001b[0m\u001b[0;34m\u001b[0m\u001b[0;34m\u001b[0m\u001b[0m\n\u001b[0m",
      "\u001b[0;31mTypeError\u001b[0m: write() argument must be str, not bytes"
     ]
    }
   ],
   "source": [
    "with open('data.bin','w') as f: # should be 'wb'\n",
    "    f.write(b'\\xf1\\xf2\\xf3\\xf4\\xf5')"
   ]
  },
  {
   "source": [
    "- byte형태의 문자를 작성하려고 할때 `open()`시 r기본적으로 `str`을 사용하기 때문에 에러가 발생합니다\n",
    "- 따라서 open 옵션에 'b'가 아니라 'wb'를 사용해야 오류가 나지 않습니다"
   ],
   "cell_type": "markdown",
   "metadata": {}
  },
  {
   "cell_type": "code",
   "execution_count": 13,
   "metadata": {},
   "outputs": [],
   "source": [
    "with open('data.bin','r') as f: # should be 'rb'\n",
    "    data = f.read()"
   ]
  },
  {
   "source": [
    "- 파일 입출력에서도 `str`과 `byte`를 구분하여 `open()`함수의 두번째 인자를 설정해 주어야 합니다. \n",
    "\n",
    "원래 String과 Byte의 구분에 대해서 크게 고려하지 않았었는데 이부분을 배우면서 한번더 염두에 둘 수 있어서 좋았습니다."
   ],
   "cell_type": "markdown",
   "metadata": {}
  },
  {
   "source": [
    "## \\[Item 4\\] Prefer Interpolated F-Strings Over C-Style Format Strings and str.format\n"
   ],
   "cell_type": "markdown",
   "metadata": {}
  },
  {
   "cell_type": "code",
   "execution_count": 14,
   "metadata": {},
   "outputs": [
    {
     "output_type": "stream",
     "name": "stdout",
     "text": [
      "Binary is 187, hex is 3167\n"
     ]
    }
   ],
   "source": [
    "a = 0b10111011\n",
    "b = 0xc5f\n",
    "print('Binary is %d, hex is %d' % (a,b)) # Does this work?"
   ]
  },
  {
   "source": [
    "이러한 % 연산자를 이용한 C-style의 formatting에는 다음과 같은 단점이 있습니다.\n",
    "\n",
    "1. 타입 호환성을 고려해야한다\n",
    "2. 읽기 어렵다\n",
    "3. 같은 값에 대해서 여러번 formatter를 입력해야 한다\n",
    "4. 딕셔너리 사용시 장황해진다"
   ],
   "cell_type": "markdown",
   "metadata": {}
  },
  {
   "source": [
    "#### 1.타입 호환성을 고려해야한다"
   ],
   "cell_type": "markdown",
   "metadata": {}
  },
  {
   "cell_type": "code",
   "execution_count": 15,
   "metadata": {},
   "outputs": [
    {
     "output_type": "stream",
     "name": "stdout",
     "text": [
      "my_var     = 1.23\n"
     ]
    }
   ],
   "source": [
    "# Should keep type compatibility\n",
    "key = 'my_var'\n",
    "value = 1.234\n",
    "formatted = '%-10s = %.2f' % (key, value)\n",
    "print(formatted)"
   ]
  },
  {
   "source": [
    "#### 2. 읽기 어렵다"
   ],
   "cell_type": "markdown",
   "metadata": {}
  },
  {
   "cell_type": "code",
   "execution_count": 19,
   "metadata": {},
   "outputs": [
    {
     "output_type": "stream",
     "name": "stdout",
     "text": [
      "#0: avocados   = 1.25\n#1: bananas    = 2.50\n#2: cherries   = 15.00\n#1: Avocados   = 1.00\n#2: Bananas    = 2.00\n#3: Cherries   = 15.00\n"
     ]
    }
   ],
   "source": [
    "pantry = [ ('avocados', 1.25), ('bananas', 2.5), ('cherries', 15)]\n",
    "for i, (item, count) in enumerate(pantry):\n",
    "    print('#%d: %-10s = %.2f' % (i, item, count))\n",
    "# Difficult to read\n",
    "for i, (item, count) in enumerate(pantry):\n",
    "    print('#%d: %-10s = %.2f' % (i+1,item.title(),round(count)))"
   ]
  },
  {
   "source": [
    "#### 3.같은 값에 대해서 여러번 formatter를 입력해야 한다"
   ],
   "cell_type": "markdown",
   "metadata": {}
  },
  {
   "cell_type": "code",
   "execution_count": 20,
   "metadata": {},
   "outputs": [
    {
     "output_type": "stream",
     "name": "stdout",
     "text": [
      "Max loves food. See Max cook.\n"
     ]
    }
   ],
   "source": [
    "template = '%s loves food. See %s cook.'\n",
    "name = 'Max'\n",
    "formatted = template % (name, name) # duplicate name\n",
    "print(formatted)"
   ]
  },
  {
   "source": [
    "#### 4. 딕셔너리 사용시 코드가 장황해진다"
   ],
   "cell_type": "markdown",
   "metadata": {}
  },
  {
   "cell_type": "code",
   "execution_count": 21,
   "metadata": {},
   "outputs": [
    {
     "output_type": "stream",
     "name": "stdout",
     "text": [
      "Max loves food. See Max cook.\n"
     ]
    }
   ],
   "source": [
    "template = '%(name)s loves food. See %(name)s cook.'\n",
    "name = 'Max'\n",
    "formatted = template % {'name': name} # using a dictionary\n",
    "print(formatted)"
   ]
  },
  {
   "source": [
    "- 파이썬에서 C-style의 formatting이 가능한것을 처음 알았는데, 가독성도 떨어지고 코드의 길이가 너무 길어지는것 같아 자주 쓸 일은 없을것 같습니다.\n"
   ],
   "cell_type": "markdown",
   "metadata": {}
  },
  {
   "cell_type": "code",
   "execution_count": 23,
   "metadata": {},
   "outputs": [
    {
     "output_type": "stream",
     "name": "stdout",
     "text": [
      "1,234.57\n     my string      \nmy_var = 1.234\nmy_var     = 1.2\n1234.57%\n1.234 = my_var\n"
     ]
    }
   ],
   "source": [
    "a = 1234.5678\n",
    "formatted = format(a, ',.2f')\n",
    "print(formatted)\n",
    "\n",
    "b = 'my string'\n",
    "formatted = format(b, '^20s')\n",
    "print(formatted)\n",
    "\n",
    "key = 'my_var'\n",
    "value = 1.234\n",
    "formatted = '{} = {}'.format(key, value)\n",
    "print(formatted)\n",
    "\n",
    "formatted = '{:<10} = {:.2}'.format(key, value)\n",
    "print(formatted)\n",
    "\n",
    "print('%.2f%%' % a) # display %\n",
    "\n",
    "formatted = '{1} = {0}'.format(key, value) # using positional index\n",
    "print(formatted)"
   ]
  },
  {
   "source": [
    "파이썬으로는 알고리즘 문제를 주로 풀었습니다. 그래서인지 문자열을 출력할 일이 잘 없어서 `str.format`도 처음 접하게 되었는데 앞선 C-style에 비해 딕셔너리와 같은 이터레이터를 출력할 때 좀더 유리할 것 같습니다"
   ],
   "cell_type": "markdown",
   "metadata": {}
  },
  {
   "cell_type": "code",
   "execution_count": 17,
   "metadata": {},
   "outputs": [
    {
     "output_type": "stream",
     "name": "stdout",
     "text": [
      "align left       | done a     |\nalign      right | done     b |\nalign   center   | done   c   |\n"
     ]
    }
   ],
   "source": [
    "# 왼쪽 정렬\n",
    "s9 = 'align {0:<10} | done {1:<5} |'.format('left', 'a')\n",
    "print(s9)\n",
    " \n",
    " \n",
    "# 오른쪽 정렬\n",
    "s10 = 'align {0:>10} | done {1:>5} |'.format('right', 'b')\n",
    "print(s10)\n",
    " \n",
    " \n",
    "# 가운데 정렬\n",
    "s11 = 'align {0:^10} | done {1:^5} |'.format('center', 'c')\n",
    "print(s11)"
   ]
  },
  {
   "source": [
    "또 출력을 깔끔하게 정리해야 할때 위의 예시처럼 사용하면 보기 좋은 출력이 가능할 것 같습니다"
   ],
   "cell_type": "markdown",
   "metadata": {}
  },
  {
   "source": [
    "## \\[Item 5\\] Write Helper Functions Instead of Complex Expressions"
   ],
   "cell_type": "markdown",
   "metadata": {}
  },
  {
   "cell_type": "code",
   "execution_count": 36,
   "metadata": {},
   "outputs": [
    {
     "output_type": "stream",
     "name": "stdout",
     "text": [
      "{'red': ['5'], 'blue': ['0'], 'green': ['']}\n"
     ]
    }
   ],
   "source": [
    "from urllib.parse import parse_qs\n",
    "my_values = parse_qs('red=5&blue=0&green=', keep_blank_values=True)\n",
    "print(repr(my_values))"
   ]
  },
  {
   "source": [
    "- parse라이브러리 함수는 웹 크롤링이나 자연어 처리에 자주 사용했던 함수였습니다.\n",
    "  - 기존에 사용하던 C++에서는 이러한 부분을 직접 구현해 주었는데 python에서는 이러한 부분이 사전에 라이브러리 함수에 구현이 되어있어서 데이터 처리에 매우 유용한것 같습니다.\n",
    "\n",
    "parse_qs의 주역할은 토큰화입니다.\n",
    "\n",
    "- keep_blank_values=False -> 공백 제외\n",
    "  - {'red': \\['5'\\], 'blue': \\['0'\\]}\n",
    "- keep_blank_values=True -> 공백 포함\n",
    "  - {'red': \\['5'\\], 'blue': \\['0'\\], 'green': \\[''\\]}\n",
    " "
   ],
   "cell_type": "markdown",
   "metadata": {}
  },
  {
   "cell_type": "code",
   "execution_count": 37,
   "metadata": {},
   "outputs": [
    {
     "output_type": "stream",
     "name": "stdout",
     "text": [
      "Red: '5'\nblue: '0'\nGreen: 0\nOpacity: 0\n"
     ]
    }
   ],
   "source": [
    "# For query string 'red=5&blue=0&green='\n",
    "red = my_values.get('red', [''])[0] or 0\n",
    "blue = my_values.get('blue', [''])[0] or 0\n",
    "green = my_values.get('green', [''])[0] or 0\n",
    "opacity = my_values.get('opacity', [''])[0] or 0\n",
    "\n",
    "print(f'Red: {red!r}')\n",
    "print(f'blue: {blue!r}')\n",
    "print(f'Green: {green!r}')\n",
    "print(f'Opacity: {opacity!r}')"
   ]
  },
  {
   "cell_type": "code",
   "execution_count": 42,
   "metadata": {},
   "outputs": [
    {
     "output_type": "stream",
     "name": "stdout",
     "text": [
      "Red: 5\nblue: 0\nGreen: 0\nOpacity: 0\n"
     ]
    }
   ],
   "source": [
    "def get_first_int(values, key, default=0):\n",
    "    found = values.get(key, [''])\n",
    "    if found[0]:\n",
    "        return int(found[0])\n",
    "    return default\n",
    "\n",
    "red = get_first_int(my_values, 'red')\n",
    "blue = get_first_int(my_values, 'blue')\n",
    "green = get_first_int(my_values, 'green')\n",
    "opacity = get_first_int(my_values, 'opacity')\n",
    "\n",
    "print(f'Red: {red!r}')\n",
    "print(f'blue: {blue!r}')\n",
    "print(f'Green: {green!r}')\n",
    "print(f'Opacity: {opacity!r}')"
   ]
  },
  {
   "source": [
    "- 이부분은 모듈화의 좋은 예시였던것 같습니다. 자주 사용하고, 반복되는 코드는 함수로 정의해서 코드의 가독성을 올릴 수 있습니다."
   ],
   "cell_type": "markdown",
   "metadata": {}
  },
  {
   "cell_type": "code",
   "execution_count": 33,
   "metadata": {},
   "outputs": [
    {
     "output_type": "stream",
     "name": "stdout",
     "text": [
      "{'q': ['안녕'], 'oq': ['안녕'], 'aqs': ['chrome..69i57j0i433j0i131i433j0l4j69i60.2043j0j7'], 'sourceid': ['chrome'], 'ie': ['UTF-8']}\n"
     ]
    }
   ],
   "source": [
    "from urllib.parse import urlparse, parse_qs\n",
    "\n",
    "parts = urlparse('https://www.google.com/search?q=%EC%95%88%EB%85%95&oq=%EC%95%88%EB%85%95&aqs=chrome..69i57j0i433j0i131i433j0l4j69i60.2043j0j7&sourceid=chrome&ie=UTF-8')\n",
    "\n",
    "print(parse_qs(parts.query))"
   ]
  },
  {
   "source": [
    "구글에 '안녕'을 검색했을때 url입니다.\n",
    "- 이렇게 복잡한 문자열 형태로 이루어진 query string을 `parse_qs`를 사용하여 key에 대해 value들을 list로 묶어서 dictionary로 반환할 수 있습니다."
   ],
   "cell_type": "markdown",
   "metadata": {}
  },
  {
   "source": [
    "## \\[Item 6\\] Prefer Multiple Assignment Unpacking Over Indexing"
   ],
   "cell_type": "markdown",
   "metadata": {}
  },
  {
   "cell_type": "code",
   "execution_count": 43,
   "metadata": {},
   "outputs": [
    {
     "output_type": "stream",
     "name": "stdout",
     "text": [
      "(('chips', 140), ('popcorn', 80), ('nuts', 190))\n"
     ]
    }
   ],
   "source": [
    "snack_calories = {\n",
    "    'chips' : 140,\n",
    "    'popcorn' : 80,\n",
    "    'nuts' : 190,\n",
    "} ##imutable, ordered\n",
    "\n",
    "items = tuple(snack_calories.items()) ## tuple() -> dictionary 에서 tuple값으로 가져옴\n",
    "print(items)"
   ]
  },
  {
   "cell_type": "code",
   "execution_count": 44,
   "metadata": {},
   "outputs": [
    {
     "output_type": "stream",
     "name": "stdout",
     "text": [
      "('chips', 'popcorn', 'nuts')\n(140, 80, 190)\n"
     ]
    }
   ],
   "source": [
    "keys = tuple(snack_calories.keys())\n",
    "print(keys)\n",
    "\n",
    "values = tuple(snack_calories.values())\n",
    "print(values)"
   ]
  },
  {
   "cell_type": "code",
   "execution_count": 45,
   "metadata": {},
   "outputs": [
    {
     "output_type": "stream",
     "name": "stdout",
     "text": [
      "Peanut butter and Jelly\n"
     ]
    }
   ],
   "source": [
    "item = ('Peanut butter', 'Jelly')\n",
    "first, second = item #Unpacking - single assignmet\n",
    "print(first, 'and', second)"
   ]
  },
  {
   "cell_type": "code",
   "execution_count": 36,
   "metadata": {},
   "outputs": [
    {
     "output_type": "stream",
     "name": "stdout",
     "text": [
      "['arugula', 'bacon', 'crraots', 'pretzels']\n"
     ]
    }
   ],
   "source": [
    "def bubble_sort(a):\n",
    "    for _ in range(len(a)):\n",
    "        for i in range(1,len(a)):\n",
    "            if a[i] < a[i-1]:\n",
    "                a[i-1], a[i] = a[i], a[i-1] #Unpacking syntax\n",
    "names = ['pretzels','crraots','arugula','bacon']\n",
    "bubble_sort(names)\n",
    "print(names)"
   ]
  },
  {
   "cell_type": "code",
   "execution_count": 37,
   "metadata": {},
   "outputs": [
    {
     "output_type": "stream",
     "name": "stdout",
     "text": [
      "['Anecdot', 'Brown', 'airplane', 'lemon', 'ㄱ', 'ㄷ', 'ㄹ']\n"
     ]
    }
   ],
   "source": [
    "test_set = ['ㄱ','ㄷ','ㄹ','Anecdot','Brown','lemon','airplane']\n",
    "bubble_sort(test_set)\n",
    "print(test_set)"
   ]
  },
  {
   "source": [
    "- 문자열 비교연산은 아스키 코드값을 기준으로 이루어 지기 때문에 대문자, 소문자, 알파벳순으로 정렬이 되는것을 확인 할 수 있습니다."
   ],
   "cell_type": "markdown",
   "metadata": {}
  },
  {
   "cell_type": "code",
   "execution_count": 38,
   "metadata": {},
   "outputs": [],
   "source": [
    "def bubble_sort_low(a):\n",
    "    for _ in range(len(a)):\n",
    "        for i in range(1,len(a)):\n",
    "            if a[i].lower() < a[i-1].lower():\n",
    "                a[i-1], a[i] = a[i], a[i-1]"
   ]
  },
  {
   "cell_type": "code",
   "execution_count": 40,
   "metadata": {},
   "outputs": [
    {
     "output_type": "stream",
     "name": "stdout",
     "text": [
      "['airplane', 'Anecdot', 'Brown', 'lemon', 'ㄱ', 'ㄷ', 'ㄹ']\n"
     ]
    }
   ],
   "source": [
    "test_set = ['ㄱ','ㄷ','ㄹ','Anecdot','Brown','lemon','airplane']\n",
    "bubble_sort_low(test_set)\n",
    "print(test_set)"
   ]
  },
  {
   "source": [
    "- `lower()`함수를 통해 소문자화 한 후 비교한다면 대소문자에 관계없이 알파벳 순으로 정렬할 수 있습니다"
   ],
   "cell_type": "markdown",
   "metadata": {}
  },
  {
   "cell_type": "code",
   "execution_count": 47,
   "metadata": {},
   "outputs": [
    {
     "output_type": "stream",
     "name": "stdout",
     "text": [
      "#1: bacon has 350 calories\n#2: donut has 240 calories\n#3: muffin has 190 calories\n"
     ]
    }
   ],
   "source": [
    "snacks = [('bacon',350),('donut',240),('muffin',190)]\n",
    "for i in range(len(snacks)):\n",
    "    item = snacks[i]\n",
    "    name = item[0]\n",
    "    calories = item[1]\n",
    "    print(f'#{i+1}: {name} has {calories} calories')\n",
    "    "
   ]
  },
  {
   "cell_type": "code",
   "execution_count": 48,
   "metadata": {},
   "outputs": [
    {
     "output_type": "stream",
     "name": "stdout",
     "text": [
      "#1: bacon has 350 calories\n#2: donut has 240 calories\n#3: muffin has 190 calories\n"
     ]
    }
   ],
   "source": [
    "for rank, (name,calories) in enumerate(snacks,1): # 1 is a starting index\n",
    "    print(f'#{rank}: {name} has {calories} calories')"
   ]
  },
  {
   "source": [
    "- index보단 unpacking을 사용하는것이 더 간략하고 편리한 것 같습니다\n",
    "- enumerate함수를 통해 for문을 훨씬 간결하게 만들수 있었습니다.\n",
    "  - 저는 평소 C언어에 익숙해서인지 파이썬으로도 전자의 코드로 많이 사용했지만, 후자의 경우처럼 pythonic한 방식으로 코드를 작성하면 훨씬더 직관적으로 이해할 수 있는 간결한 코드로 작성할 수 있는것 같습니다."
   ],
   "cell_type": "markdown",
   "metadata": {}
  },
  {
   "source": [
    "## \\[Item 7\\] Prefer enumerate Over range"
   ],
   "cell_type": "markdown",
   "metadata": {}
  },
  {
   "cell_type": "code",
   "execution_count": 49,
   "metadata": {},
   "outputs": [
    {
     "output_type": "stream",
     "name": "stdout",
     "text": [
      "0b1001010100100101001010111100100\n"
     ]
    }
   ],
   "source": [
    "from random import randint\n",
    "random_bits = 0\n",
    "for i in range(32):\n",
    "    if randint(0, 1):\n",
    "        random_bits |= 1 << i\n",
    "print(bin(random_bits))"
   ]
  },
  {
   "source": [
    "보수는 음수를 표현하기 위해서 자주 사용됩니다. 보수 표현방식에는 두가지 방식이 있습니다.\n",
    "- one's complement\n",
    "- two's complement\n",
    "\n",
    "곱셈과 나눗셈\n",
    "- 비트연산자로 수행"
   ],
   "cell_type": "markdown",
   "metadata": {}
  },
  {
   "cell_type": "code",
   "execution_count": 51,
   "metadata": {},
   "outputs": [
    {
     "output_type": "stream",
     "name": "stdout",
     "text": [
      "vanilla is delicious\nchocolate is delicious\npecan is delicious\nstrawberry is delicious\n"
     ]
    }
   ],
   "source": [
    "flavor_list = ['vanilla', 'chocolate', 'pecan', 'strawberry']\n",
    "for flavor in flavor_list:\n",
    "    print(f'{flavor} is delicious')"
   ]
  },
  {
   "cell_type": "code",
   "execution_count": 52,
   "metadata": {},
   "outputs": [
    {
     "output_type": "stream",
     "name": "stdout",
     "text": [
      "1: vanilla\n2: chocolate\n3: pecan\n4: strawberry\n"
     ]
    }
   ],
   "source": [
    "for i in range(len(flavor_list)):\n",
    "    flavor = flavor_list[i]\n",
    "    print(f'{i+1}: {flavor}')"
   ]
  },
  {
   "source": [
    "- 두가지 방식 모두 list를 iterate하여 결과를 출력하지만, 가독성이 떨어집니다. 책에서는 clumsy하다 라고 표현하였습니다"
   ],
   "cell_type": "markdown",
   "metadata": {}
  },
  {
   "cell_type": "code",
   "execution_count": 54,
   "metadata": {},
   "outputs": [
    {
     "output_type": "stream",
     "name": "stdout",
     "text": [
      "(0, 'vanilla')\n(1, 'chocolate')\n"
     ]
    }
   ],
   "source": [
    "it = enumerate(flavor_list)\n",
    "print(next(it))\n",
    "print(next(it))"
   ]
  },
  {
   "cell_type": "code",
   "execution_count": 57,
   "metadata": {},
   "outputs": [
    {
     "output_type": "stream",
     "name": "stdout",
     "text": [
      "1: vanilla\n2: chocolate\n3: pecan\n4: strawberry\n"
     ]
    }
   ],
   "source": [
    "# Way 1\n",
    "for i, flavor in enumerate(flavor_list):\n",
    "    print(f'{i+1}: {flavor}')"
   ]
  },
  {
   "cell_type": "code",
   "execution_count": 58,
   "metadata": {},
   "outputs": [
    {
     "output_type": "stream",
     "name": "stdout",
     "text": [
      "1: vanilla\n2: chocolate\n3: pecan\n4: strawberry\n"
     ]
    }
   ],
   "source": [
    "# Way 2\n",
    "for i, flavor in enumerate(flavor_list, 1):\n",
    "    print(f'{i}: {flavor}')"
   ]
  },
  {
   "source": [
    "enumerate라는 wrapper function을 이용한 출력예시입니다.\n",
    "  - Dummy 가 없어서 코드를 이해하기 좋고\n",
    "  - pythonic way에서는 loop보다 enumerate를 선호한다고 합니다"
   ],
   "cell_type": "markdown",
   "metadata": {}
  },
  {
   "source": [
    "## \\[Item 8\\] : Use zip to Process Iterators in Parallel"
   ],
   "cell_type": "markdown",
   "metadata": {}
  },
  {
   "cell_type": "code",
   "execution_count": 59,
   "metadata": {},
   "outputs": [
    {
     "output_type": "stream",
     "name": "stdout",
     "text": [
      "Cecilia\n"
     ]
    }
   ],
   "source": [
    "names = ['Cecilia', 'Lise','Marie']\n",
    "counts = [len(n) for n in names] # A derived list, List comprehensions\n",
    "\n",
    "max_count = 0\n",
    "longest_name = None\n",
    "for i in range(len(names)):\n",
    "    count = counts[i]\n",
    "    if count > max_count:\n",
    "        longest_name = names[i]\n",
    "        max_count = count\n",
    "print(longest_name)"
   ]
  },
  {
   "cell_type": "code",
   "execution_count": 61,
   "metadata": {},
   "outputs": [
    {
     "output_type": "stream",
     "name": "stdout",
     "text": [
      "Cecilia\n"
     ]
    }
   ],
   "source": [
    "max_count = 0\n",
    "longest_name = None\n",
    "for i, name in enumerate(names):\n",
    "    count = counts[i]\n",
    "    if count > max_count:\n",
    "        longest_name = name\n",
    "        max_count = count\n",
    "print(longest_name)"
   ]
  },
  {
   "source": [
    "- zip은 2개이상의 iterator을 하나의 element pair로 만들어 튜플형태로 반환합니다\n",
    "- lazy generator라 부르기도 합니다\n",
    "  - 앞선 enumerate를 이용한 코드에는 인덱스를 위한 추가적인 대입연산이 필요했는데 zip을 통해 하나의 요소를 만들수 있어서 좀더 코드를 간결하게 만들 수 있었던것 같습니다.\n",
    "  - 이와 비슷하게 C언어에서는 구조체를 따로 선언해서 구조체 배열로만든 뒤에야 이런식의 구현이 가능했는데 파이썬에서는 zip연산을 통해 그때그때 필요할때 사용할 수 있어서 편리한 것 같습니다."
   ],
   "cell_type": "markdown",
   "metadata": {}
  },
  {
   "cell_type": "code",
   "execution_count": 64,
   "metadata": {},
   "outputs": [
    {
     "output_type": "stream",
     "name": "stdout",
     "text": [
      "Cecilia\n"
     ]
    }
   ],
   "source": [
    "for name, count in zip(names, counts):\n",
    "    if count > max_count:\n",
    "        longest_name = name\n",
    "        max_count = count\n",
    "print(longest_name)"
   ]
  },
  {
   "cell_type": "code",
   "execution_count": 65,
   "metadata": {},
   "outputs": [
    {
     "output_type": "stream",
     "name": "stdout",
     "text": [
      "Cecilia\nLise\nMarie\n"
     ]
    }
   ],
   "source": [
    "names.append('Rosalind')\n",
    "for name, count in zip(names, counts):\n",
    "    print(name)"
   ]
  },
  {
   "source": [
    "- zip은 동일한 개수의 자료형을 묶어주는 역할을 합니다.\n",
    "- 어느 한쪽 이터레이터가 더 많을 경우 적은쪽의 이터레이터 기준으로 묶게 됩니다"
   ],
   "cell_type": "markdown",
   "metadata": {}
  },
  {
   "cell_type": "code",
   "execution_count": 78,
   "metadata": {},
   "outputs": [
    {
     "output_type": "stream",
     "name": "stdout",
     "text": [
      "1 : Cecilia , 7\n2 : Lise    , 4\n3 : Marie   , 5\n"
     ]
    }
   ],
   "source": [
    "std_num = [1,2,3]\n",
    "for num, name, count in zip(std_num, names, counts):\n",
    "    formatted = '{} : {:<7} , {}'.format(num,name,count)\n",
    "    print(formatted)"
   ]
  },
  {
   "source": [
    "- iterable한 자료형 여러개(3개이상)도 가능합니다"
   ],
   "cell_type": "markdown",
   "metadata": {}
  },
  {
   "cell_type": "code",
   "execution_count": 79,
   "metadata": {},
   "outputs": [
    {
     "output_type": "stream",
     "name": "stdout",
     "text": [
      "Cecilia: 7\nLise: 4\nMarie: 5\nRosalind: None\nRosalind: None\n"
     ]
    }
   ],
   "source": [
    "import itertools\n",
    "for name, count in itertools.zip_longest(names, counts):\n",
    "    print(f'{name}: {count}')"
   ]
  },
  {
   "source": [
    "- `zip_longest()`는 기존의 zip과 달리 긴 이터레이터를 기준으로 묶어줍니다.\n",
    "- 앞서 추가한 Rosalind는 count 값이 지정되어 있지 않기 때문에 `None`으로 처리합니다."
   ],
   "cell_type": "markdown",
   "metadata": {}
  },
  {
   "source": [
    "## \\[Item 9\\] : Avoid else Block after for and while Loops"
   ],
   "cell_type": "markdown",
   "metadata": {}
  },
  {
   "source": [
    "for나 while loop가 끝났을때 else구문을 실행할 수 있습니다."
   ],
   "cell_type": "markdown",
   "metadata": {}
  },
  {
   "cell_type": "code",
   "execution_count": 80,
   "metadata": {},
   "outputs": [
    {
     "output_type": "stream",
     "name": "stdout",
     "text": [
      "Loop 0\nLoop 1\nLoop 2\nElse block!\n"
     ]
    }
   ],
   "source": [
    "for i in range(3):\n",
    "    print('Loop', i)\n",
    "else:\n",
    "    print('Else block!')"
   ]
  },
  {
   "source": [
    "- try, except와 같은 예외처리와 사용법이 비슷한것 같습니다."
   ],
   "cell_type": "markdown",
   "metadata": {}
  },
  {
   "cell_type": "code",
   "execution_count": 81,
   "metadata": {},
   "outputs": [
    {
     "output_type": "stream",
     "name": "stdout",
     "text": [
      "Loop 0\nLoop 1\n"
     ]
    }
   ],
   "source": [
    "for i in range(3):\n",
    "    print('Loop', i)\n",
    "    if i == 1:\n",
    "        break\n",
    "else:\n",
    "    print('Else block!')"
   ]
  },
  {
   "cell_type": "code",
   "execution_count": 82,
   "metadata": {},
   "outputs": [
    {
     "output_type": "stream",
     "name": "stdout",
     "text": [
      "For Else block!\n"
     ]
    }
   ],
   "source": [
    "for x in []:\n",
    "    print('Never runs')\n",
    "else:\n",
    "    print('For Else block!')"
   ]
  },
  {
   "cell_type": "code",
   "execution_count": 83,
   "metadata": {},
   "outputs": [
    {
     "output_type": "stream",
     "name": "stdout",
     "text": [
      "while else block!\n"
     ]
    }
   ],
   "source": [
    "while False:\n",
    "    print(\"never runs\")\n",
    "else:\n",
    "    print(\"while else block!\")"
   ]
  },
  {
   "source": [
    "for이나 while문 뒤에 else가 올수있다는것에 조금 헷갈렸지만 조건문을 포함 하는 문장에 대해 else가 올수있다 라는 생각을 하니 좀더 이해가 편했습니다"
   ],
   "cell_type": "markdown",
   "metadata": {}
  },
  {
   "cell_type": "code",
   "execution_count": 84,
   "metadata": {},
   "outputs": [
    {
     "output_type": "stream",
     "name": "stdout",
     "text": [
      "Testing 2\nTesting 3\nTesting 4\nComprise\n"
     ]
    }
   ],
   "source": [
    "a = 4\n",
    "b = 9\n",
    "\n",
    "for i in range(2, min(a,b) + 1):\n",
    "    print('Testing', i)\n",
    "    if a % i == 0 and b % i == 0:\n",
    "        print('Not coprime')\n",
    "        break\n",
    "else:\n",
    "    print('Comprise')\n"
   ]
  },
  {
   "cell_type": "code",
   "execution_count": 85,
   "metadata": {},
   "outputs": [],
   "source": [
    "# Way 1 returns the default outcome if I fall through the loop.\n",
    "def coprime(a, b):\n",
    "    for i in range(2, min(a, b) + 1):\n",
    "        if a % i == 0 and b % i == 0:\n",
    "            return False\n",
    "    return True\n",
    "assert coprime(4, 9)\n",
    "assert not coprime(3, 6)"
   ]
  },
  {
   "cell_type": "code",
   "execution_count": 87,
   "metadata": {},
   "outputs": [],
   "source": [
    "# Way 2 breaks out of the loop as soon as I find something.\n",
    "def coprime_alternate(a, b):\n",
    "    is_coprime = True\n",
    "    for i in range(2, min(a, b) + 1):\n",
    "        if a % i == 0 and b % i == 0:\n",
    "            is_coprime = False\n",
    "            break\n",
    "    return is_coprime\n",
    "assert coprime(4, 9)\n",
    "assert not coprime(3, 6)"
   ]
  },
  {
   "source": [
    "## Item 10 Prevent Repetition with Assignment Expressions\n",
    "\n",
    "### Issue 1 : multiple reference\n",
    "- a:=b \"a walrus b\" \n",
    "- code duplication을 줄이기 위해 사용합니다\n",
    "- := 모양이 코끼리(walrus)닮았다 해서 붙인 이름입니다"
   ],
   "cell_type": "markdown",
   "metadata": {}
  },
  {
   "cell_type": "code",
   "execution_count": 88,
   "metadata": {},
   "outputs": [
    {
     "output_type": "stream",
     "name": "stdout",
     "text": [
      "5\n"
     ]
    }
   ],
   "source": [
    "fresh_fruit = { 'apple': 10, 'banana': 8, 'lemon': 5}\n",
    "def make_lemonade(count):\n",
    "    print(count)\n",
    "def out_of_stock():\n",
    "    print('out_of_stock')\n",
    "def make_cider(count):\n",
    "    print(count)\n",
    "count = fresh_fruit.get('lemon', 0)\n",
    "if count: # Multiple references\n",
    "    make_lemonade(count)\n",
    "else:\n",
    "    out_of_stock()"
   ]
  },
  {
   "cell_type": "code",
   "execution_count": 89,
   "metadata": {},
   "outputs": [
    {
     "output_type": "stream",
     "name": "stdout",
     "text": [
      "5\n10\nout_of_stock\n"
     ]
    }
   ],
   "source": [
    "if count := fresh_fruit.get('lemon', 0): # using the walrus operator\n",
    "    make_lemonade(count)\n",
    "else:\n",
    "    out_of_stock()\n",
    "    \n",
    "if (count := fresh_fruit.get('apple', 0)) >= 4: # using the walrus operator\n",
    "    make_cider(count)\n",
    "else:\n",
    "    out_of_stock()\n",
    "if (count := fresh_fruit.get('strawberry', 0)) >= 4: # using the walrus operator\n",
    "    make_cider(count)\n",
    "else:\n",
    "    out_of_stock()"
   ]
  },
  {
   "source": [
    "개인적으로 walrus operation이 c언어에서 조건문안에 대입연산을 하는 것`if(pid = fork())`과 비슷하다고 느꼈습니다. "
   ],
   "cell_type": "markdown",
   "metadata": {}
  },
  {
   "source": [
    "### Issue 2 Repetitive pattern"
   ],
   "cell_type": "markdown",
   "metadata": {}
  },
  {
   "cell_type": "code",
   "execution_count": 95,
   "metadata": {},
   "outputs": [],
   "source": [
    "def slice_bananas(count):\n",
    "    ...\n",
    "class OutOfBananas(Exception):\n",
    "    pass\n",
    "def make_smoothies(count):\n",
    "    ...\n",
    "def slice_smoothies(count):\n",
    "    ...\n",
    "pieces = 0\n",
    "count = fresh_fruit.get('banana', 0)\n",
    "if count >= 2:\n",
    "    pieces = slice_bananas(count)\n",
    "\n",
    "try:\n",
    "    smoothies = make_smoothies(pieces)\n",
    "except OutOfBananas:\n",
    "    out_of_stock()"
   ]
  },
  {
   "cell_type": "code",
   "execution_count": 96,
   "metadata": {},
   "outputs": [
    {
     "output_type": "stream",
     "name": "stdout",
     "text": [
      "None\n"
     ]
    }
   ],
   "source": [
    "if (count := fresh_fruit.get('banana', 0)) >= 2:\n",
    "    pieces = slice_smoothies(count)\n",
    "else:\n",
    "    pieces = 0\n",
    "\n",
    "try:\n",
    "    smoothies = make_smoothies(pieces)\n",
    "except OutOfBananas:\n",
    "    out_of_stock()\n",
    "\n",
    "print(smoothies)"
   ]
  },
  {
   "source": [
    "- count와 관련한 연산이 조건문 내부로 들어가니 더 가독성이 좋은 코드가 된것 같습니다\n",
    "- 앞서 언급한 C언어의 사례처럼 저도 C언어에서 자주 사용하는 방식이기도 합니다"
   ],
   "cell_type": "markdown",
   "metadata": {}
  },
  {
   "source": [
    "### Issue 3 :  Simulate switch-case statement"
   ],
   "cell_type": "markdown",
   "metadata": {}
  },
  {
   "cell_type": "code",
   "execution_count": null,
   "metadata": {},
   "outputs": [],
   "source": [
    "count = fresh_fruit.get('banana', 0)\n",
    "if count >= 2:\n",
    "    pieces = slice_bananas(count)\n",
    "    to_enjoy = make_smoothies(pieces)\n",
    "else:\n",
    "    count = fresh_fruit.get('apple', 0)\n",
    "    if count >= 4:\n",
    "        to_enjoy = make_cider(count)\n",
    "    else:\n",
    "        count = fresh_fruit.get('lemon', 0)\n",
    "        if count:\n",
    "            to_enjoy = make_lemonade(count)\n",
    "        else:\n",
    "            to_enjoy = 'Nothing'"
   ]
  },
  {
   "cell_type": "code",
   "execution_count": null,
   "metadata": {},
   "outputs": [],
   "source": [
    "if (count := fresh_fruit.get('banana', 0)) >= 2:\n",
    "    pieces = slice_bananas(count)\n",
    "    to_enjoy = make_smoothies(pieces)\n",
    "elif (count := fresh_fruit.get('apple', 0)) >= 4:\n",
    "    to_enjoy = make_cider(count)\n",
    "elif count := fresh_fruit.get('lemon', 0):\n",
    "    to_enjoy = make_lemonade(count)\n",
    "else:\n",
    "    to_enjoy = 'Nothing'"
   ]
  },
  {
   "source": [
    "- 조금 예시가 극단적이긴 하지만, walrus operation을 가장 유용한 사례인것 같습니다.\n",
    "- 조건문이 여러단계로 늘어져 있으면 가독성이 많이 떨어집니다.\n",
    "- 자신의 코드를 통해 생각을 전달해야하는 오픈 소스에서는 특히나 이러한 부분들이 중요한 것 같습니다"
   ],
   "cell_type": "markdown",
   "metadata": {}
  },
  {
   "source": [
    "### Issue 4. Simulate do-while statments"
   ],
   "cell_type": "markdown",
   "metadata": {}
  },
  {
   "cell_type": "code",
   "execution_count": 98,
   "metadata": {},
   "outputs": [],
   "source": [
    "def pick_fruit():\n",
    " ...\n",
    "def make_juice(fruit, count):\n",
    " ...\n",
    "bottles = []\n",
    "fresh_fruit = pick_fruit()\n",
    "while fresh_fruit:\n",
    "    for fruit, count in fresh_fruit.items():\n",
    "        batch = make_juice(fruit, count)\n",
    "        bottles.extend(batch)\n",
    "        fresh_fruit = pick_fruit()"
   ]
  },
  {
   "cell_type": "code",
   "execution_count": 99,
   "metadata": {},
   "outputs": [],
   "source": [
    "bottles = []\n",
    "while True: # Loop\n",
    "    fresh_fruit = pick_fruit()\n",
    "    if not fresh_fruit: # And a half\n",
    "        break\n",
    "    for fruit, count in fresh_fruit.items():\n",
    "        batch = make_juice(fruit, count)\n",
    "        bottles.extend(batch)"
   ]
  },
  {
   "cell_type": "code",
   "execution_count": 101,
   "metadata": {},
   "outputs": [],
   "source": [
    "bottles = []\n",
    "while fresh_fruit := pick_fruit():\n",
    "    for fruit, count in fresh_fruit.items():\n",
    "        batch = make_juice(fruit, count)\n",
    "        bottles.extend(batch)"
   ]
  },
  {
   "source": [
    "이러한 walrus operation은 아래처럼 대화형 앱이나 소켓 관련 앱을 만들때에도 유용하게 사용할 수 있을 것 같습니다"
   ],
   "cell_type": "markdown",
   "metadata": {}
  },
  {
   "cell_type": "code",
   "execution_count": null,
   "metadata": {},
   "outputs": [],
   "source": [
    "while (command := input(\"> \")) != \"quit\":\n",
    "    print(f\"You entered: {command}\")\n",
    "\n",
    "\n",
    "while data := sock.recv(8192):\n",
    "    print(f\"Received data: {data}\")"
   ]
  },
  {
   "source": [
    "개발 모드와 운영 모드를 구분하기 위해서 애플리케이션이 돌아가는 환경의 환경변수를 사용해야 할 때가있는데, 이러한 환경변수는 코드 상에 저장하기가 난해합니다.\n",
    "\n",
    "이때 OS라이브러리의 `os.environ.get()`함수를 통해 환경변수를 가져올 수 있습니다."
   ],
   "cell_type": "markdown",
   "metadata": {}
  },
  {
   "cell_type": "code",
   "execution_count": 102,
   "metadata": {},
   "outputs": [
    {
     "output_type": "stream",
     "name": "stdout",
     "text": [
      "/home/san/.vscode-server/extensions/ms-toolsai.jupyter-2021.5.702919634/pythonFiles:/home/san/.vscode-server/extensions/ms-toolsai.jupyter-2021.5.702919634/pythonFiles/lib/python\n/home/san/.vscode-server/extensions/ms-toolsai.jupyter-2021.5.702919634/pythonFiles:/home/san/.vscode-server/extensions/ms-toolsai.jupyter-2021.5.702919634/pythonFiles/lib/python\n"
     ]
    }
   ],
   "source": [
    "import os\n",
    "# Way 1\n",
    "env_path = os.environ.get(\"PYTHONPATH\", None)\n",
    "if env_path:\n",
    "    print(env_path)\n",
    "# Way 2\n",
    "if env_path := os.environ.get(\"PYTHONPATH\", None):\n",
    "    print(env_path)"
   ]
  }
 ]
}