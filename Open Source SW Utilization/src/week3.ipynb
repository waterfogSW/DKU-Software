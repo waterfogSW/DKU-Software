{
 "metadata": {
  "language_info": {
   "codemirror_mode": {
    "name": "ipython",
    "version": 3
   },
   "file_extension": ".py",
   "mimetype": "text/x-python",
   "name": "python",
   "nbconvert_exporter": "python",
   "pygments_lexer": "ipython3",
   "version": "3.8.5-final"
  },
  "orig_nbformat": 2,
  "kernelspec": {
   "name": "python3",
   "display_name": "Python 3.8.5 64-bit",
   "metadata": {
    "interpreter": {
     "hash": "31f2aee4e71d21fbe5cf8b01ff0e069b9275f58929596ceb00d14d90e3e16cd6"
    }
   }
  }
 },
 "nbformat": 4,
 "nbformat_minor": 2,
 "cells": [
  {
   "source": [
    "# 3주차 강의 필기,32170578 김산"
   ],
   "cell_type": "markdown",
   "metadata": {}
  },
  {
   "source": [
    "## Item 5 : Old Style formatting using % operator"
   ],
   "cell_type": "markdown",
   "metadata": {}
  },
  {
   "cell_type": "code",
   "execution_count": 5,
   "metadata": {},
   "outputs": [
    {
     "output_type": "stream",
     "name": "stdout",
     "text": [
      "Binary is 187, hex is 3167\n"
     ]
    }
   ],
   "source": [
    "a = 0b10111011\n",
    "b = 0xc5f\n",
    "print('Binary is %d, hex is %d' % (a,b))"
   ]
  },
  {
   "source": [
    "데이터 타입을 맞춰줘야 한다"
   ],
   "cell_type": "markdown",
   "metadata": {}
  },
  {
   "source": [
    "key = 'my_var'\n",
    "value = 1.234\n",
    "formatted = '%-10s = %.2f' % (key,value)\n",
    "print(formatted)"
   ],
   "cell_type": "code",
   "metadata": {},
   "execution_count": 4,
   "outputs": [
    {
     "output_type": "stream",
     "name": "stdout",
     "text": [
      "my_var     = 1.23\n"
     ]
    }
   ]
  },
  {
   "source": [
    "-10s이면 leftmost, .2는 소숫점 2자리 까지"
   ],
   "cell_type": "markdown",
   "metadata": {}
  },
  {
   "cell_type": "code",
   "execution_count": 7,
   "metadata": {},
   "outputs": [
    {
     "output_type": "stream",
     "name": "stdout",
     "text": [
      "#0: avocados   = 1.25\n#1: bananas    = 2.50\n#2: cherries   = 15.00\n#1: Avocados   = 1.00\n#2: Bananas    = 2.00\n#3: Cherries   = 15.00\n"
     ]
    }
   ],
   "source": [
    "pantry = [ ('avocados', 1.25), ('bananas', 2.5), ('cherries', 15)]\n",
    "for i, (item, count) in enumerate(pantry):\n",
    "    print('#%d: %-10s = %.2f' % (i,item,count))\n",
    "\n",
    "# difficult to read\n",
    "for i, (item, count) in enumerate(pantry):\n",
    "    print('#%d: %-10s = %.2f' % (\n",
    "        i + 1,\n",
    "        item.title(),\n",
    "        round(count)))"
   ]
  },
  {
   "source": [
    "enumerate는 키, 값을 같이 출력"
   ],
   "cell_type": "markdown",
   "metadata": {}
  },
  {
   "cell_type": "code",
   "execution_count": 11,
   "metadata": {},
   "outputs": [
    {
     "output_type": "stream",
     "name": "stdout",
     "text": [
      "Max loves food. See Max cook.\n"
     ]
    }
   ],
   "source": [
    "template = '%s loves food. See %s cook.'\n",
    "name = 'Max'\n",
    "formatted = template % (name,name)\n",
    "print(formatted)"
   ]
  },
  {
   "cell_type": "code",
   "execution_count": 9,
   "metadata": {},
   "outputs": [
    {
     "output_type": "stream",
     "name": "stdout",
     "text": [
      "Max loves food. See Max cook.\n"
     ]
    }
   ],
   "source": [
    "template = '%(name)s loves food. See %(name)s cook.'\n",
    "name = 'Max'\n",
    "formatted = template % {'name':name}\n",
    "print(formatted)"
   ]
  },
  {
   "cell_type": "code",
   "execution_count": 12,
   "metadata": {},
   "outputs": [
    {
     "output_type": "stream",
     "name": "stdout",
     "text": [
      "Today's soup is lentil.\n"
     ]
    }
   ],
   "source": [
    "soup = 'lentil'\n",
    "formatted = 'Today\\'s soup is %(soup)s.' % {'soup':soup}\n",
    "print(formatted)"
   ]
  },
  {
   "cell_type": "code",
   "execution_count": 15,
   "metadata": {},
   "outputs": [
    {
     "output_type": "stream",
     "name": "stdout",
     "text": [
      "1,234.57\n     my string      \nmy var = 1.234\nmy var     = 1.2\n1234.57%\n1.234 = my var\n"
     ]
    }
   ],
   "source": [
    "a = 1234.5678\n",
    "formatted = format(a,',.2f')\n",
    "print(formatted)\n",
    "\n",
    "b = 'my string'\n",
    "formatted = format(b,'^20s')\n",
    "print(formatted)\n",
    "\n",
    "key = 'my var'\n",
    "value = 1.234\n",
    "formatted = '{} = {}'.format(key,value) #brace {} -> place holder\n",
    "print(formatted)\n",
    "\n",
    "formatted = '{:<10} = {:.2}'.format(key,value)\n",
    "print(formatted)\n",
    "\n",
    "print('%.2f%%' % a)\n",
    "\n",
    "formatted = '{1} = {0}'.format(key,value) # index를 통해 출력위치 교환\n",
    "print(formatted)"
   ]
  },
  {
   "source": [
    "문자열 출력에는 여러방법이 있다\n",
    "C - Style포멧 보다는 F-string format이 가독성이 더 좋은것 같다.\n",
    "더 간략한 표현을 할수 있는것 같음."
   ],
   "cell_type": "markdown",
   "metadata": {}
  },
  {
   "source": [
    "Item 5 Helper Function"
   ],
   "cell_type": "markdown",
   "metadata": {}
  },
  {
   "cell_type": "code",
   "execution_count": 25,
   "metadata": {},
   "outputs": [
    {
     "output_type": "stream",
     "name": "stdout",
     "text": [
      "{'red': ['5'], 'blue': ['0'], 'green': ['']}\n"
     ]
    }
   ],
   "source": [
    "from urllib.parse import parse_qs\n",
    "\n",
    "my_values = parse_qs('red=5&blue=0&green=', keep_blank_values=True)\n",
    "print(repr(my_values))"
   ]
  },
  {
   "source": [
    "parse_qs의 주역할은 토큰화\n",
    "\n",
    "- keep_blank_values=False -> 공백 제외\n",
    "  - {'red': ['5'], 'blue': ['0']}\n",
    "- keep_blank_values=True -> 공백 포함\n",
    "  - {'red': ['5'], 'blue': ['0'], 'green': ['']}"
   ],
   "cell_type": "markdown",
   "metadata": {}
  },
  {
   "cell_type": "code",
   "execution_count": 29,
   "metadata": {},
   "outputs": [
    {
     "output_type": "stream",
     "name": "stdout",
     "text": [
      "Red: '5'\nGreen: 0\nOpacity: 0\nr: 15\n"
     ]
    }
   ],
   "source": [
    "red = my_values.get('red', [''])[0] or 0\n",
    "green = my_values.get('green', [''])[0] or 0\n",
    "opacity = my_values.get('opacity', [''])[0] or 0 #if-else\n",
    "\n",
    "print(f'Red: {red!r}')\n",
    "print(f'Green: {green!r}')\n",
    "print(f'Opacity: {opacity!r}')"
   ]
  },
  {
   "source": [
    "helper function을 작성하여 출력하는것을 추천\n"
   ],
   "cell_type": "markdown",
   "metadata": {}
  },
  {
   "cell_type": "code",
   "execution_count": 32,
   "metadata": {},
   "outputs": [
    {
     "output_type": "stream",
     "name": "stdout",
     "text": [
      "Red: 5\nGreen: 0\nOpacity: 0\n"
     ]
    }
   ],
   "source": [
    "def get_first_int(values, key, default=0):\n",
    "    found = values.get(key,[''])\n",
    "\n",
    "    if found[0]:\n",
    "        return int(found[0])\n",
    "    return default\n",
    "\n",
    "green = get_first_int(my_values,'green')\n",
    "red = get_first_int(my_values,'red')\n",
    "opacity = get_first_int(my_values,'opacity')\n",
    "\n",
    "print(f'Red: {red!r}')\n",
    "print(f'Green: {green!r}')\n",
    "print(f'Opacity: {opacity!r}')"
   ]
  },
  {
   "source": [
    "DRY principle: Don't repeat yourself"
   ],
   "cell_type": "markdown",
   "metadata": {}
  },
  {
   "source": [
    "## Item 6 : Prefer Multiple Assignment Unpacking over Indexing"
   ],
   "cell_type": "markdown",
   "metadata": {}
  },
  {
   "cell_type": "code",
   "execution_count": 1,
   "metadata": {},
   "outputs": [
    {
     "output_type": "stream",
     "name": "stdout",
     "text": [
      "(('chips', 140), ('popcorn', 80), ('nuts', 190))\n"
     ]
    }
   ],
   "source": [
    "snack_calories = {\n",
    "    'chips' : 140,\n",
    "    'popcorn' : 80,\n",
    "    'nuts' : 190,\n",
    "} ##imutable, ordered\n",
    "\n",
    "items = tuple(snack_calories.items()) ## tuple() -> dictionary 에서 tuple값으로 가져옴\n",
    "print(items)"
   ]
  },
  {
   "cell_type": "code",
   "execution_count": 4,
   "metadata": {},
   "outputs": [
    {
     "output_type": "stream",
     "name": "stdout",
     "text": [
      "('chips', 'popcorn', 'nuts')\n(140, 80, 190)\n"
     ]
    }
   ],
   "source": [
    "keys = tuple(snack_calories.keys())\n",
    "print(keys)\n",
    "\n",
    "values = tuple(snack_calories.values())\n",
    "print(values)"
   ]
  },
  {
   "cell_type": "code",
   "execution_count": 5,
   "metadata": {},
   "outputs": [
    {
     "output_type": "stream",
     "name": "stdout",
     "text": [
      "Peanut butter and Jelly\n"
     ]
    }
   ],
   "source": [
    "item = ('Peanut butter', 'Jelly')\n",
    "first, second = item #Unpacking - single assignmet\n",
    "print(first, 'and', second)"
   ]
  },
  {
   "cell_type": "code",
   "execution_count": 6,
   "metadata": {},
   "outputs": [
    {
     "output_type": "stream",
     "name": "stdout",
     "text": [
      "['arugula', 'bacon', 'crraots', 'pretzels']\n"
     ]
    }
   ],
   "source": [
    "def bubble_sort(a):\n",
    "    for _ in range(len(a)):\n",
    "        for i in range(1,len(a)):\n",
    "            if a[i] < a[i-1]:\n",
    "                a[i-1], a[i] = a[i], a[i-1] #Unpacking syntax\n",
    "names = ['pretzels','crraots','arugula','bacon']\n",
    "bubble_sort(names)\n",
    "print(names)"
   ]
  },
  {
   "source": [
    "문자열 비교연산은 left most(아스키 코드)"
   ],
   "cell_type": "markdown",
   "metadata": {}
  },
  {
   "cell_type": "code",
   "execution_count": 9,
   "metadata": {},
   "outputs": [
    {
     "output_type": "stream",
     "name": "stdout",
     "text": [
      "#1: bacon has 350 calories\n#2: donut has 240 calories\n#3: muffin has 190 calories\n"
     ]
    }
   ],
   "source": [
    "snacks = [('bacon',350),('donut',240),('muffin',190)]\n",
    "for i in range(len(snacks)):\n",
    "    item = snacks[i]\n",
    "    name = item[0]\n",
    "    calories = item[1]\n",
    "    print(f'#{i+1}: {name} has {calories} calories')\n",
    "    "
   ]
  },
  {
   "cell_type": "code",
   "execution_count": 12,
   "metadata": {},
   "outputs": [
    {
     "output_type": "stream",
     "name": "stdout",
     "text": [
      "#1: bacon has 350 calories\n#2: donut has 240 calories\n#3: muffin has 190 calories\n"
     ]
    }
   ],
   "source": [
    "for rank, (name,calories) in enumerate(snacks,1): # 1 is a starting index\n",
    "    print(f'#{rank}: {name} has {calories} calories')"
   ]
  },
  {
   "source": [
    "index보단 unpacking을 사용하는것이 더 간략하고 편리한 것 같다\n"
   ],
   "cell_type": "markdown",
   "metadata": {}
  },
  {
   "source": [
    "## Item 8 : Use zip to Process Iterators in Parallel"
   ],
   "cell_type": "markdown",
   "metadata": {}
  },
  {
   "cell_type": "code",
   "execution_count": 28,
   "metadata": {},
   "outputs": [
    {
     "output_type": "stream",
     "name": "stdout",
     "text": [
      "Cecilia\n"
     ]
    }
   ],
   "source": [
    "names = ['Cecilia', 'Lise','Marie']\n",
    "counts = [len(n) for n in names] # A derived list, List comprehensions\n",
    "\n",
    "max_count = 0\n",
    "longest_name = None\n",
    "for i in range(len(names)):\n",
    "    count = counts[i]\n",
    "    if count > max_count:\n",
    "        longest_name = names[i]\n",
    "        max_count = count\n",
    "print(longest_name)"
   ]
  },
  {
   "cell_type": "code",
   "execution_count": 30,
   "metadata": {},
   "outputs": [
    {
     "output_type": "stream",
     "name": "stdout",
     "text": [
      "None\n"
     ]
    }
   ],
   "source": [
    "max_count = 0\n",
    "longest_name = None\n",
    "for i, name in enumerate(names):\n",
    "    count = counts[i]\n",
    "    if count > max_count:\n",
    "        logest_name = name\n",
    "        max_count = count\n",
    "print(longest_name)\n"
   ]
  },
  {
   "source": [
    "- zip은 2개이상의 iterator을 하나의 element pair로 만들어 줌 : lazy generator\n",
    "- zip은 튜플 형태로 접근하게 해줌"
   ],
   "cell_type": "markdown",
   "metadata": {}
  },
  {
   "cell_type": "code",
   "execution_count": 34,
   "metadata": {},
   "outputs": [
    {
     "output_type": "stream",
     "name": "stdout",
     "text": [
      "None\n"
     ]
    }
   ],
   "source": [
    "names = ['Cecilia', 'Lise','Marie']\n",
    "counts = [len(n) for n in names] # A derived list, List comprehensions\n",
    "\n",
    "for name, count in zip(names,counts):\n",
    "    if count > max_count:\n",
    "        longest_name = name\n",
    "        max_count = count"
   ]
  },
  {
   "cell_type": "code",
   "execution_count": 37,
   "metadata": {},
   "outputs": [
    {
     "output_type": "stream",
     "name": "stdout",
     "text": [
      "Cecilia\nLise\nMarie\n"
     ]
    }
   ],
   "source": [
    "names.append('Rosalind')\n",
    "for name, count in zip(names, counts):\n",
    "    print(name)"
   ]
  },
  {
   "source": [
    "truncating behavior : 감싼 이터레이터중 하나가 끝날때 까지 출력이 됨"
   ],
   "cell_type": "markdown",
   "metadata": {}
  },
  {
   "cell_type": "code",
   "execution_count": 39,
   "metadata": {},
   "outputs": [
    {
     "output_type": "stream",
     "name": "stdout",
     "text": [
      "Cecilia:7\nLise:4\nMarie:5\nRosalind:None\nRosalind:None\nRosalind:None\n"
     ]
    }
   ],
   "source": [
    "import itertools\n",
    "for name, count in itertools.zip_longest(names,counts):\n",
    "    print(f'{name}:{count}')"
   ]
  },
  {
   "source": [
    "zip_longest : 가장 긴 이터레이터 기준으로 처리"
   ],
   "cell_type": "markdown",
   "metadata": {}
  }
 ]
}