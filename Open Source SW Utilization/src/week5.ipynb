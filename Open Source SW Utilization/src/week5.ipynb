{
 "metadata": {
  "language_info": {
   "codemirror_mode": {
    "name": "ipython",
    "version": 3
   },
   "file_extension": ".py",
   "mimetype": "text/x-python",
   "name": "python",
   "nbconvert_exporter": "python",
   "pygments_lexer": "ipython3",
   "version": "3.8.5-final"
  },
  "orig_nbformat": 2,
  "kernelspec": {
   "name": "python3",
   "display_name": "Python 3.8.5 64-bit",
   "metadata": {
    "interpreter": {
     "hash": "31f2aee4e71d21fbe5cf8b01ff0e069b9275f58929596ceb00d14d90e3e16cd6"
    }
   }
  }
 },
 "nbformat": 4,
 "nbformat_minor": 2,
 "cells": [
  {
   "source": [
    "## \\[Item 11\\] Know How to Slice Sequences"
   ],
   "cell_type": "markdown",
   "metadata": {}
  },
  {
   "source": [
    "- list\n",
    "- dictionary\n",
    "- tuple"
   ],
   "cell_type": "markdown",
   "metadata": {}
  },
  {
   "source": [
    "Dictionary 자료구조는 hash function을 이용하여 동작한다\n",
    "- 키값에 해싱함수를 적용해서 나온 결과를 bustket이라는 곳에 대응시켜 value를 얻는다."
   ],
   "cell_type": "markdown",
   "metadata": {}
  },
  {
   "cell_type": "code",
   "execution_count": 7,
   "metadata": {},
   "outputs": [
    {
     "output_type": "stream",
     "name": "stdout",
     "text": [
      "Middle two:  ['d', 'e']\nAll but ends: ['b', 'c', 'd', 'e', 'f', 'g']\n"
     ]
    }
   ],
   "source": [
    "a = ['a', 'b', 'c', 'd', 'e', 'f', 'g', 'h']\n",
    "assert a[:5] == a[0:5]\n",
    "assert a[5:] == a[5:len(a)]\n",
    "print('Middle two: ', a[3:5])\n",
    "print('All but ends:', a[1:7])"
   ]
  },
  {
   "source": [
    "- slice index\n",
    "  - \\[0:5:2\\] : 0~5까지(5빼고 ) 2씩 증가 \\[start:end:increment\\]\n",
    "  - slice했다 해서 list의 값이 변하지 않는다."
   ],
   "cell_type": "markdown",
   "metadata": {}
  },
  {
   "cell_type": "code",
   "execution_count": 10,
   "metadata": {},
   "outputs": [
    {
     "output_type": "stream",
     "name": "stdout",
     "text": [
      "['a', 'b', 'c', 'd', 'e', 'f', 'g', 'h']\n['a', 'b', 'c', 'd', 'e']\n['a', 'b', 'c', 'd', 'e', 'f', 'g']\n['e', 'f', 'g', 'h']\n['f', 'g', 'h']\n['c', 'd', 'e']\n['c', 'd', 'e', 'f', 'g']\n['f', 'g']\n"
     ]
    }
   ],
   "source": [
    "print(a[:]) # ['a', 'b', 'c', 'd', 'e', 'f', 'g', 'h']\n",
    "print(a[:5]) # ['a', 'b', 'c', 'd', 'e']\n",
    "print(a[:-1]) # ['a', 'b', 'c', 'd', 'e', 'f', 'g']\n",
    "print(a[4:]) # ['e', 'f', 'g', 'h']\n",
    "print(a[-3:]) # ['f', 'g', 'h']\n",
    "print(a[2:5]) # ['c', 'd', 'e']\n",
    "print(a[2:-1]) # ['c', 'd', 'e', 'f', 'g']\n",
    "print(a[-3:-1]) # ['f', 'g']"
   ]
  },
  {
   "source": [
    "인덱스 -1과 같이 음수를 통해 역순으로 참조할 수 있다"
   ],
   "cell_type": "markdown",
   "metadata": {}
  },
  {
   "cell_type": "code",
   "execution_count": 12,
   "metadata": {},
   "outputs": [
    {
     "output_type": "stream",
     "name": "stdout",
     "text": [
      "['a', 'b', 'c', 'd', 'e', 'f', 'g', 'h']\n['a', 'b', 'c', 'd', 'e', 'f', 'g', 'h']\n"
     ]
    }
   ],
   "source": [
    "first_20_items = a[:20]\n",
    "last_20_items = a[-20:]\n",
    "\n",
    "print(first_20_items)\n",
    "    print(last_20_items)"
   ]
  },
  {
   "source": [
    "인덱스보다 아이템의 수가 부족한 경우 있는 내용만 출력된다"
   ],
   "cell_type": "markdown",
   "metadata": {}
  },
  {
   "cell_type": "code",
   "execution_count": 14,
   "metadata": {},
   "outputs": [
    {
     "output_type": "execute_result",
     "data": {
      "text/plain": [
       "['a', 'b', 'c', 'd', 'e', 'f', 'g', 'h']"
      ]
     },
     "metadata": {},
     "execution_count": 14
    }
   ],
   "source": [
    "a[-0:]"
   ]
  },
  {
   "source": [
    "a\\[-0\\]은 a\\[:\\]와 같이 리스트의 모든 내용을 출력한다"
   ],
   "cell_type": "markdown",
   "metadata": {}
  },
  {
   "cell_type": "code",
   "execution_count": 13,
   "metadata": {},
   "outputs": [
    {
     "output_type": "stream",
     "name": "stdout",
     "text": [
      "Before:  ['d', 'e', 'f', 'g', 'h']\nAfter:  ['d', 99, 'f', 'g', 'h']\nNo change: ['a', 'b', 'c', 'd', 'e', 'f', 'g', 'h']\n"
     ]
    }
   ],
   "source": [
    "b = a[3:]\n",
    "print('Before: ', b)\n",
    "b[1] = 99\n",
    "print('After: ', b)\n",
    "print('No change:', a) "
   ]
  },
  {
   "cell_type": "code",
   "execution_count": 15,
   "metadata": {},
   "outputs": [
    {
     "output_type": "stream",
     "name": "stdout",
     "text": [
      "Before  ['a', 'b', 'c', 'd', 'e', 'f', 'g', 'h']\nAfter  ['a', 'b', 99, 22, 14, 'h']\n"
     ]
    }
   ],
   "source": [
    "print('Before ', a)\n",
    "a[2:7] = [99, 22, 14]\n",
    "print('After ', a) \n"
   ]
  },
  {
   "source": [
    "인덱스 범위보다 삽입할 값이 더 적을경우 리스트의 크기가 줄어든다"
   ],
   "cell_type": "markdown",
   "metadata": {}
  },
  {
   "cell_type": "code",
   "execution_count": 16,
   "metadata": {},
   "outputs": [],
   "source": [
    "b = a[:]\n",
    "assert b == a and b is not a \n"
   ]
  },
  {
   "cell_type": "code",
   "execution_count": 17,
   "metadata": {},
   "outputs": [
    {
     "output_type": "stream",
     "name": "stdout",
     "text": [
      "Before a ['a', 'b', 99, 22, 14, 'h']\nBefore b ['a', 'b', 99, 22, 14, 'h']\nAfter a  [101, 102, 103]\nAfter b  [101, 102, 103]\n"
     ]
    }
   ],
   "source": [
    "b = a\n",
    "print('Before a', a)\n",
    "print('Before b', b)\n",
    "a[:] = [101, 102, 103]\n",
    "assert a is b # Still the same list object\n",
    "print('After a ', a) # Now has different contents\n",
    "print('After b ', b) # Same list, so same contents as a \n"
   ]
  },
  {
   "source": [
    "- a = b 대입 연산을 하게 되면같은 object가 된다.(같은 reference가 됨)\n",
    "- 따라서 리스트에 대한 copy를 생각하면 b = a\\[:\\]와 같이 사용해야 함"
   ],
   "cell_type": "markdown",
   "metadata": {}
  },
  {
   "source": [
    "## \\[Item 12\\] Avoid Striding and Slicing in a Single Expression"
   ],
   "cell_type": "markdown",
   "metadata": {}
  },
  {
   "cell_type": "code",
   "execution_count": 18,
   "metadata": {},
   "outputs": [
    {
     "output_type": "stream",
     "name": "stdout",
     "text": [
      "['red', 'yellow', 'blue']\n['orange', 'green', 'purple']\n"
     ]
    }
   ],
   "source": [
    "x = ['red', 'orange', 'yellow', 'green', 'blue', 'purple']\n",
    "odds = x[::2]\n",
    "evens = x[1::2]\n",
    "print(odds)\n",
    "print(evens)"
   ]
  },
  {
   "source": [
    "`alist[start:end:stride]`"
   ],
   "cell_type": "markdown",
   "metadata": {}
  },
  {
   "cell_type": "code",
   "execution_count": 19,
   "metadata": {},
   "outputs": [
    {
     "output_type": "stream",
     "name": "stdout",
     "text": [
      "b'esoognom'\n"
     ]
    }
   ],
   "source": [
    "x = b'mongoose'\n",
    "y = x[::-1]\n",
    "print(y)"
   ]
  },
  {
   "cell_type": "code",
   "execution_count": 20,
   "metadata": {},
   "outputs": [
    {
     "output_type": "stream",
     "name": "stdout",
     "text": [
      "司寿\n"
     ]
    }
   ],
   "source": [
    "x = '寿司'\n",
    "y = x[::-1]\n",
    "print(y)"
   ]
  },
  {
   "source": [
    "이러한 stride는 유니코드나 바이트 문자열에 대해서도 적용된다"
   ],
   "cell_type": "markdown",
   "metadata": {}
  },
  {
   "cell_type": "code",
   "execution_count": 21,
   "metadata": {},
   "outputs": [
    {
     "output_type": "error",
     "ename": "UnicodeDecodeError",
     "evalue": "'utf-8' codec can't decode byte 0xb8 in position 0: invalid start byte",
     "traceback": [
      "\u001b[0;31m---------------------------------------------------------------------------\u001b[0m",
      "\u001b[0;31mUnicodeDecodeError\u001b[0m                        Traceback (most recent call last)",
      "\u001b[0;32m<ipython-input-21-5f6520b57f69>\u001b[0m in \u001b[0;36m<module>\u001b[0;34m\u001b[0m\n\u001b[1;32m      2\u001b[0m \u001b[0mx\u001b[0m \u001b[0;34m=\u001b[0m \u001b[0mw\u001b[0m\u001b[0;34m.\u001b[0m\u001b[0mencode\u001b[0m\u001b[0;34m(\u001b[0m\u001b[0;34m'utf-8'\u001b[0m\u001b[0;34m)\u001b[0m\u001b[0;34m\u001b[0m\u001b[0;34m\u001b[0m\u001b[0m\n\u001b[1;32m      3\u001b[0m \u001b[0my\u001b[0m \u001b[0;34m=\u001b[0m \u001b[0mx\u001b[0m\u001b[0;34m[\u001b[0m\u001b[0;34m:\u001b[0m\u001b[0;34m:\u001b[0m\u001b[0;34m-\u001b[0m\u001b[0;36m1\u001b[0m\u001b[0;34m]\u001b[0m\u001b[0;34m\u001b[0m\u001b[0;34m\u001b[0m\u001b[0m\n\u001b[0;32m----> 4\u001b[0;31m \u001b[0mz\u001b[0m \u001b[0;34m=\u001b[0m \u001b[0my\u001b[0m\u001b[0;34m.\u001b[0m\u001b[0mdecode\u001b[0m\u001b[0;34m(\u001b[0m\u001b[0;34m'utf-8'\u001b[0m\u001b[0;34m)\u001b[0m\u001b[0;34m\u001b[0m\u001b[0;34m\u001b[0m\u001b[0m\n\u001b[0m",
      "\u001b[0;31mUnicodeDecodeError\u001b[0m: 'utf-8' codec can't decode byte 0xb8 in position 0: invalid start byte"
     ]
    }
   ],
   "source": [
    "w = '寿司'\n",
    "x = w.encode('utf-8')\n",
    "y = x[::-1]\n",
    "z = y.decode('utf-8')"
   ]
  },
  {
   "cell_type": "code",
   "execution_count": 34,
   "metadata": {},
   "outputs": [],
   "source": [
    "x = ['a','b','c','d','e','f','g','h']"
   ]
  },
  {
   "cell_type": "code",
   "execution_count": 35,
   "metadata": {},
   "outputs": [
    {
     "output_type": "stream",
     "name": "stdout",
     "text": [
      "['c', 'e', 'g']\n['g', 'e', 'c', 'a']\n['g', 'e']\n[]\n"
     ]
    }
   ],
   "source": [
    "print(x[2::2]) # ['c', 'e', 'g']\n",
    "print(x[-2::-2]) # ['g', 'e', 'c', 'a']\n",
    "print(x[-2:2:-2]) # ['g', 'e']\n",
    "print(x[2:2:-2]) # [] \n"
   ]
  },
  {
   "source": [
    "- 마지막 x\\[2:2:-2\\]의 경우 start index와 end index가 같기 때문에 아무것도 출력되지 않는다.\n"
   ],
   "cell_type": "markdown",
   "metadata": {}
  },
  {
   "source": [
    "- 가능한 양수 인덱스를 사용\n",
    "- `itertools`의 `islice`를 사용하여  헷갈리는것을 방지할 수 있다."
   ],
   "cell_type": "markdown",
   "metadata": {}
  },
  {
   "source": [],
   "cell_type": "markdown",
   "metadata": {}
  },
  {
   "cell_type": "code",
   "execution_count": null,
   "metadata": {},
   "outputs": [],
   "source": [
    "## \\[Item 13\\] Prefer Catch-All Unpacking Over Slicing"
   ]
  },
  {
   "cell_type": "code",
   "execution_count": 38,
   "metadata": {},
   "outputs": [
    {
     "output_type": "error",
     "ename": "ValueError",
     "evalue": "too many values to unpack (expected 2)",
     "traceback": [
      "\u001b[0;31m---------------------------------------------------------------------------\u001b[0m",
      "\u001b[0;31mValueError\u001b[0m                                Traceback (most recent call last)",
      "\u001b[0;32m<ipython-input-38-99634ca0e408>\u001b[0m in \u001b[0;36m<module>\u001b[0;34m\u001b[0m\n\u001b[1;32m      1\u001b[0m \u001b[0mcar_ages\u001b[0m \u001b[0;34m=\u001b[0m \u001b[0;34m[\u001b[0m\u001b[0;36m0\u001b[0m\u001b[0;34m,\u001b[0m \u001b[0;36m9\u001b[0m\u001b[0;34m,\u001b[0m \u001b[0;36m4\u001b[0m\u001b[0;34m,\u001b[0m \u001b[0;36m8\u001b[0m\u001b[0;34m,\u001b[0m \u001b[0;36m7\u001b[0m\u001b[0;34m,\u001b[0m \u001b[0;36m20\u001b[0m\u001b[0;34m,\u001b[0m \u001b[0;36m19\u001b[0m\u001b[0;34m,\u001b[0m \u001b[0;36m1\u001b[0m\u001b[0;34m,\u001b[0m \u001b[0;36m6\u001b[0m\u001b[0;34m,\u001b[0m \u001b[0;36m15\u001b[0m\u001b[0;34m]\u001b[0m\u001b[0;34m\u001b[0m\u001b[0;34m\u001b[0m\u001b[0m\n\u001b[1;32m      2\u001b[0m \u001b[0mcar_ages_descending\u001b[0m \u001b[0;34m=\u001b[0m \u001b[0msorted\u001b[0m\u001b[0;34m(\u001b[0m\u001b[0mcar_ages\u001b[0m\u001b[0;34m,\u001b[0m \u001b[0mreverse\u001b[0m\u001b[0;34m=\u001b[0m\u001b[0;32mTrue\u001b[0m\u001b[0;34m)\u001b[0m\u001b[0;34m\u001b[0m\u001b[0;34m\u001b[0m\u001b[0m\n\u001b[0;32m----> 3\u001b[0;31m \u001b[0moldest\u001b[0m\u001b[0;34m,\u001b[0m \u001b[0msecond_oldest\u001b[0m \u001b[0;34m=\u001b[0m \u001b[0mcar_ages_descending\u001b[0m\u001b[0;34m\u001b[0m\u001b[0;34m\u001b[0m\u001b[0m\n\u001b[0m",
      "\u001b[0;31mValueError\u001b[0m: too many values to unpack (expected 2)"
     ]
    }
   ],
   "source": [
    "car_ages = [0, 9, 4, 8, 7, 20, 19, 1, 6, 15]\n",
    "car_ages_descending = sorted(car_ages, reverse=True)\n",
    "oldest, second_oldest = car_ages_descending"
   ]
  },
  {
   "cell_type": "code",
   "execution_count": 39,
   "metadata": {},
   "outputs": [
    {
     "output_type": "stream",
     "name": "stdout",
     "text": [
      "20 19 [15, 9, 8, 7, 6, 4, 1, 0]\n"
     ]
    }
   ],
   "source": [
    "oldest = car_ages_descending[0]\n",
    "second_oldest = car_ages_descending[1]\n",
    "others = car_ages_descending[2:]\n",
    "print(oldest, second_oldest, others)"
   ]
  },
  {
   "cell_type": "code",
   "execution_count": 40,
   "metadata": {},
   "outputs": [
    {
     "output_type": "stream",
     "name": "stdout",
     "text": [
      "20 19 [15, 9, 8, 7, 6, 4, 1, 0]\n"
     ]
    }
   ],
   "source": [
    "oldest, second_oldest, *others = car_ages_descending\n",
    "print(oldest, second_oldest, others)"
   ]
  },
  {
   "cell_type": "code",
   "execution_count": 41,
   "metadata": {},
   "outputs": [
    {
     "output_type": "stream",
     "name": "stdout",
     "text": [
      "20 0 [19, 15, 9, 8, 7, 6, 4, 1]\n0 1 [20, 19, 15, 9, 8, 7, 6, 4]\n"
     ]
    }
   ],
   "source": [
    "oldest, *others, youngest = car_ages_descending\n",
    "print(oldest, youngest, others)\n",
    "*others, second_youngest, youngest = car_ages_descending\n",
    "print(youngest, second_youngest, others)"
   ]
  },
  {
   "cell_type": "code",
   "execution_count": 42,
   "metadata": {},
   "outputs": [
    {
     "output_type": "error",
     "ename": "SyntaxError",
     "evalue": "starred assignment target must be in a list or tuple (<ipython-input-42-de7bf1ede8b8>, line 1)",
     "traceback": [
      "\u001b[0;36m  File \u001b[0;32m\"<ipython-input-42-de7bf1ede8b8>\"\u001b[0;36m, line \u001b[0;32m1\u001b[0m\n\u001b[0;31m    *others = car_ages_descending\u001b[0m\n\u001b[0m    ^\u001b[0m\n\u001b[0;31mSyntaxError\u001b[0m\u001b[0;31m:\u001b[0m starred assignment target must be in a list or tuple\n"
     ]
    }
   ],
   "source": [
    "*others = car_ages_descending\n",
    "fist, *middle, *second_middle, last = [1, 2, 3, 4]"
   ]
  },
  {
   "cell_type": "code",
   "execution_count": 43,
   "metadata": {},
   "outputs": [
    {
     "output_type": "stream",
     "name": "stdout",
     "text": [
      "Best at Downtown is Silver Shadow, 2 others\nBest at Airport is Skyline, 3 others\n"
     ]
    }
   ],
   "source": [
    "car_inventory = {\n",
    " 'Downtown': ('Silver Shadow', 'Pinto', 'DMC'),\n",
    " 'Airport': ('Skyline', 'Viper', 'Gremlin', 'Nova'),\n",
    "}\n",
    "((loc1, (best1, *rest1)),\n",
    " (loc2, (best2, *rest2))) = car_inventory.items()\n",
    "print(f'Best at {loc1} is {best1}, {len(rest1)} others')\n",
    "print(f'Best at {loc2} is {best2}, {len(rest2)} others')"
   ]
  },
  {
   "cell_type": "code",
   "execution_count": 44,
   "metadata": {},
   "outputs": [
    {
     "output_type": "stream",
     "name": "stdout",
     "text": [
      "1 2 []\n"
     ]
    }
   ],
   "source": [
    "short_list = [1, 2]\n",
    "first, second, *rest = short_list\n",
    "print(first, second, rest)"
   ]
  },
  {
   "cell_type": "code",
   "execution_count": 45,
   "metadata": {},
   "outputs": [
    {
     "output_type": "stream",
     "name": "stdout",
     "text": [
      "1 and 2\n"
     ]
    }
   ],
   "source": [
    "it = iter(range(1, 3))\n",
    "first, second = it\n",
    "print(f'{first} and {second}')"
   ]
  },
  {
   "cell_type": "code",
   "execution_count": 51,
   "metadata": {},
   "outputs": [
    {
     "output_type": "stream",
     "name": "stdout",
     "text": [
      "CSV Header: ('Date', 'Make', 'Model', 'Year', 'Price')\nRow count:  200\n"
     ]
    }
   ],
   "source": [
    "def generate_csv():\n",
    "\tyield ('Date', 'Make' , 'Model', 'Year', 'Price')\n",
    "\tfor i in range(100):\n",
    "\t\tyield ('2019-03-25', 'Honda', 'Fit' , '2010', '$3400')\n",
    "\t\tyield ('2019-03-26', 'Ford', 'F150' , '2008', '$2400')\n",
    "    \n",
    "all_csv_rows = list(generate_csv()) # too noisy\n",
    "header = all_csv_rows[0]\n",
    "rows = all_csv_rows[1:]\n",
    "print('CSV Header:', header)\n",
    "print('Row count: ', len(rows))"
   ]
  },
  {
   "cell_type": "code",
   "execution_count": 52,
   "metadata": {},
   "outputs": [
    {
     "output_type": "stream",
     "name": "stdout",
     "text": [
      "CSV Header: ('Date', 'Make', 'Model', 'Year', 'Price')\nRow count:  200\n"
     ]
    }
   ],
   "source": [
    "it = generate_csv()\n",
    "header, *rows = it\n",
    "print('CSV Header:', header)\n",
    "print('Row count: ', len(rows))"
   ]
  },
  {
   "cell_type": "code",
   "execution_count": 54,
   "metadata": {},
   "outputs": [
    {
     "output_type": "stream",
     "name": "stdout",
     "text": [
      "('2019-03-25', 'Honda', 'Fit', '2010', '$3400')\n('2019-03-26', 'Ford', 'F150', '2008', '$2400')\n('2019-03-25', 'Honda', 'Fit', '2010', '$3400')\n('2019-03-26', 'Ford', 'F150', '2008', '$2400')\n('2019-03-25', 'Honda', 'Fit', '2010', '$3400')\n('2019-03-26', 'Ford', 'F150', '2008', '$2400')\n('2019-03-25', 'Honda', 'Fit', '2010', '$3400')\n('2019-03-26', 'Ford', 'F150', '2008', '$2400')\n('2019-03-25', 'Honda', 'Fit', '2010', '$3400')\n('2019-03-26', 'Ford', 'F150', '2008', '$2400')\n('2019-03-25', 'Honda', 'Fit', '2010', '$3400')\n('2019-03-26', 'Ford', 'F150', '2008', '$2400')\n('2019-03-25', 'Honda', 'Fit', '2010', '$3400')\n('2019-03-26', 'Ford', 'F150', '2008', '$2400')\n('2019-03-25', 'Honda', 'Fit', '2010', '$3400')\n('2019-03-26', 'Ford', 'F150', '2008', '$2400')\n('2019-03-25', 'Honda', 'Fit', '2010', '$3400')\n('2019-03-26', 'Ford', 'F150', '2008', '$2400')\n('2019-03-25', 'Honda', 'Fit', '2010', '$3400')\n('2019-03-26', 'Ford', 'F150', '2008', '$2400')\n('2019-03-25', 'Honda', 'Fit', '2010', '$3400')\n('2019-03-26', 'Ford', 'F150', '2008', '$2400')\n('2019-03-25', 'Honda', 'Fit', '2010', '$3400')\n('2019-03-26', 'Ford', 'F150', '2008', '$2400')\n('2019-03-25', 'Honda', 'Fit', '2010', '$3400')\n('2019-03-26', 'Ford', 'F150', '2008', '$2400')\n('2019-03-25', 'Honda', 'Fit', '2010', '$3400')\n('2019-03-26', 'Ford', 'F150', '2008', '$2400')\n('2019-03-25', 'Honda', 'Fit', '2010', '$3400')\n('2019-03-26', 'Ford', 'F150', '2008', '$2400')\n('2019-03-25', 'Honda', 'Fit', '2010', '$3400')\n('2019-03-26', 'Ford', 'F150', '2008', '$2400')\n('2019-03-25', 'Honda', 'Fit', '2010', '$3400')\n('2019-03-26', 'Ford', 'F150', '2008', '$2400')\n('2019-03-25', 'Honda', 'Fit', '2010', '$3400')\n('2019-03-26', 'Ford', 'F150', '2008', '$2400')\n('2019-03-25', 'Honda', 'Fit', '2010', '$3400')\n('2019-03-26', 'Ford', 'F150', '2008', '$2400')\n('2019-03-25', 'Honda', 'Fit', '2010', '$3400')\n('2019-03-26', 'Ford', 'F150', '2008', '$2400')\n('2019-03-25', 'Honda', 'Fit', '2010', '$3400')\n('2019-03-26', 'Ford', 'F150', '2008', '$2400')\n('2019-03-25', 'Honda', 'Fit', '2010', '$3400')\n('2019-03-26', 'Ford', 'F150', '2008', '$2400')\n('2019-03-25', 'Honda', 'Fit', '2010', '$3400')\n('2019-03-26', 'Ford', 'F150', '2008', '$2400')\n('2019-03-25', 'Honda', 'Fit', '2010', '$3400')\n('2019-03-26', 'Ford', 'F150', '2008', '$2400')\n('2019-03-25', 'Honda', 'Fit', '2010', '$3400')\n('2019-03-26', 'Ford', 'F150', '2008', '$2400')\n('2019-03-25', 'Honda', 'Fit', '2010', '$3400')\n('2019-03-26', 'Ford', 'F150', '2008', '$2400')\n('2019-03-25', 'Honda', 'Fit', '2010', '$3400')\n('2019-03-26', 'Ford', 'F150', '2008', '$2400')\n('2019-03-25', 'Honda', 'Fit', '2010', '$3400')\n('2019-03-26', 'Ford', 'F150', '2008', '$2400')\n('2019-03-25', 'Honda', 'Fit', '2010', '$3400')\n('2019-03-26', 'Ford', 'F150', '2008', '$2400')\n('2019-03-25', 'Honda', 'Fit', '2010', '$3400')\n('2019-03-26', 'Ford', 'F150', '2008', '$2400')\n('2019-03-25', 'Honda', 'Fit', '2010', '$3400')\n('2019-03-26', 'Ford', 'F150', '2008', '$2400')\n('2019-03-25', 'Honda', 'Fit', '2010', '$3400')\n('2019-03-26', 'Ford', 'F150', '2008', '$2400')\n('2019-03-25', 'Honda', 'Fit', '2010', '$3400')\n('2019-03-26', 'Ford', 'F150', '2008', '$2400')\n('2019-03-25', 'Honda', 'Fit', '2010', '$3400')\n('2019-03-26', 'Ford', 'F150', '2008', '$2400')\n('2019-03-25', 'Honda', 'Fit', '2010', '$3400')\n('2019-03-26', 'Ford', 'F150', '2008', '$2400')\n('2019-03-25', 'Honda', 'Fit', '2010', '$3400')\n('2019-03-26', 'Ford', 'F150', '2008', '$2400')\n('2019-03-25', 'Honda', 'Fit', '2010', '$3400')\n('2019-03-26', 'Ford', 'F150', '2008', '$2400')\n('2019-03-25', 'Honda', 'Fit', '2010', '$3400')\n('2019-03-26', 'Ford', 'F150', '2008', '$2400')\n('2019-03-25', 'Honda', 'Fit', '2010', '$3400')\n('2019-03-26', 'Ford', 'F150', '2008', '$2400')\n('2019-03-25', 'Honda', 'Fit', '2010', '$3400')\n('2019-03-26', 'Ford', 'F150', '2008', '$2400')\n('2019-03-25', 'Honda', 'Fit', '2010', '$3400')\n('2019-03-26', 'Ford', 'F150', '2008', '$2400')\n('2019-03-25', 'Honda', 'Fit', '2010', '$3400')\n('2019-03-26', 'Ford', 'F150', '2008', '$2400')\n('2019-03-25', 'Honda', 'Fit', '2010', '$3400')\n('2019-03-26', 'Ford', 'F150', '2008', '$2400')\n('2019-03-25', 'Honda', 'Fit', '2010', '$3400')\n('2019-03-26', 'Ford', 'F150', '2008', '$2400')\n('2019-03-25', 'Honda', 'Fit', '2010', '$3400')\n('2019-03-26', 'Ford', 'F150', '2008', '$2400')\n('2019-03-25', 'Honda', 'Fit', '2010', '$3400')\n('2019-03-26', 'Ford', 'F150', '2008', '$2400')\n('2019-03-25', 'Honda', 'Fit', '2010', '$3400')\n('2019-03-26', 'Ford', 'F150', '2008', '$2400')\n('2019-03-25', 'Honda', 'Fit', '2010', '$3400')\n('2019-03-26', 'Ford', 'F150', '2008', '$2400')\n('2019-03-25', 'Honda', 'Fit', '2010', '$3400')\n('2019-03-26', 'Ford', 'F150', '2008', '$2400')\n('2019-03-25', 'Honda', 'Fit', '2010', '$3400')\n('2019-03-26', 'Ford', 'F150', '2008', '$2400')\n('2019-03-25', 'Honda', 'Fit', '2010', '$3400')\n('2019-03-26', 'Ford', 'F150', '2008', '$2400')\n('2019-03-25', 'Honda', 'Fit', '2010', '$3400')\n('2019-03-26', 'Ford', 'F150', '2008', '$2400')\n('2019-03-25', 'Honda', 'Fit', '2010', '$3400')\n('2019-03-26', 'Ford', 'F150', '2008', '$2400')\n('2019-03-25', 'Honda', 'Fit', '2010', '$3400')\n('2019-03-26', 'Ford', 'F150', '2008', '$2400')\n('2019-03-25', 'Honda', 'Fit', '2010', '$3400')\n('2019-03-26', 'Ford', 'F150', '2008', '$2400')\n('2019-03-25', 'Honda', 'Fit', '2010', '$3400')\n('2019-03-26', 'Ford', 'F150', '2008', '$2400')\n('2019-03-25', 'Honda', 'Fit', '2010', '$3400')\n('2019-03-26', 'Ford', 'F150', '2008', '$2400')\n('2019-03-25', 'Honda', 'Fit', '2010', '$3400')\n('2019-03-26', 'Ford', 'F150', '2008', '$2400')\n('2019-03-25', 'Honda', 'Fit', '2010', '$3400')\n('2019-03-26', 'Ford', 'F150', '2008', '$2400')\n('2019-03-25', 'Honda', 'Fit', '2010', '$3400')\n('2019-03-26', 'Ford', 'F150', '2008', '$2400')\n('2019-03-25', 'Honda', 'Fit', '2010', '$3400')\n('2019-03-26', 'Ford', 'F150', '2008', '$2400')\n('2019-03-25', 'Honda', 'Fit', '2010', '$3400')\n('2019-03-26', 'Ford', 'F150', '2008', '$2400')\n('2019-03-25', 'Honda', 'Fit', '2010', '$3400')\n('2019-03-26', 'Ford', 'F150', '2008', '$2400')\n('2019-03-25', 'Honda', 'Fit', '2010', '$3400')\n('2019-03-26', 'Ford', 'F150', '2008', '$2400')\n('2019-03-25', 'Honda', 'Fit', '2010', '$3400')\n('2019-03-26', 'Ford', 'F150', '2008', '$2400')\n('2019-03-25', 'Honda', 'Fit', '2010', '$3400')\n('2019-03-26', 'Ford', 'F150', '2008', '$2400')\n('2019-03-25', 'Honda', 'Fit', '2010', '$3400')\n('2019-03-26', 'Ford', 'F150', '2008', '$2400')\n('2019-03-25', 'Honda', 'Fit', '2010', '$3400')\n('2019-03-26', 'Ford', 'F150', '2008', '$2400')\n('2019-03-25', 'Honda', 'Fit', '2010', '$3400')\n('2019-03-26', 'Ford', 'F150', '2008', '$2400')\n('2019-03-25', 'Honda', 'Fit', '2010', '$3400')\n('2019-03-26', 'Ford', 'F150', '2008', '$2400')\n('2019-03-25', 'Honda', 'Fit', '2010', '$3400')\n('2019-03-26', 'Ford', 'F150', '2008', '$2400')\n('2019-03-25', 'Honda', 'Fit', '2010', '$3400')\n('2019-03-26', 'Ford', 'F150', '2008', '$2400')\n('2019-03-25', 'Honda', 'Fit', '2010', '$3400')\n('2019-03-26', 'Ford', 'F150', '2008', '$2400')\n('2019-03-25', 'Honda', 'Fit', '2010', '$3400')\n('2019-03-26', 'Ford', 'F150', '2008', '$2400')\n('2019-03-25', 'Honda', 'Fit', '2010', '$3400')\n('2019-03-26', 'Ford', 'F150', '2008', '$2400')\n('2019-03-25', 'Honda', 'Fit', '2010', '$3400')\n('2019-03-26', 'Ford', 'F150', '2008', '$2400')\n('2019-03-25', 'Honda', 'Fit', '2010', '$3400')\n('2019-03-26', 'Ford', 'F150', '2008', '$2400')\n('2019-03-25', 'Honda', 'Fit', '2010', '$3400')\n('2019-03-26', 'Ford', 'F150', '2008', '$2400')\n('2019-03-25', 'Honda', 'Fit', '2010', '$3400')\n('2019-03-26', 'Ford', 'F150', '2008', '$2400')\n('2019-03-25', 'Honda', 'Fit', '2010', '$3400')\n('2019-03-26', 'Ford', 'F150', '2008', '$2400')\n('2019-03-25', 'Honda', 'Fit', '2010', '$3400')\n('2019-03-26', 'Ford', 'F150', '2008', '$2400')\n('2019-03-25', 'Honda', 'Fit', '2010', '$3400')\n('2019-03-26', 'Ford', 'F150', '2008', '$2400')\n('2019-03-25', 'Honda', 'Fit', '2010', '$3400')\n('2019-03-26', 'Ford', 'F150', '2008', '$2400')\n('2019-03-25', 'Honda', 'Fit', '2010', '$3400')\n('2019-03-26', 'Ford', 'F150', '2008', '$2400')\n('2019-03-25', 'Honda', 'Fit', '2010', '$3400')\n('2019-03-26', 'Ford', 'F150', '2008', '$2400')\n('2019-03-25', 'Honda', 'Fit', '2010', '$3400')\n('2019-03-26', 'Ford', 'F150', '2008', '$2400')\n('2019-03-25', 'Honda', 'Fit', '2010', '$3400')\n('2019-03-26', 'Ford', 'F150', '2008', '$2400')\n('2019-03-25', 'Honda', 'Fit', '2010', '$3400')\n('2019-03-26', 'Ford', 'F150', '2008', '$2400')\n('2019-03-25', 'Honda', 'Fit', '2010', '$3400')\n('2019-03-26', 'Ford', 'F150', '2008', '$2400')\n('2019-03-25', 'Honda', 'Fit', '2010', '$3400')\n('2019-03-26', 'Ford', 'F150', '2008', '$2400')\n('2019-03-25', 'Honda', 'Fit', '2010', '$3400')\n('2019-03-26', 'Ford', 'F150', '2008', '$2400')\n('2019-03-25', 'Honda', 'Fit', '2010', '$3400')\n('2019-03-26', 'Ford', 'F150', '2008', '$2400')\n('2019-03-25', 'Honda', 'Fit', '2010', '$3400')\n('2019-03-26', 'Ford', 'F150', '2008', '$2400')\n('2019-03-25', 'Honda', 'Fit', '2010', '$3400')\n('2019-03-26', 'Ford', 'F150', '2008', '$2400')\n('2019-03-25', 'Honda', 'Fit', '2010', '$3400')\n('2019-03-26', 'Ford', 'F150', '2008', '$2400')\n('2019-03-25', 'Honda', 'Fit', '2010', '$3400')\n('2019-03-26', 'Ford', 'F150', '2008', '$2400')\n('2019-03-25', 'Honda', 'Fit', '2010', '$3400')\n('2019-03-26', 'Ford', 'F150', '2008', '$2400')\n('2019-03-25', 'Honda', 'Fit', '2010', '$3400')\n('2019-03-26', 'Ford', 'F150', '2008', '$2400')\n('2019-03-25', 'Honda', 'Fit', '2010', '$3400')\n('2019-03-26', 'Ford', 'F150', '2008', '$2400')\n('2019-03-25', 'Honda', 'Fit', '2010', '$3400')\n('2019-03-26', 'Ford', 'F150', '2008', '$2400')\n"
     ]
    }
   ],
   "source": [
    "for str in rows:\n",
    "    print(str)"
   ]
  },
  {
   "source": [
    "*rows 와 같이 starred expression을 사용하면 unpacking하여 값을 전달한다."
   ],
   "cell_type": "markdown",
   "metadata": {}
  },
  {
   "source": [
    "## \\[Item 14\\] Sort by Complex Criteria using the key Parameter"
   ],
   "cell_type": "markdown",
   "metadata": {}
  },
  {
   "cell_type": "code",
   "execution_count": 58,
   "metadata": {},
   "outputs": [
    {
     "output_type": "stream",
     "name": "stdout",
     "text": [
      "[11, 68, 70, 86, 93]\n"
     ]
    }
   ],
   "source": [
    "numbers = [93, 86, 11, 68, 70]\n",
    "numbers.sort()\n",
    "print(numbers)"
   ]
  },
  {
   "cell_type": "code",
   "execution_count": 64,
   "metadata": {},
   "outputs": [
    {
     "output_type": "error",
     "ename": "TypeError",
     "evalue": "'<' not supported between instances of 'Tool' and 'Tool'",
     "traceback": [
      "\u001b[0;31m---------------------------------------------------------------------------\u001b[0m",
      "\u001b[0;31mTypeError\u001b[0m                                 Traceback (most recent call last)",
      "\u001b[0;32m<ipython-input-64-a39019e34d43>\u001b[0m in \u001b[0;36m<module>\u001b[0;34m\u001b[0m\n\u001b[1;32m     14\u001b[0m ]\n\u001b[1;32m     15\u001b[0m \u001b[0;34m\u001b[0m\u001b[0m\n\u001b[0;32m---> 16\u001b[0;31m \u001b[0mtools\u001b[0m\u001b[0;34m.\u001b[0m\u001b[0msort\u001b[0m\u001b[0;34m(\u001b[0m\u001b[0;34m)\u001b[0m\u001b[0;34m\u001b[0m\u001b[0;34m\u001b[0m\u001b[0m\n\u001b[0m",
      "\u001b[0;31mTypeError\u001b[0m: '<' not supported between instances of 'Tool' and 'Tool'"
     ]
    }
   ],
   "source": [
    "class Tool:\n",
    "    def __init__(self, name, weight):\n",
    "        self.name = name\n",
    "        self.weight = weight\n",
    "\n",
    "    def __repr__(self):\n",
    "        return f'Tool({self.name!r}, {self.weight})'\n",
    "\n",
    "tools = [\n",
    "    Tool('level', 3.5),\n",
    "    Tool('hammer', 1.25),\n",
    "    Tool('screwdriver', 0.5),\n",
    "    Tool('chisel', 0.25),\n",
    "]\n",
    "\n",
    "tools.sort()"
   ]
  },
  {
   "source": [
    "Tool class에는 비교연산자가 존재하지 않기 때문에 위와 같은 에러가 발생한다"
   ],
   "cell_type": "markdown",
   "metadata": {}
  },
  {
   "cell_type": "code",
   "execution_count": 67,
   "metadata": {},
   "outputs": [
    {
     "output_type": "stream",
     "name": "stdout",
     "text": [
      "Unsorted: [Tool('chisel', 0.25), Tool('screwdriver', 0.5), Tool('hammer', 1.25), Tool('level', 3.5)]\n\nSorted:  [Tool('chisel', 0.25), Tool('hammer', 1.25), Tool('level', 3.5), Tool('screwdriver', 0.5)]\n"
     ]
    }
   ],
   "source": [
    "print('Unsorted:', repr(tools))\n",
    "tools.sort(key=lambda x: x.name)\n",
    "print('\\nSorted: ', tools)"
   ]
  },
  {
   "cell_type": "code",
   "execution_count": 71,
   "metadata": {},
   "outputs": [
    {
     "output_type": "stream",
     "name": "stdout",
     "text": [
      "Unsorted: [Tool('chisel', 0.25), Tool('hammer', 1.25), Tool('level', 3.5), Tool('screwdriver', 0.5)]\n\nSorted:  [Tool('chisel', 0.25), Tool('screwdriver', 0.5), Tool('hammer', 1.25), Tool('level', 3.5)]\n"
     ]
    }
   ],
   "source": [
    "print('Unsorted:', repr(tools))\n",
    "tools.sort(key=lambda x: x.weight)\n",
    "print('\\nSorted: ', tools)"
   ]
  },
  {
   "cell_type": "code",
   "execution_count": 68,
   "metadata": {},
   "outputs": [
    {
     "output_type": "stream",
     "name": "stdout",
     "text": [
      "Case sensitive:  ['New York', 'Paris', 'home', 'work']\nCase insensitive: ['home', 'New York', 'Paris', 'work']\n"
     ]
    }
   ],
   "source": [
    "places = ['home', 'work', 'New York', 'Paris']\n",
    "places.sort()\n",
    "print('Case sensitive: ', places)\n",
    "places.sort(key=lambda x: x.lower())\n",
    "print('Case insensitive:', places)"
   ]
  },
  {
   "source": [
    "- case sensitive의 경우 비교시 대, 소문자를 구분하기 때문에 대문자요소가 앞에 오고(아스키 코드 값에서 대문자가 먼저 나타난다))\n",
    "- case insensitive의 경우 비교시 소문자로 lower하여 비교하기 때문에 알파벳 순으로 출력된다"
   ],
   "cell_type": "markdown",
   "metadata": {}
  },
  {
   "cell_type": "code",
   "execution_count": 75,
   "metadata": {},
   "outputs": [
    {
     "output_type": "stream",
     "name": "stdout",
     "text": [
      "[Tool('drill', 4), Tool('sander', 4), Tool('circular saw', 5), Tool('jackhammer', 40)]\n"
     ]
    }
   ],
   "source": [
    "power_tools = [\n",
    "    Tool('sander', 4),\n",
    "    Tool('drill', 4),\n",
    "    Tool('circular saw', 5),\n",
    "    Tool('jackhammer', 40),\n",
    "]\n",
    "power_tools.sort(key=lambda x: (x.weight, x.name))\n",
    "print(power_tools)"
   ]
  },
  {
   "source": [
    "weight, name모두 고려하여 정렬"
   ],
   "cell_type": "markdown",
   "metadata": {}
  },
  {
   "cell_type": "code",
   "execution_count": 79,
   "metadata": {},
   "outputs": [
    {
     "output_type": "stream",
     "name": "stdout",
     "text": [
      "[Tool('jackhammer', 40), Tool('circular saw', 5), Tool('drill', 4), Tool('sander', 4)]\n"
     ]
    }
   ],
   "source": [
    "power_tools.sort(key=lambda x: (-x.weight, x.name))\n",
    "print(power_tools)"
   ]
  },
  {
   "cell_type": "code",
   "execution_count": 80,
   "metadata": {},
   "outputs": [
    {
     "output_type": "error",
     "ename": "TypeError",
     "evalue": "bad operand type for unary -: 'str'",
     "traceback": [
      "\u001b[0;31m---------------------------------------------------------------------------\u001b[0m",
      "\u001b[0;31mTypeError\u001b[0m                                 Traceback (most recent call last)",
      "\u001b[0;32m<ipython-input-80-7a62605bf47c>\u001b[0m in \u001b[0;36m<module>\u001b[0;34m\u001b[0m\n\u001b[0;32m----> 1\u001b[0;31m \u001b[0mpower_tools\u001b[0m\u001b[0;34m.\u001b[0m\u001b[0msort\u001b[0m\u001b[0;34m(\u001b[0m\u001b[0mkey\u001b[0m\u001b[0;34m=\u001b[0m\u001b[0;32mlambda\u001b[0m \u001b[0mx\u001b[0m\u001b[0;34m:\u001b[0m \u001b[0;34m(\u001b[0m\u001b[0mx\u001b[0m\u001b[0;34m.\u001b[0m\u001b[0mweight\u001b[0m\u001b[0;34m,\u001b[0m \u001b[0;34m-\u001b[0m\u001b[0mx\u001b[0m\u001b[0;34m.\u001b[0m\u001b[0mname\u001b[0m\u001b[0;34m)\u001b[0m\u001b[0;34m)\u001b[0m\u001b[0;34m\u001b[0m\u001b[0;34m\u001b[0m\u001b[0m\n\u001b[0m\u001b[1;32m      2\u001b[0m \u001b[0mprint\u001b[0m\u001b[0;34m(\u001b[0m\u001b[0mpower_tools\u001b[0m\u001b[0;34m)\u001b[0m\u001b[0;34m\u001b[0m\u001b[0;34m\u001b[0m\u001b[0m\n",
      "\u001b[0;32m<ipython-input-80-7a62605bf47c>\u001b[0m in \u001b[0;36m<lambda>\u001b[0;34m(x)\u001b[0m\n\u001b[0;32m----> 1\u001b[0;31m \u001b[0mpower_tools\u001b[0m\u001b[0;34m.\u001b[0m\u001b[0msort\u001b[0m\u001b[0;34m(\u001b[0m\u001b[0mkey\u001b[0m\u001b[0;34m=\u001b[0m\u001b[0;32mlambda\u001b[0m \u001b[0mx\u001b[0m\u001b[0;34m:\u001b[0m \u001b[0;34m(\u001b[0m\u001b[0mx\u001b[0m\u001b[0;34m.\u001b[0m\u001b[0mweight\u001b[0m\u001b[0;34m,\u001b[0m \u001b[0;34m-\u001b[0m\u001b[0mx\u001b[0m\u001b[0;34m.\u001b[0m\u001b[0mname\u001b[0m\u001b[0;34m)\u001b[0m\u001b[0;34m)\u001b[0m\u001b[0;34m\u001b[0m\u001b[0;34m\u001b[0m\u001b[0m\n\u001b[0m\u001b[1;32m      2\u001b[0m \u001b[0mprint\u001b[0m\u001b[0;34m(\u001b[0m\u001b[0mpower_tools\u001b[0m\u001b[0;34m)\u001b[0m\u001b[0;34m\u001b[0m\u001b[0;34m\u001b[0m\u001b[0m\n",
      "\u001b[0;31mTypeError\u001b[0m: bad operand type for unary -: 'str'"
     ]
    }
   ],
   "source": [
    "power_tools.sort(key=lambda x: (x.weight, -x.name))\n",
    "print(power_tools)"
   ]
  },
  {
   "source": [
    "- string에는 -가 정의되어 있지 않다 -> operator overriding을 통해 해결할 수 있다"
   ],
   "cell_type": "markdown",
   "metadata": {}
  },
  {
   "source": [
    "power_tools.sort(key=lambda x: x.name) # Name ascending\n",
    "print(power_tools)\n",
    "power_tools.sort(key=lambda x: x.weight, reverse=True) # Weight descending\n",
    "print(power_tools)"
   ],
   "cell_type": "code",
   "metadata": {},
   "execution_count": null,
   "outputs": []
  },
  {
   "source": [
    "- 파이썬의 built in data type은 sorting method를 제공한다\n",
    "- The unary minus operator can be used to reverse individual sort orders for types that allow it."
   ],
   "cell_type": "markdown",
   "metadata": {}
  },
  {
   "source": [
    "## \\[Item 15\\] Be Cautious When Relying on dict Insertion Ordering"
   ],
   "cell_type": "markdown",
   "metadata": {}
  },
  {
   "cell_type": "code",
   "execution_count": 92,
   "metadata": {},
   "outputs": [
    {
     "output_type": "stream",
     "name": "stdout",
     "text": [
      "{'dog': 'puppy', 'cat': 'kitten'}\n"
     ]
    }
   ],
   "source": [
    "baby_names = {\n",
    "    'dog': 'puppy',\n",
    "    'cat': 'kitten',\n",
    "}\n",
    "print(baby_names)"
   ]
  },
  {
   "cell_type": "code",
   "execution_count": 101,
   "metadata": {
    "tags": []
   },
   "outputs": [
    {
     "output_type": "stream",
     "name": "stdout",
     "text": [
      "goose = gosling\nkangaroo = joey\n"
     ]
    }
   ],
   "source": [
    "def my_func(**kwargs):\n",
    "    for key, value in kwargs.items():\n",
    "        print('%s = %s' % (key, value))\n",
    "        \n",
    "my_func(goose='gosling', kangaroo='joey')\n"
   ]
  },
  {
   "cell_type": "code",
   "execution_count": 102,
   "metadata": {},
   "outputs": [
    {
     "output_type": "stream",
     "name": "stdout",
     "text": [
      "goose = gosling\nkangaroo = joey\n"
     ]
    }
   ],
   "source": [
    "def my_func(**kwargs):\n",
    "    for key, value in kwargs.items():\n",
    "        print(f'{key} = {value}')\n",
    "        \n",
    "my_func(goose='gosling', kangaroo='joey')"
   ]
  },
  {
   "cell_type": "code",
   "execution_count": 103,
   "metadata": {},
   "outputs": [
    {
     "output_type": "stream",
     "name": "stdout",
     "text": [
      "alligator = hatchling\nelephant = calf\n"
     ]
    }
   ],
   "source": [
    "# Python 3.5\n",
    "class MyClass:\n",
    "    def __init__(self):\n",
    "        self.alligator = 'hatchling'\n",
    "        self.elephant = 'calf'\n",
    "\n",
    "a = MyClass()\n",
    "for key, value in a.__dict__.items():\n",
    "    print('%s = %s' % (key, value))"
   ]
  },
  {
   "source": [
    "- Python is not statically typed, so most code relies on duck typing —where an object’s behavior is its de facto type—instead of rigid class hierarchies."
   ],
   "cell_type": "markdown",
   "metadata": {}
  },
  {
   "cell_type": "code",
   "execution_count": 104,
   "metadata": {},
   "outputs": [],
   "source": [
    "votes = { 'otter': 1281, 'polar bear': 587, 'fox': 863 }"
   ]
  },
  {
   "cell_type": "code",
   "execution_count": 105,
   "metadata": {},
   "outputs": [],
   "source": [
    "def populate_ranks(votes, ranks):\n",
    "    names = list(votes.keys())\n",
    "    names.sort(key=votes.get, reverse=True)\n",
    "    for i, name in enumerate(names, 1):\n",
    "        ranks[name] = i"
   ]
  },
  {
   "cell_type": "code",
   "execution_count": 108,
   "metadata": {},
   "outputs": [],
   "source": [
    "def get_winner(ranks):\n",
    "    return next(iter(ranks))"
   ]
  },
  {
   "cell_type": "code",
   "execution_count": 109,
   "metadata": {},
   "outputs": [
    {
     "output_type": "stream",
     "name": "stdout",
     "text": [
      "{'otter': 1, 'fox': 2, 'polar bear': 3}\notter\n"
     ]
    }
   ],
   "source": [
    "ranks = {}\n",
    "populate_ranks(votes, ranks)\n",
    "print(ranks)\n",
    "winner = get_winner(ranks)\n",
    "print(winner)"
   ]
  },
  {
   "cell_type": "code",
   "execution_count": 111,
   "metadata": {},
   "outputs": [],
   "source": [
    "from collections.abc import MutableMapping\n",
    "class SortedDict(MutableMapping):\n",
    "    def __init__(self):\n",
    "        self.data = {}\n",
    "    def __getitem__(self, key):\n",
    "        return self.data[key]\n",
    "\n",
    "    def __setitem__(self, key, value):\n",
    "        self.data[key] = value\n",
    "    def __delitem__(self, key):\n",
    "        del self.data[key]\n",
    "`\n",
    "    def __iter__(self):\n",
    "        keys = list(self.data.keys())\n",
    "        keys.sort()\n",
    "        for key in keys:\n",
    "            yield key\n",
    "\n",
    "    def __len__(self):\n",
    "        return len(self.data)"
   ]
  },
  {
   "cell_type": "code",
   "execution_count": 113,
   "metadata": {},
   "outputs": [
    {
     "output_type": "stream",
     "name": "stdout",
     "text": [
      "{'otter': 1, 'fox': 2, 'polar bear': 3}\nfox\n"
     ]
    }
   ],
   "source": [
    "sorted_ranks = SortedDict()\n",
    "populate_ranks(votes, sorted_ranks)\n",
    "print(sorted_ranks.data)\n",
    "winner = get_winner(sorted_ranks)\n",
    "print(winner) "
   ]
  },
  {
   "cell_type": "code",
   "execution_count": 114,
   "metadata": {},
   "outputs": [
    {
     "output_type": "stream",
     "name": "stdout",
     "text": [
      "otter\n"
     ]
    }
   ],
   "source": [
    "# Solution 1\n",
    "def get_winner(ranks):\n",
    "    for name, rank in ranks.items():\n",
    "        if rank == 1:\n",
    "            return name\n",
    "winner = get_winner(sorted_ranks)\n",
    "print(winner)   "
   ]
  },
  {
   "cell_type": "code",
   "execution_count": 115,
   "metadata": {},
   "outputs": [
    {
     "output_type": "error",
     "ename": "TypeError",
     "evalue": "must provide a dict instance",
     "traceback": [
      "\u001b[0;31m---------------------------------------------------------------------------\u001b[0m",
      "\u001b[0;31mTypeError\u001b[0m                                 Traceback (most recent call last)",
      "\u001b[0;32m<ipython-input-115-d5fb4efe9097>\u001b[0m in \u001b[0;36m<module>\u001b[0;34m\u001b[0m\n\u001b[1;32m      4\u001b[0m         \u001b[0;32mraise\u001b[0m \u001b[0mTypeError\u001b[0m\u001b[0;34m(\u001b[0m\u001b[0;34m'must provide a dict instance'\u001b[0m\u001b[0;34m)\u001b[0m\u001b[0;34m\u001b[0m\u001b[0;34m\u001b[0m\u001b[0m\n\u001b[1;32m      5\u001b[0m     \u001b[0;32mreturn\u001b[0m \u001b[0mnext\u001b[0m\u001b[0;34m(\u001b[0m\u001b[0miter\u001b[0m\u001b[0;34m(\u001b[0m\u001b[0mranks\u001b[0m\u001b[0;34m)\u001b[0m\u001b[0;34m)\u001b[0m\u001b[0;34m\u001b[0m\u001b[0;34m\u001b[0m\u001b[0m\n\u001b[0;32m----> 6\u001b[0;31m \u001b[0mget_winner\u001b[0m\u001b[0;34m(\u001b[0m\u001b[0msorted_ranks\u001b[0m\u001b[0;34m)\u001b[0m\u001b[0;34m\u001b[0m\u001b[0;34m\u001b[0m\u001b[0m\n\u001b[0m",
      "\u001b[0;32m<ipython-input-115-d5fb4efe9097>\u001b[0m in \u001b[0;36mget_winner\u001b[0;34m(ranks)\u001b[0m\n\u001b[1;32m      2\u001b[0m \u001b[0;32mdef\u001b[0m \u001b[0mget_winner\u001b[0m\u001b[0;34m(\u001b[0m\u001b[0mranks\u001b[0m\u001b[0;34m)\u001b[0m\u001b[0;34m:\u001b[0m\u001b[0;34m\u001b[0m\u001b[0;34m\u001b[0m\u001b[0m\n\u001b[1;32m      3\u001b[0m     \u001b[0;32mif\u001b[0m \u001b[0;32mnot\u001b[0m \u001b[0misinstance\u001b[0m\u001b[0;34m(\u001b[0m\u001b[0mranks\u001b[0m\u001b[0;34m,\u001b[0m \u001b[0mdict\u001b[0m\u001b[0;34m)\u001b[0m\u001b[0;34m:\u001b[0m\u001b[0;34m\u001b[0m\u001b[0;34m\u001b[0m\u001b[0m\n\u001b[0;32m----> 4\u001b[0;31m         \u001b[0;32mraise\u001b[0m \u001b[0mTypeError\u001b[0m\u001b[0;34m(\u001b[0m\u001b[0;34m'must provide a dict instance'\u001b[0m\u001b[0;34m)\u001b[0m\u001b[0;34m\u001b[0m\u001b[0;34m\u001b[0m\u001b[0m\n\u001b[0m\u001b[1;32m      5\u001b[0m     \u001b[0;32mreturn\u001b[0m \u001b[0mnext\u001b[0m\u001b[0;34m(\u001b[0m\u001b[0miter\u001b[0m\u001b[0;34m(\u001b[0m\u001b[0mranks\u001b[0m\u001b[0;34m)\u001b[0m\u001b[0;34m)\u001b[0m\u001b[0;34m\u001b[0m\u001b[0;34m\u001b[0m\u001b[0m\n\u001b[1;32m      6\u001b[0m \u001b[0mget_winner\u001b[0m\u001b[0;34m(\u001b[0m\u001b[0msorted_ranks\u001b[0m\u001b[0;34m)\u001b[0m\u001b[0;34m\u001b[0m\u001b[0;34m\u001b[0m\u001b[0m\n",
      "\u001b[0;31mTypeError\u001b[0m: must provide a dict instance"
     ]
    }
   ],
   "source": [
    "# Solution 2\n",
    "def get_winner(ranks):\n",
    "    if not isinstance(ranks, dict):\n",
    "        raise TypeError('must provide a dict instance')\n",
    "    return next(iter(ranks))\n",
    "get_winner(sorted_ranks)"
   ]
  }
 ]
}